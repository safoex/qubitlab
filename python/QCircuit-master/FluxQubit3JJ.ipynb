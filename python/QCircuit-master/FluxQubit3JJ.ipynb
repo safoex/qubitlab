{
 "cells": [
  {
   "cell_type": "code",
   "execution_count": 2,
   "metadata": {
    "collapsed": false
   },
   "outputs": [],
   "source": [
    "import numpy as np\n",
    "from scipy.sparse.linalg import *\n",
    "from scipy.constants import *\n",
    "from matplotlib import pyplot as plt\n",
    "from scipy.spatial import Delaunay\n",
    "from scipy.interpolate import griddata\n",
    "from AdaptiveParametricSpaceMapper import *\n",
    "from QCircuit import *\n",
    "%matplotlib inline"
   ]
  },
  {
   "cell_type": "code",
   "execution_count": 2,
   "metadata": {
    "collapsed": false
   },
   "outputs": [
    {
     "ename": "NameError",
     "evalue": "name 'QCircuit' is not defined",
     "output_type": "error",
     "traceback": [
      "\u001b[0;31m---------------------------------------------------------------------------\u001b[0m",
      "\u001b[0;31mNameError\u001b[0m                                 Traceback (most recent call last)",
      "\u001b[0;32m<ipython-input-2-88fc58735009>\u001b[0m in \u001b[0;36m<module>\u001b[0;34m()\u001b[0m\n\u001b[0;32m----> 1\u001b[0;31m \u001b[0mFQ3JJ\u001b[0m \u001b[0;34m=\u001b[0m \u001b[0mQCircuit\u001b[0m\u001b[0;34m(\u001b[0m\u001b[0;34m)\u001b[0m\u001b[0;34m\u001b[0m\u001b[0m\n\u001b[0m\u001b[1;32m      2\u001b[0m \u001b[0mFQ3JJ\u001b[0m\u001b[0;34m.\u001b[0m\u001b[0madd_element\u001b[0m\u001b[0;34m(\u001b[0m\u001b[0mQJosephsonJunction\u001b[0m\u001b[0;34m(\u001b[0m\u001b[0;34m'JJ1'\u001b[0m\u001b[0;34m)\u001b[0m\u001b[0;34m,\u001b[0m \u001b[0;34m[\u001b[0m\u001b[0;34m'GND'\u001b[0m\u001b[0;34m,\u001b[0m \u001b[0;34m'1'\u001b[0m\u001b[0;34m]\u001b[0m\u001b[0;34m)\u001b[0m\u001b[0;34m\u001b[0m\u001b[0m\n\u001b[1;32m      3\u001b[0m \u001b[0mFQ3JJ\u001b[0m\u001b[0;34m.\u001b[0m\u001b[0madd_element\u001b[0m\u001b[0;34m(\u001b[0m\u001b[0mQJosephsonJunction\u001b[0m\u001b[0;34m(\u001b[0m\u001b[0;34m'JJ2'\u001b[0m\u001b[0;34m)\u001b[0m\u001b[0;34m,\u001b[0m \u001b[0;34m[\u001b[0m\u001b[0;34m'1'\u001b[0m\u001b[0;34m,\u001b[0m \u001b[0;34m'2'\u001b[0m\u001b[0;34m]\u001b[0m\u001b[0;34m)\u001b[0m\u001b[0;34m\u001b[0m\u001b[0m\n\u001b[1;32m      4\u001b[0m \u001b[0mFQ3JJ\u001b[0m\u001b[0;34m.\u001b[0m\u001b[0madd_element\u001b[0m\u001b[0;34m(\u001b[0m\u001b[0mQJosephsonJunction\u001b[0m\u001b[0;34m(\u001b[0m\u001b[0;34m'JJ3'\u001b[0m\u001b[0;34m)\u001b[0m\u001b[0;34m,\u001b[0m \u001b[0;34m[\u001b[0m\u001b[0;34m'2'\u001b[0m\u001b[0;34m,\u001b[0m \u001b[0;34m'3'\u001b[0m\u001b[0;34m]\u001b[0m\u001b[0;34m)\u001b[0m\u001b[0;34m\u001b[0m\u001b[0m\n\u001b[1;32m      5\u001b[0m \u001b[0mFQ3JJ\u001b[0m\u001b[0;34m.\u001b[0m\u001b[0madd_element\u001b[0m\u001b[0;34m(\u001b[0m\u001b[0mQCapacitance\u001b[0m\u001b[0;34m(\u001b[0m\u001b[0;34m'C1'\u001b[0m\u001b[0;34m)\u001b[0m\u001b[0;34m,\u001b[0m \u001b[0;34m[\u001b[0m\u001b[0;34m'GND'\u001b[0m\u001b[0;34m,\u001b[0m \u001b[0;34m'1'\u001b[0m\u001b[0;34m]\u001b[0m\u001b[0;34m)\u001b[0m\u001b[0;34m\u001b[0m\u001b[0m\n",
      "\u001b[0;31mNameError\u001b[0m: name 'QCircuit' is not defined"
     ]
    }
   ],
   "source": [
    "FQ3JJ = QCircuit()\n",
    "FQ3JJ.add_element(QJosephsonJunction('JJ1'), ['GND', '1'])\n",
    "FQ3JJ.add_element(QJosephsonJunction('JJ2'), ['1', '2'])\n",
    "FQ3JJ.add_element(QJosephsonJunction('JJ3'), ['2', '3'])\n",
    "FQ3JJ.add_element(QCapacitance('C1'), ['GND', '1'])\n",
    "FQ3JJ.add_element(QCapacitance('C2'), ['1', '2'])\n",
    "FQ3JJ.add_element(QCapacitance('C3'), ['2', '3'])\n",
    "        \n",
    "phi1 = QVariable('phi1')\n",
    "phi2 = QVariable('phi2')\n",
    "phix = QVariable('phix')\n",
    "phi1.create_grid(32, 1)\n",
    "phi2.create_grid(32, 1)\n",
    "FQ3JJ.add_variable(phi1)\n",
    "FQ3JJ.add_variable(phi2)\n",
    "FQ3JJ.add_variable(phix)\n",
    "FQ3JJ.map_nodes_linear(['GND', '1', '2', '3'], \n",
    "                       ['phi1', 'phi2', 'phix'], \n",
    "                       np.asarray([[0,0,0],[1,0,0],[1,1,0],[0,0,1]]))\n",
    "\n",
    "EjEc_ratio_steps = 16\n",
    "alpha_steps = 1\n",
    "flux_steps = 16\n",
    "energies = np.zeros((EjEc_ratio_steps,alpha_steps,flux_steps,2), dtype=np.complex128)\n",
    "Ej = 1e9\n",
    "Ec = 4*1e9\n",
    "FQ3JJ.find_element('JJ1').set_critical_current(Ej)\n",
    "FQ3JJ.find_element('JJ2').set_critical_current(Ej)\n",
    "FQ3JJ.find_element('C1').set_capacitance(2/Ec)\n",
    "FQ3JJ.find_element('C2').set_capacitance(2/Ec)\n",
    "alpha = 0.8\n",
    "FQ3JJ.find_element('JJ3').set_critical_current(Ej*alpha)\n",
    "FQ3JJ.find_element('C3').set_capacitance(2*alpha/Ec)\n",
    "phix.set_parameter(np.pi, 0)\n",
    "print(FQ3JJ.symbolic_hamiltonian()) \n",
    "U = FQ3JJ.symbolic_hamiltonian(False)\n",
    "calc = sympy.lambdify({\"phi1\",\"phi2\",\"phix\"},U,'numpy')\n",
    "\n",
    "phi_steps = 256\n",
    "phi_space = np.linspace(-3,3,phi_steps)\n",
    "\n",
    "teta_steps = 256\n",
    "teta_space = np.linspace(-3,3,teta_steps)\n",
    "\n",
    "phi_grid, teta_grid = np.meshgrid(phi_space, teta_space)\n",
    "\n",
    "calc_grid = calc(phi1 = teta_grid,phi2  = phi_grid, phix = np.pi)\n",
    "FQ3JJ.calculate_potentials()\n",
    "[eigenenergies,eigenfunctions] = FQ3JJ.diagonalize_phase(num_states = 4)\n",
    "en = eigenenergies\n",
    "print(en)\n",
    "plt.plot(phi_space, calc(phi1 = phi_space, phi2 = phi_space, phix = np.pi))\n",
    "for e in en:\n",
    "    plt.plot(phi_space, e*np.ones_like(phi_space))"
   ]
  },
  {
   "cell_type": "code",
   "execution_count": 16,
   "metadata": {
    "collapsed": false
   },
   "outputs": [],
   "source": [
    "FQ3JJ = QCircuit()\n",
    "FQ3JJ.add_element(QJosephsonJunction('JJ1'), ['GND', '1'])\n",
    "FQ3JJ.add_element(QJosephsonJunction('JJ2'), ['1', '2'])\n",
    "FQ3JJ.add_element(QJosephsonJunction('JJ3'), ['2', '3'])\n",
    "FQ3JJ.add_element(QCapacitance('C1'), ['GND', '1'])\n",
    "FQ3JJ.add_element(QCapacitance('C2'), ['1', '2'])\n",
    "FQ3JJ.add_element(QCapacitance('C3'), ['2', '3'])\n",
    "        \n",
    "phi1 = QVariable('φ1')\n",
    "phi2 = QVariable('φ2')\n",
    "phix = QVariable('φx')\n",
    "phi1.create_grid(32, 1)\n",
    "phi2.create_grid(32, 1)\n",
    "FQ3JJ.add_variable(phi1)\n",
    "FQ3JJ.add_variable(phi2)\n",
    "FQ3JJ.add_variable(phix)\n",
    "FQ3JJ.map_nodes_linear(['GND', '1', '2', '3'], \n",
    "                       ['φ1', 'φ2', 'φx'], \n",
    "                       np.asarray([[0,0,0],[1,0,0],[1,1,0],[0,0,1]]))\n",
    "\n",
    "def CalcSingleGap(parameters):\n",
    "    Ej = 10**parameters[0]\n",
    "    Ec = 2e9\n",
    "    alpha = parameters[1]\n",
    "    qubit_flux = parameters[2]\n",
    "    FQ3JJ.find_element('JJ1').set_critical_current(Ej)\n",
    "    FQ3JJ.find_element('JJ2').set_critical_current(Ej)\n",
    "    FQ3JJ.find_element('C1').set_capacitance(2/Ec)\n",
    "    FQ3JJ.find_element('C2').set_capacitance(2/Ec)\n",
    "    FQ3JJ.find_element('JJ3').set_critical_current(Ej*alpha)\n",
    "    FQ3JJ.find_element('C3').set_capacitance(2*alpha/Ec)   \n",
    "    phix.set_parameter(qubit_flux, 0)\n",
    "    FQ3JJ.calculate_potentials()\n",
    "    [eigenenergies, eigenfunctions] = FQ3JJ.diagonalize_phase()\n",
    "    print('Ej: {0:8.3g}, Ec: {1:8.3g}, alpha: {2:8.3g}, flux: {3:8.3g}. Gap: {4:8.3g}'.format(\n",
    "            Ej, Ec, alpha, qubit_flux, np.abs(eigenenergies[1]-eigenenergies[0])))\n",
    "    return eigenenergies\n",
    "\n",
    "GapMapper = AdaptiveParametricSpaceMapper([('Ej', 9, 12), \n",
    "                                           ('alpha', 0.5, 1.0), \n",
    "                                           ('qubit_flux', 0, 2*np.pi)], \n",
    "                                            CalcSingleGap, \n",
    "                                            lambda x: np.log10(np.abs(x[:,1]-x[:,0])))"
   ]
  },
  {
   "cell_type": "code",
   "execution_count": null,
   "metadata": {
    "collapsed": false
   },
   "outputs": [],
   "source": [
    "GapMapper.run(max_vertices = 2000)"
   ]
  },
  {
   "cell_type": "code",
   "execution_count": 17,
   "metadata": {
    "collapsed": false
   },
   "outputs": [
    {
     "ename": "ValueError",
     "evalue": "different number of values and points",
     "output_type": "error",
     "traceback": [
      "\u001b[0;31m---------------------------------------------------------------------------\u001b[0m",
      "\u001b[0;31mValueError\u001b[0m                                Traceback (most recent call last)",
      "\u001b[0;32m<ipython-input-17-465d70704a12>\u001b[0m in \u001b[0;36m<module>\u001b[0;34m()\u001b[0m\n\u001b[1;32m      1\u001b[0m \u001b[0mresGrid\u001b[0m \u001b[0;34m=\u001b[0m \u001b[0mnp\u001b[0m\u001b[0;34m.\u001b[0m\u001b[0masarray\u001b[0m\u001b[0;34m(\u001b[0m\u001b[0mnp\u001b[0m\u001b[0;34m.\u001b[0m\u001b[0mmeshgrid\u001b[0m\u001b[0;34m(\u001b[0m\u001b[0mnp\u001b[0m\u001b[0;34m.\u001b[0m\u001b[0mlinspace\u001b[0m\u001b[0;34m(\u001b[0m\u001b[0;36m9\u001b[0m\u001b[0;34m,\u001b[0m \u001b[0;36m12\u001b[0m\u001b[0;34m,\u001b[0m \u001b[0;36m50\u001b[0m\u001b[0;34m)\u001b[0m\u001b[0;34m,\u001b[0m \u001b[0mnp\u001b[0m\u001b[0;34m.\u001b[0m\u001b[0mlinspace\u001b[0m\u001b[0;34m(\u001b[0m\u001b[0;36m0.5\u001b[0m\u001b[0;34m,\u001b[0m \u001b[0;36m1.0\u001b[0m\u001b[0;34m,\u001b[0m \u001b[0;36m50\u001b[0m\u001b[0;34m)\u001b[0m\u001b[0;34m,\u001b[0m \u001b[0mnp\u001b[0m\u001b[0;34m.\u001b[0m\u001b[0mlinspace\u001b[0m\u001b[0;34m(\u001b[0m\u001b[0mnp\u001b[0m\u001b[0;34m.\u001b[0m\u001b[0mpi\u001b[0m\u001b[0;34m,\u001b[0m \u001b[0mnp\u001b[0m\u001b[0;34m.\u001b[0m\u001b[0mpi\u001b[0m\u001b[0;34m,\u001b[0m \u001b[0;36m1\u001b[0m\u001b[0;34m)\u001b[0m\u001b[0;34m)\u001b[0m\u001b[0;34m)\u001b[0m\u001b[0;34m\u001b[0m\u001b[0m\n\u001b[1;32m      2\u001b[0m \u001b[0mresGridLin\u001b[0m \u001b[0;34m=\u001b[0m \u001b[0mnp\u001b[0m\u001b[0;34m.\u001b[0m\u001b[0mreshape\u001b[0m\u001b[0;34m(\u001b[0m\u001b[0mresGrid\u001b[0m\u001b[0;34m,\u001b[0m \u001b[0;34m(\u001b[0m\u001b[0;36m3\u001b[0m\u001b[0;34m,\u001b[0m\u001b[0;36m50\u001b[0m\u001b[0;34m*\u001b[0m\u001b[0;36m50\u001b[0m\u001b[0;34m)\u001b[0m\u001b[0;34m)\u001b[0m\u001b[0;34m.\u001b[0m\u001b[0mT\u001b[0m\u001b[0;34m\u001b[0m\u001b[0m\n\u001b[0;32m----> 3\u001b[0;31m \u001b[0mdataLin\u001b[0m \u001b[0;34m=\u001b[0m \u001b[0mgriddata\u001b[0m\u001b[0;34m(\u001b[0m\u001b[0mGapMapper\u001b[0m\u001b[0;34m.\u001b[0m\u001b[0mvertices\u001b[0m\u001b[0;34m,\u001b[0m \u001b[0mGapMapper\u001b[0m\u001b[0;34m.\u001b[0m\u001b[0mfunvals\u001b[0m\u001b[0;34m,\u001b[0m \u001b[0mGapMapper\u001b[0m\u001b[0;34m.\u001b[0m\u001b[0minverse_rescale_parameters_multiple\u001b[0m\u001b[0;34m(\u001b[0m\u001b[0mresGridLin\u001b[0m\u001b[0;34m)\u001b[0m\u001b[0;34m)\u001b[0m\u001b[0;34m\u001b[0m\u001b[0m\n\u001b[0m\u001b[1;32m      4\u001b[0m \u001b[0;31m#print(GapMapper.vertices.shape)\u001b[0m\u001b[0;34m\u001b[0m\u001b[0;34m\u001b[0m\u001b[0m\n\u001b[1;32m      5\u001b[0m \u001b[0mplt\u001b[0m\u001b[0;34m.\u001b[0m\u001b[0mpcolor\u001b[0m\u001b[0;34m(\u001b[0m\u001b[0mnp\u001b[0m\u001b[0;34m.\u001b[0m\u001b[0mlog10\u001b[0m\u001b[0;34m(\u001b[0m\u001b[0mnp\u001b[0m\u001b[0;34m.\u001b[0m\u001b[0mreshape\u001b[0m\u001b[0;34m(\u001b[0m\u001b[0mdataLin\u001b[0m\u001b[0;34m[\u001b[0m\u001b[0;34m:\u001b[0m\u001b[0;34m,\u001b[0m\u001b[0;36m1\u001b[0m\u001b[0;34m]\u001b[0m\u001b[0;34m-\u001b[0m\u001b[0mdataLin\u001b[0m\u001b[0;34m[\u001b[0m\u001b[0;34m:\u001b[0m\u001b[0;34m,\u001b[0m\u001b[0;36m0\u001b[0m\u001b[0;34m]\u001b[0m\u001b[0;34m,\u001b[0m \u001b[0;34m(\u001b[0m\u001b[0;36m50\u001b[0m\u001b[0;34m,\u001b[0m\u001b[0;36m50\u001b[0m\u001b[0;34m)\u001b[0m\u001b[0;34m)\u001b[0m\u001b[0;34m)\u001b[0m\u001b[0;34m)\u001b[0m\u001b[0;34m\u001b[0m\u001b[0m\n",
      "\u001b[0;32m/usr/local/lib/python3.4/dist-packages/scipy/interpolate/ndgriddata.py\u001b[0m in \u001b[0;36mgriddata\u001b[0;34m(points, values, xi, method, fill_value, rescale)\u001b[0m\n\u001b[1;32m    215\u001b[0m     \u001b[0;32melif\u001b[0m \u001b[0mmethod\u001b[0m \u001b[0;34m==\u001b[0m \u001b[0;34m'linear'\u001b[0m\u001b[0;34m:\u001b[0m\u001b[0;34m\u001b[0m\u001b[0m\n\u001b[1;32m    216\u001b[0m         ip = LinearNDInterpolator(points, values, fill_value=fill_value,\n\u001b[0;32m--> 217\u001b[0;31m                                   rescale=rescale)\n\u001b[0m\u001b[1;32m    218\u001b[0m         \u001b[0;32mreturn\u001b[0m \u001b[0mip\u001b[0m\u001b[0;34m(\u001b[0m\u001b[0mxi\u001b[0m\u001b[0;34m)\u001b[0m\u001b[0;34m\u001b[0m\u001b[0m\n\u001b[1;32m    219\u001b[0m     \u001b[0;32melif\u001b[0m \u001b[0mmethod\u001b[0m \u001b[0;34m==\u001b[0m \u001b[0;34m'cubic'\u001b[0m \u001b[0;32mand\u001b[0m \u001b[0mndim\u001b[0m \u001b[0;34m==\u001b[0m \u001b[0;36m2\u001b[0m\u001b[0;34m:\u001b[0m\u001b[0;34m\u001b[0m\u001b[0m\n",
      "\u001b[0;32mscipy/interpolate/interpnd.pyx\u001b[0m in \u001b[0;36mscipy.interpolate.interpnd.LinearNDInterpolator.__init__ (scipy/interpolate/interpnd.c:5059)\u001b[0;34m()\u001b[0m\n",
      "\u001b[0;32mscipy/interpolate/interpnd.pyx\u001b[0m in \u001b[0;36mscipy.interpolate.interpnd.NDInterpolatorBase.__init__ (scipy/interpolate/interpnd.c:2551)\u001b[0;34m()\u001b[0m\n",
      "\u001b[0;32mscipy/interpolate/interpnd.pyx\u001b[0m in \u001b[0;36mscipy.interpolate.interpnd._check_init_shape (scipy/interpolate/interpnd.c:4690)\u001b[0;34m()\u001b[0m\n",
      "\u001b[0;31mValueError\u001b[0m: different number of values and points"
     ]
    }
   ],
   "source": [
    "resGrid = np.asarray(np.meshgrid(np.linspace(9, 12, 50), np.linspace(0.5, 1.0, 50), np.linspace(np.pi, np.pi, 1)))\n",
    "resGridLin = np.reshape(resGrid, (3,50*50)).T\n",
    "dataLin = griddata(GapMapper.vertices, GapMapper.funvals, GapMapper.inverse_rescale_parameters_multiple(resGridLin))\n",
    "#print(GapMapper.vertices.shape)\n",
    "plt.pcolor(np.log10(np.reshape(dataLin[:,1]-dataLin[:,0], (50,50))))"
   ]
  },
  {
   "cell_type": "code",
   "execution_count": null,
   "metadata": {
    "collapsed": true
   },
   "outputs": [],
   "source": []
  }
 ],
 "metadata": {
  "kernelspec": {
   "display_name": "Python 3",
   "language": "python",
   "name": "python3"
  },
  "language_info": {
   "codemirror_mode": {
    "name": "ipython",
    "version": 3
   },
   "file_extension": ".py",
   "mimetype": "text/x-python",
   "name": "python",
   "nbconvert_exporter": "python",
   "pygments_lexer": "ipython3",
   "version": "3.5.2"
  }
 },
 "nbformat": 4,
 "nbformat_minor": 0
}
