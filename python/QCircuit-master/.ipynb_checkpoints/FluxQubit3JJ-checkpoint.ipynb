{
 "cells": [
  {
   "cell_type": "code",
   "execution_count": 1,
   "metadata": {
    "collapsed": false
   },
   "outputs": [],
   "source": [
    "import numpy as np\n",
    "from scipy.sparse.linalg import *\n",
    "from scipy.constants import *\n",
    "from matplotlib import pyplot as plt\n",
    "from scipy.spatial import Delaunay\n",
    "from scipy.interpolate import griddata\n",
    "from AdaptiveParametricSpaceMapper import *\n",
    "from QCircuit import *\n",
    "%matplotlib inline"
   ]
  },
  {
   "cell_type": "code",
   "execution_count": 2,
   "metadata": {
    "collapsed": false
   },
   "outputs": [
    {
     "ename": "AttributeError",
     "evalue": "'QVariable' object has no attribute 'variable_type'",
     "output_type": "error",
     "traceback": [
      "\u001b[0;31m---------------------------------------------------------------------------\u001b[0m",
      "\u001b[0;31mAttributeError\u001b[0m                            Traceback (most recent call last)",
      "\u001b[0;32m<ipython-input-2-a02f1ec1f9e1>\u001b[0m in \u001b[0;36m<module>\u001b[0;34m()\u001b[0m\n\u001b[1;32m     33\u001b[0m \u001b[0mFQ3JJ\u001b[0m\u001b[0;34m.\u001b[0m\u001b[0mfind_element\u001b[0m\u001b[0;34m(\u001b[0m\u001b[0;34m'C3'\u001b[0m\u001b[0;34m)\u001b[0m\u001b[0;34m.\u001b[0m\u001b[0mset_capacitance\u001b[0m\u001b[0;34m(\u001b[0m\u001b[0;36m2\u001b[0m\u001b[0;34m*\u001b[0m\u001b[0malpha\u001b[0m\u001b[0;34m/\u001b[0m\u001b[0mEc\u001b[0m\u001b[0;34m)\u001b[0m\u001b[0;34m\u001b[0m\u001b[0m\n\u001b[1;32m     34\u001b[0m \u001b[0;34m\u001b[0m\u001b[0m\n\u001b[0;32m---> 35\u001b[0;31m \u001b[0mprint\u001b[0m\u001b[0;34m(\u001b[0m\u001b[0mFQ3JJ\u001b[0m\u001b[0;34m.\u001b[0m\u001b[0msymbolic_hamiltonian\u001b[0m\u001b[0;34m(\u001b[0m\u001b[0;34m)\u001b[0m\u001b[0;34m)\u001b[0m\u001b[0;34m\u001b[0m\u001b[0m\n\u001b[0m\u001b[1;32m     36\u001b[0m \"\"\"for EjEc_ratio_id, EjEc_ratio in enumerate(np.logspace(1, 3, EjEc_ratio_steps)):\n\u001b[1;32m     37\u001b[0m     \u001b[0mEj\u001b[0m \u001b[0;34m=\u001b[0m \u001b[0mEjEc_ratio\u001b[0m\u001b[0;34m*\u001b[0m\u001b[0;36m1e9\u001b[0m\u001b[0;34m\u001b[0m\u001b[0m\n",
      "\u001b[0;32m/home/safoex/jupiter/QCircuit-master/QCircuit.py\u001b[0m in \u001b[0;36msymbolic_hamiltonian\u001b[0;34m(self)\u001b[0m\n\u001b[1;32m    412\u001b[0m         \u001b[0;32mfor\u001b[0m \u001b[0mvariable_id\u001b[0m\u001b[0;34m,\u001b[0m \u001b[0mvariable\u001b[0m \u001b[0;32min\u001b[0m \u001b[0menumerate\u001b[0m\u001b[0;34m(\u001b[0m\u001b[0mself\u001b[0m\u001b[0;34m.\u001b[0m\u001b[0mvariables\u001b[0m\u001b[0;34m)\u001b[0m\u001b[0;34m:\u001b[0m\u001b[0;34m\u001b[0m\u001b[0m\n\u001b[1;32m    413\u001b[0m             \u001b[0mvariable\u001b[0m\u001b[0;34m.\u001b[0m\u001b[0mphase_symbol\u001b[0m \u001b[0;34m=\u001b[0m \u001b[0msympy\u001b[0m\u001b[0;34m.\u001b[0m\u001b[0mSymbol\u001b[0m\u001b[0;34m(\u001b[0m\u001b[0mvariable\u001b[0m\u001b[0;34m.\u001b[0m\u001b[0mname\u001b[0m\u001b[0;34m)\u001b[0m\u001b[0;34m\u001b[0m\u001b[0m\n\u001b[0;32m--> 414\u001b[0;31m             \u001b[0;32mif\u001b[0m \u001b[0mvariable\u001b[0m\u001b[0;34m.\u001b[0m\u001b[0mvariable_type\u001b[0m\u001b[0;34m==\u001b[0m\u001b[0;34m'variable'\u001b[0m\u001b[0;34m:\u001b[0m\u001b[0;34m\u001b[0m\u001b[0m\n\u001b[0m\u001b[1;32m    415\u001b[0m                 \u001b[0mvariable\u001b[0m\u001b[0;34m.\u001b[0m\u001b[0mcharge_symbol\u001b[0m \u001b[0;34m=\u001b[0m \u001b[0msympy\u001b[0m\u001b[0;34m.\u001b[0m\u001b[0mSymbol\u001b[0m\u001b[0;34m(\u001b[0m\u001b[0;34m'n'\u001b[0m\u001b[0;34m+\u001b[0m\u001b[0mvariable\u001b[0m\u001b[0;34m.\u001b[0m\u001b[0mname\u001b[0m\u001b[0;34m)\u001b[0m\u001b[0;34m\u001b[0m\u001b[0m\n\u001b[1;32m    416\u001b[0m             \u001b[0;32melse\u001b[0m\u001b[0;34m:\u001b[0m\u001b[0;34m\u001b[0m\u001b[0m\n",
      "\u001b[0;31mAttributeError\u001b[0m: 'QVariable' object has no attribute 'variable_type'"
     ]
    }
   ],
   "source": [
    "FQ3JJ = QCircuit()\n",
    "FQ3JJ.add_element(QJosephsonJunction('JJ1'), ['GND', '1'])\n",
    "FQ3JJ.add_element(QJosephsonJunction('JJ2'), ['1', '2'])\n",
    "FQ3JJ.add_element(QJosephsonJunction('JJ3'), ['2', '3'])\n",
    "FQ3JJ.add_element(QCapacitance('C1'), ['GND', '1'])\n",
    "FQ3JJ.add_element(QCapacitance('C2'), ['1', '2'])\n",
    "FQ3JJ.add_element(QCapacitance('C3'), ['2', '3'])\n",
    "        \n",
    "phi1 = QVariable('φ1')\n",
    "phi2 = QVariable('φ2')\n",
    "phix = QVariable('φx')\n",
    "phi1.create_grid(32, 1)\n",
    "phi2.create_grid(32, 1)\n",
    "FQ3JJ.add_variable(phi1)\n",
    "FQ3JJ.add_variable(phi2)\n",
    "FQ3JJ.add_variable(phix)\n",
    "FQ3JJ.map_nodes_linear(['GND', '1', '2', '3'], \n",
    "                       ['φ1', 'φ2', 'φx'], \n",
    "                       np.asarray([[0,0,0],[1,0,0],[1,1,0],[0,0,1]]))\n",
    "\n",
    "EjEc_ratio_steps = 16\n",
    "alpha_steps = 1\n",
    "flux_steps = 16\n",
    "energies = np.zeros((EjEc_ratio_steps,alpha_steps,flux_steps,2), dtype=np.complex128)\n",
    "Ej = 3*1e9\n",
    "Ec = 1e9\n",
    "FQ3JJ.find_element('JJ1').set_critical_current(Ej)\n",
    "FQ3JJ.find_element('JJ2').set_critical_current(Ej)\n",
    "FQ3JJ.find_element('C1').set_capacitance(2/Ec)\n",
    "FQ3JJ.find_element('C2').set_capacitance(2/Ec)\n",
    "alpha = 0.8\n",
    "FQ3JJ.find_element('JJ3').set_critical_current(Ej*alpha)\n",
    "FQ3JJ.find_element('C3').set_capacitance(2*alpha/Ec)\n",
    "phix.set_parameter(np.pi/2, 0)\n",
    "print(FQ3JJ.symbolic_hamiltonian())    \n",
    "\"\"\"for EjEc_ratio_id, EjEc_ratio in enumerate(np.logspace(1, 3, EjEc_ratio_steps)):\n",
    "    Ej = EjEc_ratio*1e9\n",
    "    Ec = 1e9\n",
    "    FQ3JJ.find_element('JJ1').set_critical_current(Ej)\n",
    "    FQ3JJ.find_element('JJ2').set_critical_current(Ej)\n",
    "    FQ3JJ.find_element('C1').set_capacitance(2/Ec)\n",
    "    FQ3JJ.find_element('C2').set_capacitance(2/Ec)\n",
    "    for alpha_id, alpha in enumerate(np.linspace(0.7, 0.7, alpha_steps)):\n",
    "        FQ3JJ.find_element('JJ3').set_critical_current(Ej*alpha)\n",
    "        FQ3JJ.find_element('C3').set_capacitance(2*alpha/Ec)\n",
    "        for qubit_flux_id, qubit_flux in enumerate(np.linspace(0, np.pi, flux_steps)):\n",
    "            #print('EjEc_ratio id: {0: 2d}/{1: 2d}, alpha id: {2: 2d}/{3: 2d}, flux id: {4: 2d}/{5: 2d}'.format(\n",
    "            #        EjEc_ratio_id, EjEc_ratio_steps, alpha_id, alpha_steps, qubit_flux_id, flux_steps))\n",
    "            phix.set_parameter(qubit_flux, 0)\n",
    "            FQ3JJ.calculate_potentials()\n",
    "            [eigenenergies, eigenfunctions] = FQ3JJ.diagonalize_phase()\n",
    "            energies[EjEc_ratio_id, alpha_id, qubit_flux_id, :] = eigenenergies\n",
    "\"\"\""
   ]
  },
  {
   "cell_type": "code",
   "execution_count": 16,
   "metadata": {
    "collapsed": false
   },
   "outputs": [],
   "source": [
    "FQ3JJ = QCircuit()\n",
    "FQ3JJ.add_element(QJosephsonJunction('JJ1'), ['GND', '1'])\n",
    "FQ3JJ.add_element(QJosephsonJunction('JJ2'), ['1', '2'])\n",
    "FQ3JJ.add_element(QJosephsonJunction('JJ3'), ['2', '3'])\n",
    "FQ3JJ.add_element(QCapacitance('C1'), ['GND', '1'])\n",
    "FQ3JJ.add_element(QCapacitance('C2'), ['1', '2'])\n",
    "FQ3JJ.add_element(QCapacitance('C3'), ['2', '3'])\n",
    "        \n",
    "phi1 = QVariable('φ1')\n",
    "phi2 = QVariable('φ2')\n",
    "phix = QVariable('φx')\n",
    "phi1.create_grid(32, 1)\n",
    "phi2.create_grid(32, 1)\n",
    "FQ3JJ.add_variable(phi1)\n",
    "FQ3JJ.add_variable(phi2)\n",
    "FQ3JJ.add_variable(phix)\n",
    "FQ3JJ.map_nodes_linear(['GND', '1', '2', '3'], \n",
    "                       ['φ1', 'φ2', 'φx'], \n",
    "                       np.asarray([[0,0,0],[1,0,0],[1,1,0],[0,0,1]]))\n",
    "\n",
    "def CalcSingleGap(parameters):\n",
    "    Ej = 10**parameters[0]\n",
    "    Ec = 2e9\n",
    "    alpha = parameters[1]\n",
    "    qubit_flux = parameters[2]\n",
    "    FQ3JJ.find_element('JJ1').set_critical_current(Ej)\n",
    "    FQ3JJ.find_element('JJ2').set_critical_current(Ej)\n",
    "    FQ3JJ.find_element('C1').set_capacitance(2/Ec)\n",
    "    FQ3JJ.find_element('C2').set_capacitance(2/Ec)\n",
    "    FQ3JJ.find_element('JJ3').set_critical_current(Ej*alpha)\n",
    "    FQ3JJ.find_element('C3').set_capacitance(2*alpha/Ec)   \n",
    "    phix.set_parameter(qubit_flux, 0)\n",
    "    FQ3JJ.calculate_potentials()\n",
    "    [eigenenergies, eigenfunctions] = FQ3JJ.diagonalize_phase()\n",
    "    print('Ej: {0:8.3g}, Ec: {1:8.3g}, alpha: {2:8.3g}, flux: {3:8.3g}. Gap: {4:8.3g}'.format(\n",
    "            Ej, Ec, alpha, qubit_flux, np.abs(eigenenergies[1]-eigenenergies[0])))\n",
    "    return eigenenergies\n",
    "\n",
    "GapMapper = AdaptiveParametricSpaceMapper([('Ej', 9, 12), \n",
    "                                           ('alpha', 0.5, 1.0), \n",
    "                                           ('qubit_flux', 0, 2*np.pi)], \n",
    "                                            CalcSingleGap, \n",
    "                                            lambda x: np.log10(np.abs(x[:,1]-x[:,0])))"
   ]
  },
  {
   "cell_type": "code",
   "execution_count": null,
   "metadata": {
    "collapsed": false
   },
   "outputs": [],
   "source": [
    "GapMapper.run(max_vertices = 2000)"
   ]
  },
  {
   "cell_type": "code",
   "execution_count": 17,
   "metadata": {
    "collapsed": false
   },
   "outputs": [
    {
     "ename": "ValueError",
     "evalue": "different number of values and points",
     "output_type": "error",
     "traceback": [
      "\u001b[0;31m---------------------------------------------------------------------------\u001b[0m",
      "\u001b[0;31mValueError\u001b[0m                                Traceback (most recent call last)",
      "\u001b[0;32m<ipython-input-17-465d70704a12>\u001b[0m in \u001b[0;36m<module>\u001b[0;34m()\u001b[0m\n\u001b[1;32m      1\u001b[0m \u001b[0mresGrid\u001b[0m \u001b[0;34m=\u001b[0m \u001b[0mnp\u001b[0m\u001b[0;34m.\u001b[0m\u001b[0masarray\u001b[0m\u001b[0;34m(\u001b[0m\u001b[0mnp\u001b[0m\u001b[0;34m.\u001b[0m\u001b[0mmeshgrid\u001b[0m\u001b[0;34m(\u001b[0m\u001b[0mnp\u001b[0m\u001b[0;34m.\u001b[0m\u001b[0mlinspace\u001b[0m\u001b[0;34m(\u001b[0m\u001b[0;36m9\u001b[0m\u001b[0;34m,\u001b[0m \u001b[0;36m12\u001b[0m\u001b[0;34m,\u001b[0m \u001b[0;36m50\u001b[0m\u001b[0;34m)\u001b[0m\u001b[0;34m,\u001b[0m \u001b[0mnp\u001b[0m\u001b[0;34m.\u001b[0m\u001b[0mlinspace\u001b[0m\u001b[0;34m(\u001b[0m\u001b[0;36m0.5\u001b[0m\u001b[0;34m,\u001b[0m \u001b[0;36m1.0\u001b[0m\u001b[0;34m,\u001b[0m \u001b[0;36m50\u001b[0m\u001b[0;34m)\u001b[0m\u001b[0;34m,\u001b[0m \u001b[0mnp\u001b[0m\u001b[0;34m.\u001b[0m\u001b[0mlinspace\u001b[0m\u001b[0;34m(\u001b[0m\u001b[0mnp\u001b[0m\u001b[0;34m.\u001b[0m\u001b[0mpi\u001b[0m\u001b[0;34m,\u001b[0m \u001b[0mnp\u001b[0m\u001b[0;34m.\u001b[0m\u001b[0mpi\u001b[0m\u001b[0;34m,\u001b[0m \u001b[0;36m1\u001b[0m\u001b[0;34m)\u001b[0m\u001b[0;34m)\u001b[0m\u001b[0;34m)\u001b[0m\u001b[0;34m\u001b[0m\u001b[0m\n\u001b[1;32m      2\u001b[0m \u001b[0mresGridLin\u001b[0m \u001b[0;34m=\u001b[0m \u001b[0mnp\u001b[0m\u001b[0;34m.\u001b[0m\u001b[0mreshape\u001b[0m\u001b[0;34m(\u001b[0m\u001b[0mresGrid\u001b[0m\u001b[0;34m,\u001b[0m \u001b[0;34m(\u001b[0m\u001b[0;36m3\u001b[0m\u001b[0;34m,\u001b[0m\u001b[0;36m50\u001b[0m\u001b[0;34m*\u001b[0m\u001b[0;36m50\u001b[0m\u001b[0;34m)\u001b[0m\u001b[0;34m)\u001b[0m\u001b[0;34m.\u001b[0m\u001b[0mT\u001b[0m\u001b[0;34m\u001b[0m\u001b[0m\n\u001b[0;32m----> 3\u001b[0;31m \u001b[0mdataLin\u001b[0m \u001b[0;34m=\u001b[0m \u001b[0mgriddata\u001b[0m\u001b[0;34m(\u001b[0m\u001b[0mGapMapper\u001b[0m\u001b[0;34m.\u001b[0m\u001b[0mvertices\u001b[0m\u001b[0;34m,\u001b[0m \u001b[0mGapMapper\u001b[0m\u001b[0;34m.\u001b[0m\u001b[0mfunvals\u001b[0m\u001b[0;34m,\u001b[0m \u001b[0mGapMapper\u001b[0m\u001b[0;34m.\u001b[0m\u001b[0minverse_rescale_parameters_multiple\u001b[0m\u001b[0;34m(\u001b[0m\u001b[0mresGridLin\u001b[0m\u001b[0;34m)\u001b[0m\u001b[0;34m)\u001b[0m\u001b[0;34m\u001b[0m\u001b[0m\n\u001b[0m\u001b[1;32m      4\u001b[0m \u001b[0;31m#print(GapMapper.vertices.shape)\u001b[0m\u001b[0;34m\u001b[0m\u001b[0;34m\u001b[0m\u001b[0m\n\u001b[1;32m      5\u001b[0m \u001b[0mplt\u001b[0m\u001b[0;34m.\u001b[0m\u001b[0mpcolor\u001b[0m\u001b[0;34m(\u001b[0m\u001b[0mnp\u001b[0m\u001b[0;34m.\u001b[0m\u001b[0mlog10\u001b[0m\u001b[0;34m(\u001b[0m\u001b[0mnp\u001b[0m\u001b[0;34m.\u001b[0m\u001b[0mreshape\u001b[0m\u001b[0;34m(\u001b[0m\u001b[0mdataLin\u001b[0m\u001b[0;34m[\u001b[0m\u001b[0;34m:\u001b[0m\u001b[0;34m,\u001b[0m\u001b[0;36m1\u001b[0m\u001b[0;34m]\u001b[0m\u001b[0;34m-\u001b[0m\u001b[0mdataLin\u001b[0m\u001b[0;34m[\u001b[0m\u001b[0;34m:\u001b[0m\u001b[0;34m,\u001b[0m\u001b[0;36m0\u001b[0m\u001b[0;34m]\u001b[0m\u001b[0;34m,\u001b[0m \u001b[0;34m(\u001b[0m\u001b[0;36m50\u001b[0m\u001b[0;34m,\u001b[0m\u001b[0;36m50\u001b[0m\u001b[0;34m)\u001b[0m\u001b[0;34m)\u001b[0m\u001b[0;34m)\u001b[0m\u001b[0;34m)\u001b[0m\u001b[0;34m\u001b[0m\u001b[0m\n",
      "\u001b[0;32m/usr/local/lib/python3.4/dist-packages/scipy/interpolate/ndgriddata.py\u001b[0m in \u001b[0;36mgriddata\u001b[0;34m(points, values, xi, method, fill_value, rescale)\u001b[0m\n\u001b[1;32m    215\u001b[0m     \u001b[0;32melif\u001b[0m \u001b[0mmethod\u001b[0m \u001b[0;34m==\u001b[0m \u001b[0;34m'linear'\u001b[0m\u001b[0;34m:\u001b[0m\u001b[0;34m\u001b[0m\u001b[0m\n\u001b[1;32m    216\u001b[0m         ip = LinearNDInterpolator(points, values, fill_value=fill_value,\n\u001b[0;32m--> 217\u001b[0;31m                                   rescale=rescale)\n\u001b[0m\u001b[1;32m    218\u001b[0m         \u001b[0;32mreturn\u001b[0m \u001b[0mip\u001b[0m\u001b[0;34m(\u001b[0m\u001b[0mxi\u001b[0m\u001b[0;34m)\u001b[0m\u001b[0;34m\u001b[0m\u001b[0m\n\u001b[1;32m    219\u001b[0m     \u001b[0;32melif\u001b[0m \u001b[0mmethod\u001b[0m \u001b[0;34m==\u001b[0m \u001b[0;34m'cubic'\u001b[0m \u001b[0;32mand\u001b[0m \u001b[0mndim\u001b[0m \u001b[0;34m==\u001b[0m \u001b[0;36m2\u001b[0m\u001b[0;34m:\u001b[0m\u001b[0;34m\u001b[0m\u001b[0m\n",
      "\u001b[0;32mscipy/interpolate/interpnd.pyx\u001b[0m in \u001b[0;36mscipy.interpolate.interpnd.LinearNDInterpolator.__init__ (scipy/interpolate/interpnd.c:5059)\u001b[0;34m()\u001b[0m\n",
      "\u001b[0;32mscipy/interpolate/interpnd.pyx\u001b[0m in \u001b[0;36mscipy.interpolate.interpnd.NDInterpolatorBase.__init__ (scipy/interpolate/interpnd.c:2551)\u001b[0;34m()\u001b[0m\n",
      "\u001b[0;32mscipy/interpolate/interpnd.pyx\u001b[0m in \u001b[0;36mscipy.interpolate.interpnd._check_init_shape (scipy/interpolate/interpnd.c:4690)\u001b[0;34m()\u001b[0m\n",
      "\u001b[0;31mValueError\u001b[0m: different number of values and points"
     ]
    }
   ],
   "source": [
    "resGrid = np.asarray(np.meshgrid(np.linspace(9, 12, 50), np.linspace(0.5, 1.0, 50), np.linspace(np.pi, np.pi, 1)))\n",
    "resGridLin = np.reshape(resGrid, (3,50*50)).T\n",
    "dataLin = griddata(GapMapper.vertices, GapMapper.funvals, GapMapper.inverse_rescale_parameters_multiple(resGridLin))\n",
    "#print(GapMapper.vertices.shape)\n",
    "plt.pcolor(np.log10(np.reshape(dataLin[:,1]-dataLin[:,0], (50,50))))"
   ]
  },
  {
   "cell_type": "code",
   "execution_count": null,
   "metadata": {
    "collapsed": true
   },
   "outputs": [],
   "source": []
  }
 ],
 "metadata": {
  "kernelspec": {
   "display_name": "Python 3",
   "language": "python",
   "name": "python3"
  },
  "language_info": {
   "codemirror_mode": {
    "name": "ipython",
    "version": 3
   },
   "file_extension": ".py",
   "mimetype": "text/x-python",
   "name": "python",
   "nbconvert_exporter": "python",
   "pygments_lexer": "ipython3",
   "version": "3.4.3"
  }
 },
 "nbformat": 4,
 "nbformat_minor": 0
}
