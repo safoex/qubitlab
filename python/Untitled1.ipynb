{
 "cells": [
  {
   "cell_type": "code",
   "execution_count": null,
   "metadata": {
    "collapsed": true
   },
   "outputs": [],
   "source": [
    "class Coordinate:\n",
    "    def __init__(self):\n",
    "        self.x = 0\n",
    "        self.y = 0\n",
    "        self.z = 0\n",
    "class CellStruct:\n",
    "    def __init__(self):\n",
    "        self.Ee = 0\n",
    "        self.Ez = 0\n",
    "        self.Ea = 0\n",
    "        self.M  = Coordinate()\n",
    "        self.R  = Coordinate()\n",
    "        self.He = Coordinate()\n",
    "        self.Hz = Coordinate()\n",
    "        self.Ha = Coordinate()"
   ]
  }
 ],
 "metadata": {
  "kernelspec": {
   "display_name": "Python 3",
   "language": "python",
   "name": "python3"
  },
  "language_info": {
   "codemirror_mode": {
    "name": "ipython",
    "version": 3
   },
   "file_extension": ".py",
   "mimetype": "text/x-python",
   "name": "python",
   "nbconvert_exporter": "python",
   "pygments_lexer": "ipython3",
   "version": "3.4.3"
  }
 },
 "nbformat": 4,
 "nbformat_minor": 1
}
