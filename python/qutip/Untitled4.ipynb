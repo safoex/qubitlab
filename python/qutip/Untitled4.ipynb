{
 "cells": [
  {
   "cell_type": "code",
   "execution_count": 1,
   "metadata": {
    "collapsed": true
   },
   "outputs": [],
   "source": [
    "from libqubitNd import *"
   ]
  },
  {
   "cell_type": "code",
   "execution_count": 284,
   "metadata": {
    "collapsed": false
   },
   "outputs": [],
   "source": [
    "import types\n",
    "def tensorate_function(old_f):\n",
    "    def tensored_f(self,*args, **kwargs):\n",
    "        if 'non_tensor_form' in kwargs and kwargs['non_tensor_form'] == True:\n",
    "            del kwargs['non_tensor_form']\n",
    "            return old_f(*args, **kwargs)\n",
    "        obj = old_f(*args, **kwargs)\n",
    "        try:\n",
    "            if 'order' in self.__dict__ and 'identity2' in self.__dict__ and obj.type == 'oper' and len(obj.dims[0]) == 1:\n",
    "                if self.order == 0:\n",
    "                    return tensor(obj, self.identity2())\n",
    "                else:\n",
    "                    return tensor(self.identity2(), obj)\n",
    "            else:\n",
    "                return obj\n",
    "        except AttributeError:\n",
    "            return obj\n",
    "    return tensored_f\n",
    "            \n",
    "def Tensorator(OldClass):\n",
    "    class NewClass(OldClass):\n",
    "        def update_or_copy(self, kvargs, params, just_update = False):\n",
    "            super().update_or_copy( kvargs, params, just_update)\n",
    "            if not just_update:\n",
    "                for field in self.__dir__():\n",
    "                    if field[0] != '_' and callable(getattr(self,field)):\n",
    "                        setattr(self, field, types.MethodType(tensorate_function(getattr(self,field)), self))\n",
    "                if self.identity2 == None:\n",
    "                    self.identity2 = types.MethodType(OldClass.I,self)\n",
    "                    \n",
    "                    \n",
    "    NewClass.class_params += ['order','identity2']\n",
    "    NewClass.default.order = 0\n",
    "    NewClass.default.identity2 = None if 'I' in dir(OldClass) else identity\n",
    "    return NewClass\n",
    "\n",
    "def Tensorator2(OldClass):\n",
    "    class NewClass(OldClass):\n",
    "        pass\n",
    "    for field in dir(NewClass):\n",
    "        if field[0] != '_' and callable(getattr(NewClass,field)):\n",
    "            setattr(NewClass, field, tensorate_function(getattr(NewClass,field)))\n",
    "    NewClass.class_params += ['order','identity2']\n",
    "    NewClass.default.order = 0\n",
    "    NewClass.default.identity2 = OldClass.I if 'I' in dir(OldClass) else identity\n",
    "    return NewClass"
   ]
  },
  {
   "cell_type": "code",
   "execution_count": 285,
   "metadata": {
    "collapsed": false
   },
   "outputs": [],
   "source": [
    "TSQND = Tensorator(SingleQND)"
   ]
  },
  {
   "cell_type": "code",
   "execution_count": 286,
   "metadata": {
    "collapsed": false
   },
   "outputs": [],
   "source": [
    "a = TSQND(order = 0)\n",
    "b = TSQND(order = 1)"
   ]
  },
  {
   "cell_type": "code",
   "execution_count": 298,
   "metadata": {
    "collapsed": false
   },
   "outputs": [],
   "source": [
    "class CCQ(Model):\n",
    "    default = Empty()\n",
    "    default.qubits = [TSQND(order = 0), TSQND(order = 1)]\n",
    "    default.params = {\n",
    "        'wxx' : 0.01\n",
    "    }\n",
    "    class_params = ['qubits', 'params']\n",
    "    def H(self):\n",
    "        n = [0,0]\n",
    "        for i, q in enumerate(self.qubits):    \n",
    "            try:\n",
    "                n[i] = q.n(non_tensor_form = True)\n",
    "            except AttributeError:\n",
    "                n[i] = sigmax()\n",
    "        return self.params['wxx']*tensor(n)        \n",
    "        \n",
    "    def args(self):\n",
    "        \n",
    "    \n",
    "    def Hconst(self):\n",
    "        Hq = sum([a.Hq() for a in self.qubits])\n",
    "        return Hq + self.H()\n",
    "    def HTD(self):\n",
    "        htd = [self.H()]\n",
    "        for q in self.qubits:\n",
    "            htd += q.HTD()\n",
    "        return htd\n",
    "    "
   ]
  },
  {
   "cell_type": "code",
   "execution_count": 301,
   "metadata": {
    "collapsed": false
   },
   "outputs": [],
   "source": [
    "c = CCQ(qubits = [Original]"
   ]
  },
  {
   "cell_type": "code",
   "execution_count": null,
   "metadata": {
    "collapsed": true
   },
   "outputs": [],
   "source": []
  },
  {
   "cell_type": "code",
   "execution_count": null,
   "metadata": {
    "collapsed": true
   },
   "outputs": [],
   "source": [
    "\n",
    "def decorated_f(self, *args):\n",
    "    obj = f(self, *args)\n",
    "    if 'order' in self.__dict__ and obj.isOperator():\n",
    "        if self.order == 0:\n",
    "            return tensor(obj, self.identity2())\n",
    "        else:\n",
    "            return tensor(self.identity2(), obj)\n",
    "    \n",
    "        \n",
    "\n",
    "class CCQ(Model):\n",
    "    def "
   ]
  }
 ],
 "metadata": {
  "kernelspec": {
   "display_name": "Python 3",
   "language": "python",
   "name": "python3"
  },
  "language_info": {
   "codemirror_mode": {
    "name": "ipython",
    "version": 3
   },
   "file_extension": ".py",
   "mimetype": "text/x-python",
   "name": "python",
   "nbconvert_exporter": "python",
   "pygments_lexer": "ipython3",
   "version": "3.5.2"
  }
 },
 "nbformat": 4,
 "nbformat_minor": 2
}
