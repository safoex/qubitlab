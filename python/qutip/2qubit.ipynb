{
 "cells": [
  {
   "cell_type": "code",
   "execution_count": 1,
   "metadata": {},
   "outputs": [],
   "source": [
    "from qutip import *\n",
    "from qutip.operators import *\n",
    "import matplotlib.pyplot as plt\n",
    "import numpy as np \n",
    "%matplotlib inline\n",
    "from cython import *\n",
    "from sympy import lambdify\n",
    "import copy\n",
    "from functools import *"
   ]
  },
  {
   "cell_type": "code",
   "execution_count": 2,
   "metadata": {
    "collapsed": true
   },
   "outputs": [],
   "source": [
    "def real(oper):\n",
    "    return (oper+oper.conj())/2\n",
    "def imag(oper):\n",
    "    return (oper-oper.conj())/2"
   ]
  },
  {
   "cell_type": "markdown",
   "metadata": {},
   "source": [
    "# Parameters"
   ]
  },
  {
   "cell_type": "code",
   "execution_count": 6,
   "metadata": {
    "collapsed": true
   },
   "outputs": [],
   "source": [
    "N = [14,14]\n",
    "Ec = [0.2,0.2]\n",
    "Ej = [19,22]\n",
    "Eu = 0.01\n",
    "gamma_m = 0\n",
    "needed_Ej =0\n",
    "evecs = []"
   ]
  },
  {
   "cell_type": "code",
   "execution_count": 7,
   "metadata": {
    "collapsed": true
   },
   "outputs": [],
   "source": [
    "tlist_t = 250\n",
    "timesteps = 3000\n",
    "tlist = np.linspace(0,tlist_t,timesteps)"
   ]
  },
  {
   "cell_type": "markdown",
   "metadata": {
    "collapsed": true
   },
   "source": [
    "# Pulse"
   ]
  },
  {
   "cell_type": "code",
   "execution_count": 8,
   "metadata": {},
   "outputs": [],
   "source": [
    "\n",
    "a = 10\n",
    "b = 190\n",
    "st = 0.1\n",
    "\n",
    "time_coeff = \"(1-(Ej-nEj)/Ej*0.5*(tanh((t-a)/st) - tanh((t-b)/st)))\"\n",
    "args = {'nEj':needed_Ej, 'a':a, 'b':b,'st':st, 'Ej':Ej[0]}\n",
    "\n"
   ]
  },
  {
   "cell_type": "code",
   "execution_count": 9,
   "metadata": {},
   "outputs": [
    {
     "name": "stderr",
     "output_type": "stream",
     "text": [
      "/usr/local/lib/python3.5/dist-packages/matplotlib/axes/_axes.py:531: UserWarning: No labelled objects found. Use label='...' kwarg on individual plots.\n",
      "  warnings.warn(\"No labelled objects found. \"\n"
     ]
    },
    {
     "data": {
      "image/png": "[encoded data removed]",
      "text/plain": [
       "<matplotlib.figure.Figure at 0x7f26a1c15278>"
      ]
     },
     "metadata": {},
     "output_type": "display_data"
    }
   ],
   "source": [
    "time_c_func = lambdify({'a','b','t','st','nEj','Ej'},time_coeff,'numpy')\n",
    "fig, ax = plt.subplots(1,1, figsize=(13,3))\n",
    "ax.set_title('$E_j(t)$');\n",
    "ax.plot(tlist, time_c_func(a=args['a'],b=args['b'],st=st,nEj=needed_Ej,Ej=Ej[0],t=tlist)*Ej[0])\n",
    "#ax.set_ylim(-1.2,1.2)\n",
    "ax.legend()\n",
    "ax.set_xlabel('Time')\n",
    "ax.set_ylabel('Magnitude');"
   ]
  },
  {
   "cell_type": "markdown",
   "metadata": {},
   "source": [
    "# Operators"
   ]
  },
  {
   "cell_type": "code",
   "execution_count": 10,
   "metadata": {},
   "outputs": [],
   "source": [
    "def n(N_states):\n",
    "    return num(2*N_states+1, offset = -N_states)\n",
    "\n",
    "def I(N_states):\n",
    "    return identity(2*N_states+1)\n",
    "\n",
    "def Hc(N_states = N[0], Ec = Ec[0], n_g = 0):\n",
    "    return 4*Ec*(n(N_states)-n_g)**2\n",
    "\n",
    "def Hj(N_states = N[0], Ej = Ej[0]):\n",
    "    return -0.5*Ej*Qobj(np.diag(np.ones(2*N_states), -1)+np.diag(np.ones(2*N_states), 1))\n",
    "\n",
    "def Hq(N_states = N[0], Ej = Ej[0], Ec = Ec[0]):\n",
    "    return Hc(N_states,Ec) + Hj(N_states,Ej)\n",
    "\n",
    "def c(N_states=N,evecs=evecs, Ej = Ej, Ec = Ec):\n",
    "    return sum([n(N).matrix_element(evecs[j], evecs[j+1])/n(N).matrix_element(evecs[0], evecs[1])\\\n",
    "                    * evecs[j]*evecs[j+1].dag() for j in range(0, len(evecs)-1)])\n",
    "\n",
    "def collapse_list(N_states = N,gamma_m = gamma_m):\n",
    "    collapse_list = []\n",
    "    if(gamma_m > 0):\n",
    "        collapse_list.append(np.sqrt(gamma_m) * c())\n",
    "    return collapse_list\n",
    "\n",
    "def S_basis(evecs):\n",
    "    S = [[el[0] for el in evec.data.toarray()] for evec in evecs ]\n",
    "    return Qobj(S)\n",
    "def convert_2toN(A2d,evecs):\n",
    "    B2d = A2d.data.toarray()\n",
    "    A = np.zeros(shape=(len(evecs),len(evecs)),dtype=np.complex128)\n",
    "    A[0][0] = B2d[0][0]\n",
    "    A[0][1] = B2d[0][1]\n",
    "    A[1][0] = B2d[1][0]\n",
    "    A[1][1] = B2d[1][1]\n",
    "    Aq = Qobj(A)\n",
    "    return Aq.transform(evecs,True)\n",
    "\n",
    "def Hq_evecs(N_states = N[0], Ej = Ej[0], Ec = Ec[0]):\n",
    "    return Hq(N_states,Ej,Ec).eigenstates()[1]\n",
    "def Hq_evals(N_states = N[0], Ej = Ej[0], Ec = Ec[0]):\n",
    "    return Hq(N_states,Ej,Ec).eigenstates()[0]\n",
    "def Hqq_evecs(qubit):\n",
    "    return Hq_evecs(N[qubit-1], Ej[qubit-1], Ec[qubit-1])\n",
    "def Hqq_evals(qubit):\n",
    "    return Hq_evals(N[qubit-1], Ej[qubit-1], Ec[qubit-1])\n",
    "def Hqq(qubit):\n",
    "    return Hq(N[qubit-1], Ej[qubit-1], Ec[qubit-1])"
   ]
  },
  {
   "cell_type": "code",
   "execution_count": 11,
   "metadata": {},
   "outputs": [
    {
     "name": "stdout",
     "output_type": "stream",
     "text": [
      "[5.3055655933701082, 5.7255344495775802]\n",
      "[5.0858615696596434, 5.5075021151964023]\n"
     ]
    }
   ],
   "source": [
    "evecs = [Hqq_evecs(1),Hqq_evecs(2)]\n",
    "evals = [Hqq_evals(1),Hqq_evals(2)]\n",
    "w10 = [evals[0][1] - evals[0][0], evals[1][1] - evals[1][0]]\n",
    "w21 = [evals[0][2] - evals[0][1], evals[1][2] - evals[1][1]]\n",
    "print(w10)\n",
    "print(w21)\n",
    "#args['w'] = w10"
   ]
  },
  {
   "cell_type": "markdown",
   "metadata": {},
   "source": [
    "# Set needed_Ej for gate"
   ]
  },
  {
   "cell_type": "markdown",
   "metadata": {},
   "source": [
    "### CZ"
   ]
  },
  {
   "cell_type": "code",
   "execution_count": 57,
   "metadata": {},
   "outputs": [
    {
     "name": "stdout",
     "output_type": "stream",
     "text": [
      "9.5089693275e-07\n",
      "20.4179365547\n",
      "[  0.           5.50794378  10.79725907]\n",
      "[  0.           5.72558224  11.23352697]\n"
     ]
    }
   ],
   "source": [
    "Ej_space = np.linspace(20.418181818181818*0.999,20.418181818181818*1.00, 1000)\n",
    "\n",
    "difs = []\n",
    "levels = []\n",
    "for Ej_id, E_j in enumerate(Ej_space):\n",
    "    evals, evecs = Hq(N[0],E_j,Ec[0]).eigenstates()\n",
    "    levels.append(evals-evals[0])\n",
    "    difs.append(abs(evals[1] - evals[0] - w21[1]))\n",
    "m = min(difs)\n",
    "needed_Ej = 0\n",
    "for d_id, d in enumerate(difs):\n",
    "    if d == m:\n",
    "        needed_Ej = (Ej_space[d_id])\n",
    "        print(m)\n",
    "print(needed_Ej)        \n",
    "evals, evecs = Hq(N[0], needed_Ej, Ec[0]).eigenstates()\n",
    "dE = evals[0]\n",
    "for i,e in enumerate(evals):\n",
    "    evals[i] -= dE\n",
    "evals2 = Hqq_evals(2)\n",
    "dE = evals2[0]\n",
    "for i,e in enumerate(evals2):\n",
    "    evals2[i] -= dE\n",
    "print(evals[0:3])\n",
    "print(evals2[0:3])"
   ]
  },
  {
   "cell_type": "markdown",
   "metadata": {},
   "source": [
    "### iSwap"
   ]
  },
  {
   "cell_type": "code",
   "execution_count": 13,
   "metadata": {},
   "outputs": [],
   "source": [
    "Ec = [0.31,0.24]\n",
    "Ej = [22,20]\n",
    "args['Ej']=Ej[0]"
   ]
  },
  {
   "cell_type": "code",
   "execution_count": 16,
   "metadata": {},
   "outputs": [
    {
     "name": "stdout",
     "output_type": "stream",
     "text": [
      "5.25455217115e-08\n",
      "15.8728646465\n",
      "[  0.           5.9463728   11.53725591]\n",
      "[  0.           5.94637275  11.62711513]\n"
     ]
    }
   ],
   "source": [
    "\n",
    "\n",
    "\n",
    "Ej_space = np.linspace(15.8728,15.8729, 100)\n",
    "\n",
    "\n",
    "difs = []\n",
    "for Ej_id, E_j in enumerate(Ej_space):\n",
    "    evals, evecs = Hq(N[0],E_j,Ec[0]).eigenstates()\n",
    "    difs.append(abs(evals[1] - evals[0] - w10[1]))\n",
    "m = min(difs)\n",
    "needed_Ej = 0\n",
    "for d_id, d in enumerate(difs):\n",
    "    if d == m:\n",
    "        needed_Ej = (Ej_space[d_id])\n",
    "        print(m)\n",
    "print(needed_Ej)        \n",
    "evals, evecs = Hq(N[0], needed_Ej, Ec[0]).eigenstates()\n",
    "dE = evals[0]\n",
    "for i,e in enumerate(evals):\n",
    "    evals[i] -= dE\n",
    "evals2 = Hqq_evals(2)\n",
    "dE = evals2[0]\n",
    "for i,e in enumerate(evals2):\n",
    "    evals2[i] -= dE\n",
    "print(evals[0:3])\n",
    "print(evals2[0:3])"
   ]
  },
  {
   "cell_type": "markdown",
   "metadata": {},
   "source": [
    "# Operators in tensor basis"
   ]
  },
  {
   "cell_type": "code",
   "execution_count": 12,
   "metadata": {},
   "outputs": [],
   "source": [
    "def T(oper, qubit, N = N):\n",
    "    if qubit == 1:\n",
    "        return tensor(oper, I(N[1]))\n",
    "    else:\n",
    "        return tensor(I(N[0]), oper)\n",
    "def THc(qubit, N = N, Ec = Ec, n_g = 0):\n",
    "    return T(Hc(N[qubit-1],Ec[qubit-1]),qubit,N)    \n",
    "def THj(qubit, N = N, Ej = Ej, n_g = 0):\n",
    "    return T(Hj(N[qubit-1],Ej[qubit-1]),qubit,N) \n",
    "\n",
    "def THq(qubit, N = N, Ej = Ej, Ec = Ec):\n",
    "    return THc(qubit,N,Ec) + THj(qubit,N,Ej)\n",
    "    \n",
    "def THqq():\n",
    "    return THq(1) + THq(2)\n",
    "\n",
    "\n",
    "def THic(N = N, Eu = Eu):\n",
    "    return Eu * tensor(n(N[0]),n(N[1]))\n",
    "\n",
    "def TprojN(lvl):\n",
    "    def Tprojtmp(qubit, N = N):\n",
    "        evecs = Hqq_evecs(qubit-1)\n",
    "        A = np.zeros(shape=(len(evecs),len(evecs)),dtype=np.complex128)\n",
    "        A[lvl][lvl] = 1\n",
    "        return T(Qobj(A).transform(evecs,True),qubit,N)\n",
    "    return Tprojtmp\n",
    "\n",
    "def T2N(oper, qubit, N = N):\n",
    "    return T(convert_2toN(oper,Hq(N[qubit-1],Ej[qubit-1],Ec[qubit-1]).eigenstates()[1]),qubit,N)\n",
    "\n",
    "def TSx(qubit, N = N):\n",
    "    return T2N(sigmax(),qubit, N)\n",
    "\n",
    "def TSy(qubit, N = N):\n",
    "    return T2N(sigmay(),qubit, N)\n",
    "\n",
    "def TSz(qubit, N = N):\n",
    "    return T2N(sigmaz(),qubit, N)\n",
    "\n",
    "def TSp(qubit, N = N):\n",
    "    return T2N(sigmap(),qubit, N)\n",
    "\n",
    "def TSm(qubit, N = N):\n",
    "    return T2N(sigmam(),qubit, N)"
   ]
  },
  {
   "cell_type": "code",
   "execution_count": 119,
   "metadata": {},
   "outputs": [],
   "source": [
    "Ej_space = np.linspace(18,23, 30)\n",
    "\n",
    "difs = []\n",
    "levels = []\n",
    "for Ej_id, E_j in enumerate(Ej_space):\n",
    "    THsys = THq(1,N,[E_j,Ej[1]]) + THq(2) + THic()\n",
    "    evals, evecs = THsys.eigenstates()\n",
    "    levels.append(evals-evals[0])"
   ]
  },
  {
   "cell_type": "code",
   "execution_count": 160,
   "metadata": {},
   "outputs": [
    {
     "data": {
      "image/png": "[encoded data removed]",
      "text/plain": [
       "<matplotlib.figure.Figure at 0x7f54570462b0>"
      ]
     },
     "metadata": {},
     "output_type": "display_data"
    }
   ],
   "source": [
    "\n",
    "fig,axes = plt.subplots(2,1,figsize=(5,12),sharex=True)\n",
    "min_lvl = 3\n",
    "max_lvl = 6\n",
    "ax = axes[0]\n",
    "colors = ['r','g','b','y','orange','m']\n",
    "i = 0\n",
    "for label, lvl in zip([r\"$\\left|02\\right>$\",r\"$\\left|20\\right>$\",r\"$\\left|11\\right>$\"],range(min_lvl,max_lvl)):\n",
    "    ax.plot(Ej_space, np.array(levels)[:,lvl],color=colors[i],linewidth=2,label=label)\n",
    "    i+=1\n",
    "ax.plot(needed_Ej*np.ones(2), [np.array(levels)[0,min_lvl], np.array(levels)[-1,max_lvl-1]],color='black', label=\"$E_j = %2.5f$\"%needed_Ej)\n",
    "\n",
    "ax.legend(bbox_to_anchor = [1,0],loc = \"lower right\",fontsize = 15)\n",
    "#ax = plt.subplot(212,sharex=True)\n",
    "min_lvl = 0\n",
    "max_lvl = 3\n",
    "ax = axes[1]\n",
    "for label, lvl in zip([r\"$\\left|02\\right>$\",r\"$\\left|20\\right>$\",r\"$\\left|11\\right>$\"],range(min_lvl,max_lvl)):\n",
    "    ax.plot(Ej_space, np.array(levels)[:,lvl],color=colors[i],linewidth=2,label=label)\n",
    "    i+=1\n",
    "ax.plot(needed_Ej*np.ones(2), [np.array(levels)[0,min_lvl], np.array(levels)[-1,max_lvl-1]],color='black', label=\"$E_j = %2.5f$\"%needed_Ej)\n",
    "\n",
    "ax.legend(bbox_to_anchor = [1,0],loc = \"lower right\",fontsize = 15)\n",
    "#plt.gcf().set_size_inches(5,10)\n",
    "plt.savefig(\"CZ levels.pdf\", bbox_inches=\"tight\")\n"
   ]
  },
  {
   "cell_type": "code",
   "execution_count": 13,
   "metadata": {},
   "outputs": [
    {
     "name": "stdout",
     "output_type": "stream",
     "text": [
      "0.01\n",
      "(1-(Ej-nEj)/Ej*0.5*(tanh((t-a)/st) - tanh((t-b)/st)))\n",
      "{'Ej': 19, 'b': 190, 'nEj': 0, 'a': 10, 'st': 0.1}\n"
     ]
    }
   ],
   "source": [
    "Eu = 0.01\n",
    "def THq_int(N = N, Ej = Ej, Ec = Ec, Eu = Eu):\n",
    "    return THqq() + THic(N,Eu)\n",
    "\n",
    "print(Eu)\n",
    "print(time_coeff)\n",
    "print(args)\n",
    "def THq_t(time_coeff = time_coeff, N = N, Ej = Ej, Ec = Ec, Eu = Eu):\n",
    "    return [THic(N,Eu) + THc(1) + THc(2) + THj(2), [THj(1) , time_coeff]] \n"
   ]
  },
  {
   "cell_type": "code",
   "execution_count": 14,
   "metadata": {
    "collapsed": true
   },
   "outputs": [],
   "source": [
    "def THq_evecs(N, Ej,Ec,Eu):\n",
    "    return THq_int(N,Ej,Ec,Eu).eigenstates()[1]\n",
    "def THq_evals(N=N, Ej=Ej,Ec=Ec,Eu=Eu):\n",
    "    return THq_int(N,Ej,Ec,Eu).eigenstates()[0]"
   ]
  },
  {
   "cell_type": "markdown",
   "metadata": {},
   "source": [
    "# Visualisation"
   ]
  },
  {
   "cell_type": "code",
   "execution_count": 22,
   "metadata": {},
   "outputs": [],
   "source": [
    "def Tvis_out(output):\n",
    "    graphs = int(len(output.expect)/2)\n",
    "    fig, axes2d = plt.subplots(graphs,2, figsize=(13,5*graphs), sharex=True)\n",
    "    #axes[0].set_title('f = %.3f, $t_{gate}$ = %.0f, $\\phi$ = %f'%(f,t_gate1,phase1));\n",
    "    labels = ['$\\sigma_x(%d)$','$\\sigma_y(%d)$','$\\sigma_z(%d)$']\n",
    "    for idx, axes in enumerate(axes2d):\n",
    "        for idy, ax in enumerate(axes):\n",
    "            #print(\"%d %d\"%(idx,idy))\n",
    "            ax.plot(tlist, output.expect[idy*graphs + idx], label=(labels[idx]%(idy) if idx <3 else \"%d(%d)\"%(idx-3,idy)) + \" state\")\n",
    "            #ax.plot(tlist, oldoutput.expect[1+idx], label=\"Transmon %i state\"%idx)\n",
    "            #ax.plot(tlist, 0.2+ 0.1*time_c_func(a=a,b=b,st=st,t=tlist,w=Eq,phase1=phase1,phase2=phase2,a2=a2,b2=b2),label=\"pulse (not exact)\")\n",
    "            ax.set_ylim(-1.5,1.1)\n",
    "            ax.legend(bbox_to_anchor = [0,0],loc = \"lower left\")\n",
    "            ax.set_xlabel('Time')\n",
    "    #axes[0].set_ylabel('Occupation probability')\n",
    "def Tvis_out_print(output,every_t = 1):\n",
    "    graphs = int(len(output.expect)/2)\n",
    "    fig, axes2d = plt.subplots(graphs,2, figsize=(9,2*graphs*3/4), sharex=True)\n",
    "    #axes[0].set_title('f = %.3f, $t_{gate}$ = %.0f, $\\phi$ = %f'%(f,t_gate1,phase1));\n",
    "    labels = ['$\\sigma_x(%d)$','$\\sigma_y(%d)$','$\\sigma_z(%d)$', '$E_j(t)(%d)$']\n",
    "    colors = [\"r\",\"g\",\"b\",\"black\",\"black\",\"black\",\"black\",\"black\",\"black\"]\n",
    "    for idx, axes in enumerate(axes2d):\n",
    "        for idy, ax in enumerate(axes):\n",
    "            #print(\"%d %d\"%(idx,idy))\n",
    "            if idx ==3:\n",
    "                if idy == 0:\n",
    "                    ax.plot(tlist, time_c_func(a=args['a'],b=args['b'],st=st,nEj=needed_Ej,Ej=Ej[0],t=tlist)*Ej[0],linewidth=(2.5 ), color = colors[idx], label=(labels[idx]%(idy)))\n",
    "                else:\n",
    "                    ax.plot(tlist, np.ones_like(tlist)*Ej[0],linewidth=(2.5 ), color = colors[idx], label=(labels[idx]%(idy)))\n",
    "            else:\n",
    "                ax.plot(tlist[::every_t], output.expect[idy*graphs + idx],linewidth=(2.5 ),color=colors[idx], label=(labels[idx]%(idy)))\n",
    "            #ax.plot(tlist, oldoutput.expect[1+idx], label=\"Transmon %i state\"%idx)\n",
    "            #ax.plot(tlist, 0.2+ 0.1*time_c_func(a=a,b=b,st=st,t=tlist,w=Eq,phase1=phase1,phase2=phase2,a2=a2,b2=b2),label=\"pulse (not exact)\")\n",
    "            if idx != 3:\n",
    "                ax.set_ylim(-1.5,1.1)\n",
    "            else:\n",
    "                ax.set_ylim(15,23)\n",
    "            #if idy == 1:\n",
    "            #    ax.legend(bbox_to_anchor = [1,0],loc = \"lower right\")\n",
    "            #else:\n",
    "            #    ax.legend(bbox_to_anchor = [1,1],loc = \"upper right\")\n",
    "            #if idy == 0:\n",
    "            ax.legend(loc = \"upper left\",framealpha=0.5)\n",
    "            #else:\n",
    "            #    ax.legend(bbox_to_anchor = [1,0],loc = \"lower right\",framealpha=0.5)\n",
    "            #ax.legend()\n",
    "            if idx == graphs-1:\n",
    "                ax.set_xlabel('Time')\n",
    "def Tvis_out_print_states(output,every_t = 1, labels = ['$\\sigma_x(%d)$','$\\sigma_y(%d)$','$\\sigma_z(%d)$', '$E_j(t)(%d)$'],\n",
    "    colors = [\"r\",\"g\",\"b\",\"r\",\"g\",\"b\"]):\n",
    "    graphs = int(len(output.expect)/2)\n",
    "    fig, axes = plt.subplots(2*graphs, figsize=(9/2,2*2*graphs*3/4), sharex=True)\n",
    "    #axes[0].set_title('f = %.3f, $t_{gate}$ = %.0f, $\\phi$ = %f'%(f,t_gate1,phase1));\n",
    "    #for idx, axes in enumerate(axes2d):\n",
    "    for fidy, ax in enumerate(axes):\n",
    "        #print(\"%d %d\"%(idx,idy))\n",
    "        #idx = fidy // 2\n",
    "        #idy = fidy % 2\n",
    "        ax.plot(tlist[::every_t], output.expect[fidy],linewidth=(2.5 ),color=colors[fidy], label=labels[fidy])\n",
    "        #ax.plot(tlist, oldoutput.expect[1+idx], label=\"Transmon %i state\"%idx)\n",
    "        #ax.plot(tlist, 0.2+ 0.1*time_c_func(a=a,b=b,st=st,t=tlist,w=Eq,phase1=phase1,phase2=phase2,a2=a2,b2=b2),label=\"pulse (not exact)\")\n",
    "        #if idx != 3:\n",
    "        ax.set_ylim(-1.5,1.1)\n",
    "\n",
    "        #if idy == 1:\n",
    "        #    ax.legend(bbox_to_anchor = [1,0],loc = \"lower right\")\n",
    "        #else:\n",
    "        #    ax.legend(bbox_to_anchor = [1,1],loc = \"upper right\")\n",
    "        #if idy == 0:\n",
    "        ax.legend(loc = \"upper left\",framealpha=0.5)\n",
    "        #else:\n",
    "        #    ax.legend(bbox_to_anchor = [1,0],loc = \"lower right\",framealpha=0.5)\n",
    "        #ax.legend()\n",
    "        if fidy == 2*graphs-1:\n",
    "            ax.set_xlabel('Time')"
   ]
  },
  {
   "cell_type": "markdown",
   "metadata": {},
   "source": [
    "# Dynamics "
   ]
  },
  {
   "cell_type": "code",
   "execution_count": 24,
   "metadata": {},
   "outputs": [],
   "source": [
    "expected = [TSx(1),TSy(1),TSz(1),TSx(2),TSy(2),TSz(2)]\n",
    "ev1 = Hqq_evecs(1)\n",
    "ev2 = Hqq_evecs(2)\n",
    "psi1 = (ev1[0]+ev1[1]) / (2**0.5)\n",
    "psi2 = (ev2[0]+ev2[1]) / (2**0.5)\n",
    "\n",
    "#psi1 = ev1[0]\n",
    "#psi2 = ev2[0]\n",
    "\n",
    "#psi1 = ev1[1]\n",
    "#psi2 = ev2[1]\n",
    "\n",
    "Tpsi0 = tensor(psi1,psi2)\n",
    "#Tpsi0 = tensor(ev1[0],ev2[0]) + tensor(ev1[1],ev2[0]) + tensor(ev1[0],ev2[1]) + tensor(ev1[1],ev2[1])\n",
    "#Tpsi0 = (tensor(ev1[0],(ev2[1]+ev2[0])/ (2**0.5)) + tensor((ev1[1]+ev1[0])/ (2**0.5),ev2[0]))\n",
    "\n",
    "##CZ gate\n",
    "#THsys = THq(1) + THq(2) + THic()\n",
    "#Tpsi0 = THsys.eigenstates()[1][4] #~|11>\n",
    "\n",
    "\n",
    "##iSwap\n",
    "\n",
    "#Tpsi0 = tensor(ev1[0],ev2[1])\n",
    "\n",
    "def solve(expected_ops = expected,Tpsi_0 = Tpsi0, with_progress_bar = True):\n",
    "    if with_progress_bar:\n",
    "        return mesolve(THq_t(), Tpsi_0, tlist, collapse_list(), expected_ops, args = args,options= Options(nsteps=10000), progress_bar=True)\n",
    "    else:\n",
    "        return mesolve(THq_t(), Tpsi_0, tlist, collapse_list(), expected_ops, args = args,options= Options(nsteps=10000))"
   ]
  },
  {
   "cell_type": "markdown",
   "metadata": {},
   "source": [
    "### iSwap"
   ]
  },
  {
   "cell_type": "code",
   "execution_count": 205,
   "metadata": {
    "scrolled": true
   },
   "outputs": [
    {
     "name": "stdout",
     "output_type": "stream",
     "text": [
      "[22, 20]\n",
      "115.326162465\n"
     ]
    },
    {
     "data": {
      "text/plain": [
       "array([ -29.77823898,  -23.8455015 ,  -23.81826056,  -18.24199982,\n",
       "        -18.1524607 ,  -17.88322522,  -13.04765309,  -12.7594566 ,\n",
       "        -12.30085193,  -12.19703591,   -8.36622171,   -7.68585064,\n",
       "         -7.10209349,   -6.81606661,   -6.60740679,   -3.97251708,\n",
       "         -2.96716135,   -2.42011546,   -1.74047107,   -1.6009621 ,\n",
       "         -1.42513068,   -1.21267902,    1.2368776 ,    1.97348318,\n",
       "          2.9786733 ,    3.26001699,    3.84141261,    3.98719712,\n",
       "          4.34406009,    4.51943276,    4.68842294,    5.34929789,\n",
       "          7.18304249,    7.23443365,    7.65363494,    8.56756056,\n",
       "          8.65088797,    9.05502045,   10.02492806,   10.46552971,\n",
       "         10.63478546,   11.29525395,   12.77345447,   13.04505107,\n",
       "         13.17953597,   13.38619528,   13.50360009,   13.69748836,\n",
       "         13.79970285,   15.08628854,   15.08804823,   15.41747781,\n",
       "         16.14616567,   16.3155112 ,   16.88545003,   17.96506424,\n",
       "         18.11488471,   18.45815753,   18.77060508,   19.33222008,\n",
       "         19.44996801,   20.49076387,   21.0326717 ,   21.03442976,\n",
       "         21.53871036,   21.70810796,   22.07734294,   22.64109433,\n",
       "         22.85350281,   23.24420367,   23.24563844,   23.96453305,\n",
       "         24.92297167,   25.04083498,   25.20899768,   26.61207858,\n",
       "         26.71342205,   26.71517852,   26.75466527,   26.78151134,\n",
       "         27.05342229,   28.39431675,   28.3943233 ,   28.6458494 ,\n",
       "         29.19058854,   29.19202169,   29.41311548,   30.11685302,\n",
       "         30.23479641,   31.15807522,   31.33051682,   31.49997681,\n",
       "         32.10604712,   32.10780237,   33.03293203,   33.53498836,\n",
       "         34.34069293,   34.34069948,   34.78148013,   34.78291211,\n",
       "         34.7982973 ,   34.91625339,   35.30848127,   35.30848853,\n",
       "         35.41257709,   35.53484805,   35.70430485,   37.17948633,\n",
       "         37.18124021,   39.18969643,   39.30739259,   39.64363604,\n",
       "         39.81262575,   39.9754601 ,   39.97689064,   40.02143794,\n",
       "         40.02144448,   41.2548584 ,   41.25486566,   41.53004376,\n",
       "         41.57390687,   41.68485527,   41.70626643,   41.8980232 ,\n",
       "         41.89974713,   44.31981811,   44.31981812,   44.65709417,\n",
       "         44.65852397,   45.4140581 ,   45.41406463,   46.10266349,\n",
       "         46.10441497,   46.84574636,   46.84575361,   47.61250895,\n",
       "         47.66598521,   47.98778858,   48.04129595,   49.04717526,\n",
       "         49.04859337,   49.4475157 ,   49.44751572,   50.2082997 ,\n",
       "         50.21003446,   50.26619198,   50.26619199,   50.48751135,\n",
       "         50.48751782,   51.42829972,   51.42972535,   52.03972395,\n",
       "         52.03973117,   52.10901516,   52.11075498,   55.20593128,\n",
       "         55.2059378 ,   55.39389043,   55.39389045,   55.94693682,\n",
       "         55.94693683,   56.72150286,   56.72151008,   57.40570674,\n",
       "         57.40625166,   57.8492065 ,   57.84974095,   58.08918273,\n",
       "         58.08963609,   58.53260687,   58.53307173,   59.41104158,\n",
       "         59.41104809,   60.98476981,   60.98476983,   61.11001523,\n",
       "         61.11002241,   61.33955711,   61.33955712,   62.79519624,\n",
       "         62.79519624,   63.49538409,   63.49539129,   63.51328974,\n",
       "         63.51329617,   65.42188346,   65.4218899 ,   65.59148969,\n",
       "         65.59148969,   66.17873307,   66.17873309,   66.41300256,\n",
       "         66.41300257,   67.83597162,   67.83597616,   68.38739732,\n",
       "         68.38740187,   68.74156993,   68.74156993,   69.43282006,\n",
       "         69.43282242,   69.95076533,   69.9507677 ,   70.86070758,\n",
       "         70.8607076 ,   71.13137525,   71.13137526,   71.35047639,\n",
       "         71.35047782,   71.53786416,   71.53786416,   71.88684339,\n",
       "         71.88684483,   74.42231315,   74.42231315,   75.2474806 ,\n",
       "         75.24748062,   75.33694792,   75.33694793,   77.12875231,\n",
       "         77.12875231,   77.63754722,   77.63754724,   79.43534574,\n",
       "         79.43534575,   79.81493283,   79.81493283,   79.84621092,\n",
       "         79.84621094,   80.50485934,   80.50485936,   81.08166811,\n",
       "         81.08166813,   81.35294912,   81.35294913,   81.75672596,\n",
       "         81.75672598,   82.32268806,   82.32268806,   83.53627847,\n",
       "         83.53627848,   83.70689753,   83.70689753,   83.7902132 ,\n",
       "         83.7902132 ,   84.12627336,   84.12627337,   84.8883827 ,\n",
       "         84.8883827 ,   87.00486177,   87.00486177,   87.23146003,\n",
       "         87.23146003,   87.85789868,   87.85789868,   89.60669478,\n",
       "         89.60669478,   89.65327101,   89.65327101,   89.73658651,\n",
       "         89.73658651,   91.38972638,   91.38972638,   93.07979549,\n",
       "         93.07979549,   93.78500514,   93.78500514,   93.81279371,\n",
       "         93.81279371,   93.88611698,   93.88611698,   93.93463641,\n",
       "         93.93463641,   94.69525334,   94.69525334,   95.24415985,\n",
       "         95.24415985,   95.41732942,   95.41732942,   96.94816815,\n",
       "         96.94816815,   97.74197482,   97.74197482,   97.90682768,\n",
       "         97.90682768,   99.64517629,   99.64517629,   99.83464857,\n",
       "         99.83464857,  100.30635921,  100.30635921,  100.4380776 ,\n",
       "        100.4380776 ,  100.80994858,  100.80994858,  103.78609837,\n",
       "        103.78609837,  105.12047156,  105.12047156,  105.6629195 ,\n",
       "        105.6629195 ,  105.88340367,  105.88340367,  106.378402  ,\n",
       "        106.378402  ,  107.15672566,  107.15672566,  107.28951602,\n",
       "        107.28951602,  108.08788282,  108.08788282,  108.93475394,\n",
       "        108.93475394,  109.50322771,  109.50322771,  109.73247158,\n",
       "        109.73247158,  109.88291837,  109.88291837,  110.0291635 ,\n",
       "        110.0291635 ,  110.60164589,  110.60164589,  110.88941355,\n",
       "        110.88941355,  111.90427165,  111.90427165,  113.23588912,\n",
       "        113.23588912,  114.80833818,  114.80833818,  115.32336132,\n",
       "        115.32336132,  115.36561589,  115.36561589,  116.27618804,\n",
       "        116.27618804,  117.72573259,  117.72573259,  118.45777565,\n",
       "        118.45777565,  118.89748937,  118.89748937,  118.91663197,\n",
       "        118.91663197,  120.51725751,  120.51725751,  120.83675573,\n",
       "        120.83675573,  123.00062477,  123.00062477,  123.24011766,\n",
       "        123.24011766,  124.0955787 ,  124.0955787 ,  124.29325357,\n",
       "        124.29325357,  124.30925055,  124.30925055,  125.19989478,\n",
       "        125.19989478,  126.0665534 ,  126.0665534 ,  126.61430798,\n",
       "        126.61430798,  127.34080894,  127.34080894,  127.41841348,\n",
       "        127.41841348,  128.09579389,  128.09579389,  128.42844554,\n",
       "        128.42844554,  129.05445728,  129.05445728,  129.38271146,\n",
       "        129.38271146,  129.58034732,  129.58034732,  131.98769598,\n",
       "        131.98769598,  132.01292695,  132.01292695,  133.28541305,\n",
       "        133.28541305,  134.10087635,  134.10087635,  136.30324462,\n",
       "        136.30324462,  137.32962267,  137.32962267,  137.60381796,\n",
       "        137.60381796,  137.77026909,  137.77026909,  138.30822798,\n",
       "        138.30822798,  138.57291437,  138.57291437,  139.07325995,\n",
       "        139.07325995,  139.23178604,  139.23178604,  140.3116501 ,\n",
       "        140.3116501 ,  141.29565171,  141.29565171,  141.39591308,\n",
       "        141.39591308,  142.39198529,  142.39198529,  142.46926122,\n",
       "        142.46926122,  142.65193905,  142.65193905,  142.79769241,\n",
       "        142.79769241,  144.3439162 ,  144.3439162 ,  144.91252871,\n",
       "        144.91252871,  147.48058715,  147.48058715,  148.12671285,\n",
       "        148.12671285,  148.2671374 ,  148.2671374 ,  149.18289168,\n",
       "        149.18289168,  149.49310083,  149.49310083,  150.07015233,\n",
       "        150.07015233,  150.30514695,  150.30514695,  150.96270016,\n",
       "        150.96270016,  151.85860179,  151.85860179,  153.29539609,\n",
       "        153.29539609,  154.27263124,  154.27263124,  155.37861436,\n",
       "        155.37861436,  157.11820713,  157.11820713,  157.4579668 ,\n",
       "        157.4579668 ,  158.49827425,  158.49827425,  158.87851849,\n",
       "        158.87851849,  159.24176969,  159.24176969,  159.74547805,\n",
       "        159.74547805,  160.01700681,  160.01700681,  160.09669423,\n",
       "        160.09669423,  160.88714642,  160.88714642,  160.88844629,\n",
       "        160.88844629,  161.31560564,  161.31560564,  161.82906445,\n",
       "        161.82906445,  162.31151547,  162.31151547,  162.60859663,\n",
       "        162.60859663,  163.72728476,  163.72728476,  164.30477091,\n",
       "        164.30477091,  164.83266218,  164.83266218,  167.77543747,\n",
       "        167.77543747,  168.3826332 ,  168.3826332 ,  170.02651451,\n",
       "        170.02651451,  170.34842969,  170.34842969,  170.36036279,\n",
       "        170.36036279,  171.51117337,  171.51117337,  171.69811713,\n",
       "        171.69811713,  173.06179207,  173.06179207,  173.45618018,\n",
       "        173.45618018,  174.70967022,  174.70967022,  175.49247763,\n",
       "        175.49247763,  176.02271451,  176.02271451,  177.00361634,\n",
       "        177.00361634,  177.07554663,  177.07554663,  177.12766952,\n",
       "        177.12766952,  178.36308401,  178.36308401,  178.6481172 ,\n",
       "        178.6481172 ,  178.84879804,  178.84879804,  179.08522014,\n",
       "        179.08522014,  179.96430629,  179.96430629,  181.50601383,\n",
       "        181.50601383,  183.53861492,  183.53861492,  183.92227258,\n",
       "        183.92227258,  184.94745753,  184.94745753,  185.6845233 ,\n",
       "        185.6845233 ,  185.73181666,  185.73181666,  186.94116748,\n",
       "        186.94116748,  187.2141812 ,  187.2141812 ,  187.3066185 ,\n",
       "        187.3066185 ,  188.1503382 ,  188.1503382 ,  188.64026038,\n",
       "        188.64026038,  192.84912349,  192.84912349,  194.56509091,\n",
       "        194.56509091,  195.4915876 ,  195.4915876 ,  196.3872761 ,\n",
       "        196.3872761 ,  196.92063478,  196.92063478,  197.23568986,\n",
       "        197.23568986,  197.54534572,  197.54534572,  197.62593541,\n",
       "        197.62593541,  198.17168218,  198.17168218,  198.78491257,\n",
       "        198.78491257,  198.90139815,  198.90139815,  199.12694642,\n",
       "        199.12694642,  199.3404772 ,  199.3404772 ,  200.5114642 ,\n",
       "        200.5114642 ,  200.99715692,  200.99715692,  201.77295892,\n",
       "        201.77295892,  203.55404622,  203.55404622,  204.52334199,\n",
       "        204.52334199,  205.59212729,  205.59212729,  206.19220717,\n",
       "        206.19220717,  210.71361521,  210.71361521,  211.58482484,\n",
       "        211.58482484,  211.64898342,  211.64898342,  212.2311168 ,\n",
       "        212.2311168 ,  213.38238506,  213.38238506,  214.17176048,\n",
       "        214.17176048,  215.5426217 ,  215.5426217 ,  216.37613553,\n",
       "        216.37613553,  216.65830693,  216.65830693,  217.69437987,\n",
       "        217.69437987,  218.34205546,  218.34205546,  219.59475349,\n",
       "        219.59475349,  219.78685436,  219.78685436,  221.37619947,\n",
       "        221.37619947,  221.77170285,  221.77170285,  225.58587775,\n",
       "        225.58587775,  226.10201475,  226.10201475,  226.50590888,\n",
       "        226.50590888,  227.67972838,  227.67972838,  227.73945693,\n",
       "        227.73945693,  228.29036285,  228.29036285,  229.64019059,\n",
       "        229.64019059,  229.65085262,  229.65085262,  231.64705156,\n",
       "        231.64705156,  237.21816149,  237.21816149,  238.37127427,\n",
       "        238.37127427,  238.56898308,  238.56898308,  239.76552291,\n",
       "        239.76552291,  240.11448059,  240.11448059,  240.71104975,\n",
       "        240.71104975,  241.95227434,  241.95227434,  242.00543692,\n",
       "        242.00543692,  244.85040837,  244.85040837,  245.68335734,\n",
       "        245.68335734,  246.85376537,  246.85376537,  246.89735169,\n",
       "        246.89735169,  247.86810188,  247.86810188,  248.33411921,\n",
       "        248.33411921,  256.13489623,  256.13489623,  258.27355178,\n",
       "        258.27355178,  258.77332035,  258.77332035,  260.54155077,\n",
       "        260.54155077,  261.94847411,  261.94847411,  264.33115887,\n",
       "        264.33115887,  265.65185473,  265.65185473,  265.7156938 ,\n",
       "        265.7156938 ,  268.02297118,  268.02297118,  268.05883622,\n",
       "        268.05883622,  272.77564118,  272.77564118,  274.1283268 ,\n",
       "        274.1283268 ,  274.81763578,  274.81763578,  276.51165065,\n",
       "        276.51165065,  287.82494158,  287.82494158,  288.78615529,\n",
       "        288.78615529,  289.08590483,  289.08590483,  290.44758891,\n",
       "        290.44758891,  291.09563423,  291.09563423,  291.65235863,\n",
       "        291.65235863,  294.08672158,  294.08672158,  296.71248238,\n",
       "        296.71248238,  306.7698104 ,  306.7698104 ,  309.34350049,\n",
       "        309.34350049,  314.95311765,  314.95311765,  316.25001137,\n",
       "        316.25001137,  317.7780417 ,  317.7780417 ,  319.11104062,\n",
       "        319.11104062,  326.71852196,  326.71852196,  329.55401357,\n",
       "        329.55401357,  343.36899506,  343.36899506,  346.45068675,\n",
       "        346.45068675,  348.87241939,  348.87241939,  351.96197138,\n",
       "        351.96197138,  375.98259481,  375.98259481,  379.3104345 ,\n",
       "        379.3104345 ])"
      ]
     },
     "execution_count": 205,
     "metadata": {},
     "output_type": "execute_result"
    }
   ],
   "source": [
    "En = (THj(1)*needed_Ej/Ej[0] + THj(2) + THic(N,Eu) + THc(1) + THc(2)).eigenstates()[0]\n",
    "print(Ej)\n",
    "print(np.pi/(En[2]-En[1]))\n",
    "En\n"
   ]
  },
  {
   "cell_type": "code",
   "execution_count": 25,
   "metadata": {
    "scrolled": false
   },
   "outputs": [
    {
     "name": "stdout",
     "output_type": "stream",
     "text": [
      "0.01\n",
      "{'Ej': 19, 'b': 165.32616246499998, 'a': 50, 'nEj': 19, 'w': 0, 'st': 0.1}\n",
      "10.0%. Run time:   2.62s. Est. time left: 00:00:00:23\n",
      "20.0%. Run time:   5.49s. Est. time left: 00:00:00:21\n",
      "30.0%. Run time:   8.39s. Est. time left: 00:00:00:19\n",
      "40.0%. Run time:  11.27s. Est. time left: 00:00:00:16\n",
      "50.0%. Run time:  14.15s. Est. time left: 00:00:00:14\n",
      "60.0%. Run time:  17.04s. Est. time left: 00:00:00:11\n",
      "70.0%. Run time:  19.91s. Est. time left: 00:00:00:08\n",
      "80.0%. Run time:  22.79s. Est. time left: 00:00:00:05\n",
      "90.0%. Run time:  25.72s. Est. time left: 00:00:00:02\n",
      "Total run time:  28.66s\n"
     ]
    }
   ],
   "source": [
    "\n",
    "print(Eu)\n",
    "args['a']=50\n",
    "args['b']=args['a'] + 115.326162465\n",
    "args['nEj'] = args['Ej']#needed_Ej\n",
    "args['w'] = 0\n",
    "print(args)\n",
    "#TprojN(0)(1), TprojN(1)(1), TprojN(2)(1), TprojN(3)(1), TprojN(4)(1), TprojN(5)(1), TprojN(6)(1)\n",
    "#TprojN(0)(2), TprojN(1)(2), TprojN(2)(2), TprojN(3)(2), TprojN(4)(2), TprojN(5)(2), TprojN(6)(2) \n",
    "#ev1,ev2 = Hq_evecs(N[0],needed_Ej,Ec[0]), Hqq_evecs(2)\n",
    "\n",
    "#Tpsi0 = Tpsi11\n",
    "#expected = [TSx(1),TSy(1),TSz(1),TprojN(0)(1), TprojN(1)(1), TprojN(2)(1),TSx(2),TSy(2),TSz(2),TprojN(0)(2), TprojN(1)(2), TprojN(2)(2)]\n",
    "expected = [TSx(1),TSy(1),TSz(1),TSz(1),TSx(2),TSy(2),TSz(2),TSz(2)]\n",
    "out = solve(expected,Tpsi0)"
   ]
  },
  {
   "cell_type": "code",
   "execution_count": null,
   "metadata": {
    "collapsed": true
   },
   "outputs": [],
   "source": []
  },
  {
   "cell_type": "code",
   "execution_count": 26,
   "metadata": {
    "scrolled": false
   },
   "outputs": [
    {
     "data": {
      "image/png": "[encoded data removed]",
      "text/plain": [
       "<matplotlib.figure.Figure at 0x7f269d0f3208>"
      ]
     },
     "metadata": {},
     "output_type": "display_data"
    }
   ],
   "source": [
    "Tvis_out_print(out)\n",
    "plt.savefig(\"iSwap pulse sigma_test.pdf\",bbox_inches=\"tight\")"
   ]
  },
  {
   "cell_type": "markdown",
   "metadata": {},
   "source": [
    "### CZ"
   ]
  },
  {
   "cell_type": "code",
   "execution_count": 100,
   "metadata": {
    "scrolled": false
   },
   "outputs": [
    {
     "name": "stdout",
     "output_type": "stream",
     "text": [
      "0.01\n",
      "{'Ej': 19, 'nEj': 20.407727586459185, 'w': 0, 'a': 50, 'b': 179.33616910211248, 'st': 3}\n",
      "10.0%. Run time:   0.76s. Est. time left: 00:00:00:06\n",
      "20.0%. Run time:   1.58s. Est. time left: 00:00:00:06\n",
      "30.0%. Run time:   2.37s. Est. time left: 00:00:00:05\n",
      "40.0%. Run time:   3.18s. Est. time left: 00:00:00:04\n",
      "50.0%. Run time:   4.00s. Est. time left: 00:00:00:04\n",
      "60.0%. Run time:   4.81s. Est. time left: 00:00:00:03\n",
      "70.0%. Run time:   5.59s. Est. time left: 00:00:00:02\n",
      "80.0%. Run time:   6.35s. Est. time left: 00:00:00:01\n",
      "90.0%. Run time:   7.12s. Est. time left: 00:00:00:00\n",
      "Total run time:   7.90s\n"
     ]
    }
   ],
   "source": [
    "\n",
    "print(Eu)\n",
    "args['a']=50\n",
    "args['b']=args['a'] + 1/(E[5]-E[4])*2*np.pi\n",
    "args['nEj'] = needed_Ej*0.9995\n",
    "args['w'] = 0\n",
    "print(args)\n",
    "#TprojN(0)(1), TprojN(1)(1), TprojN(2)(1), TprojN(3)(1), TprojN(4)(1), TprojN(5)(1), TprojN(6)(1)\n",
    "#TprojN(0)(2), TprojN(1)(2), TprojN(2)(2), TprojN(3)(2), TprojN(4)(2), TprojN(5)(2), TprojN(6)(2) \n",
    "#ev1,ev2 = Hq_evecs(N[0],needed_Ej,Ec[0]), Hqq_evecs(2)\n",
    "ev1,ev2 = Hqq_evecs(1), Hqq_evecs(2)\n",
    "Tpsi11 = tensor(ev1[1],ev2[1])\n",
    "Tpsi11P = Tpsi11*Tpsi11.dag()\n",
    "Tpsi02P = tensor(ev1[0],ev2[2])\n",
    "Tpsi02P = Tpsi02P*Tpsi02P.dag()\n",
    "Tpsi20P = tensor(ev1[2],ev2[0])\n",
    "Tpsi20P = Tpsi20P*Tpsi20P.dag()\n",
    "Tpsi0P = Tpsi0*Tpsi0.dag()\n",
    "\n",
    "#Tpsi0 = Tpsi11\n",
    "#expected = [TSx(1),TSy(1),TSz(1),TprojN(0)(1), TprojN(1)(1), TprojN(2)(1),TSx(2),TSy(2),TSz(2),TprojN(0)(2), TprojN(1)(2), TprojN(2)(2)]\n",
    "#expected = [Tpsi11P,Tpsi02P, Tpsi20P, Tpsi0P]\n",
    "P = lambda psi: psi*psi.dag()\n",
    "expected = [P(psi) for psi in THsys.eigenstates()[1][0:6]]\n",
    "#expected = [TSx(1),TSy(1),TSz(1),TSz(1),TSx(2),TSy(2),TSz(2),TSz(2)]\n",
    "out = solve(expected,Tpsi0)\n",
    "\n"
   ]
  },
  {
   "cell_type": "code",
   "execution_count": 167,
   "metadata": {},
   "outputs": [
    {
     "data": {
      "image/png": "[encoded data removed]",
      "text/plain": [
       "<matplotlib.figure.Figure at 0x7f545ad3ebe0>"
      ]
     },
     "metadata": {},
     "output_type": "display_data"
    }
   ],
   "source": [
    "Tvis_out_print_states(out, 1,[\"00\",\"01\",\"10\",\"02\",\"11\",\"20\"],colors=colors[3:]+colors[:3])\n",
    "plt.savefig(\"CZ states.pdf\",bbox_inches=\"tight\")"
   ]
  },
  {
   "cell_type": "code",
   "execution_count": 99,
   "metadata": {},
   "outputs": [
    {
     "data": {
      "image/png": "[encoded data removed]",
      "text/plain": [
       "<matplotlib.figure.Figure at 0x7f5458787128>"
      ]
     },
     "metadata": {},
     "output_type": "display_data"
    }
   ],
   "source": [
    "Tvis_out_print(out)\n",
    "plt.savefig(\"CZ pulse sigma.pdf\",bbox_inches=\"tight\")"
   ]
  },
  {
   "cell_type": "code",
   "execution_count": 309,
   "metadata": {
    "collapsed": true
   },
   "outputs": [],
   "source": [
    "def get_pulse_operator_Nd(ev1,ev2, with_progress_bar = True):\n",
    "    Tpsi = [tensor(ev1[0],ev1[0]),tensor(ev1[0],ev1[1]),tensor(ev1[1],ev1[0]),tensor(ev1[1],ev1[1])]\n",
    "    #Tpsi = THsys.eigenstates()[1][0:4]\n",
    "    result = []\n",
    "    for psi_id, Tpsi0 in enumerate(Tpsi):\n",
    "        out = solve([],Tpsi0,with_progress_bar)\n",
    "        state_final = out.states[-1]\n",
    "        res_state = []\n",
    "        #print(state_final)\n",
    "        for Tpsi1 in Tpsi:\n",
    "            res_state.append((Tpsi1.dag()*state_final).data.toarray()[0][0])\n",
    "        result.append(res_state)\n",
    "    return Qobj(result)"
   ]
  },
  {
   "cell_type": "markdown",
   "metadata": {},
   "source": [
    "### CZ"
   ]
  },
  {
   "cell_type": "code",
   "execution_count": 39,
   "metadata": {
    "scrolled": true
   },
   "outputs": [
    {
     "name": "stdout",
     "output_type": "stream",
     "text": [
      "10.0%. Run time:   0.71s. Est. time left: 00:00:00:06\n",
      "20.0%. Run time:   1.48s. Est. time left: 00:00:00:05\n",
      "30.0%. Run time:   2.28s. Est. time left: 00:00:00:05\n",
      "40.0%. Run time:   3.10s. Est. time left: 00:00:00:04\n",
      "50.0%. Run time:   3.89s. Est. time left: 00:00:00:03\n",
      "60.0%. Run time:   4.67s. Est. time left: 00:00:00:03\n",
      "70.0%. Run time:   5.45s. Est. time left: 00:00:00:02\n",
      "80.0%. Run time:   6.25s. Est. time left: 00:00:00:01\n",
      "90.0%. Run time:   7.02s. Est. time left: 00:00:00:00\n",
      "Total run time:   7.77s\n",
      "10.0%. Run time:   0.69s. Est. time left: 00:00:00:06\n",
      "20.0%. Run time:   1.36s. Est. time left: 00:00:00:05\n",
      "30.0%. Run time:   2.05s. Est. time left: 00:00:00:04\n",
      "40.0%. Run time:   2.74s. Est. time left: 00:00:00:04\n",
      "50.0%. Run time:   3.43s. Est. time left: 00:00:00:03\n",
      "60.0%. Run time:   4.12s. Est. time left: 00:00:00:02\n",
      "70.0%. Run time:   4.81s. Est. time left: 00:00:00:02\n",
      "80.0%. Run time:   5.48s. Est. time left: 00:00:00:01\n",
      "90.0%. Run time:   6.16s. Est. time left: 00:00:00:00\n",
      "Total run time:   6.84s\n",
      "10.0%. Run time:   0.69s. Est. time left: 00:00:00:06\n",
      "20.0%. Run time:   1.40s. Est. time left: 00:00:00:05\n",
      "30.0%. Run time:   2.13s. Est. time left: 00:00:00:04\n",
      "40.0%. Run time:   2.87s. Est. time left: 00:00:00:04\n",
      "50.0%. Run time:   3.60s. Est. time left: 00:00:00:03\n",
      "60.0%. Run time:   4.35s. Est. time left: 00:00:00:02\n",
      "70.0%. Run time:   5.07s. Est. time left: 00:00:00:02\n",
      "80.0%. Run time:   5.75s. Est. time left: 00:00:00:01\n",
      "90.0%. Run time:   6.46s. Est. time left: 00:00:00:00\n",
      "Total run time:   7.17s\n",
      "10.0%. Run time:   0.71s. Est. time left: 00:00:00:06\n",
      "20.0%. Run time:   1.38s. Est. time left: 00:00:00:05\n",
      "30.0%. Run time:   2.06s. Est. time left: 00:00:00:04\n",
      "40.0%. Run time:   2.75s. Est. time left: 00:00:00:04\n",
      "50.0%. Run time:   3.46s. Est. time left: 00:00:00:03\n",
      "60.0%. Run time:   4.16s. Est. time left: 00:00:00:02\n",
      "70.0%. Run time:   4.92s. Est. time left: 00:00:00:02\n",
      "80.0%. Run time:   5.64s. Est. time left: 00:00:00:01\n",
      "90.0%. Run time:   6.37s. Est. time left: 00:00:00:00\n",
      "Total run time:   7.08s\n",
      "[[(-0.86802971079553715-0.4936439726647861j), 0j, 0j, (0.0031221433508656412+0.00075827055680738862j)], [0j, (-0.14302446857231071-0.9842421086324824j), (-0.031140406893501338-0.067679075223959773j), 0j], [0j, (0.066638165892259377-0.031813141240172635j), (-0.74702062135516356+0.65887818063713333j), 0j], [(0.0028461996336792239+0.00074683392765317804j), 0j, 0j, (0.97098968099673344+0.22796236600873276j)]]\n"
     ]
    },
    {
     "data": {
      "text/latex": [
       "Quantum object: dims = [[4], [4]], shape = (4, 4), type = oper, isherm = False\\begin{equation*}\\left(\\begin{array}{*{11}c}(-0.868-0.494j) & 0.0 & 0.0 & (0.003+7.583\\times10^{-04}j)\\\\0.0 & (-0.143-0.984j) & (-0.031-0.068j) & 0.0\\\\0.0 & (0.067-0.032j) & (-0.747+0.659j) & 0.0\\\\(0.003+7.468\\times10^{-04}j) & 0.0 & 0.0 & (0.971+0.228j)\\\\\\end{array}\\right)\\end{equation*}"
      ],
      "text/plain": [
       "Quantum object: dims = [[4], [4]], shape = (4, 4), type = oper, isherm = False\n",
       "Qobj data =\n",
       "[[-0.86802971 -4.93643973e-01j  0.00000000 +0.00000000e+00j\n",
       "   0.00000000 +0.00000000e+00j  0.00312214 +7.58270557e-04j]\n",
       " [ 0.00000000 +0.00000000e+00j -0.14302447 -9.84242109e-01j\n",
       "  -0.03114041 -6.76790752e-02j  0.00000000 +0.00000000e+00j]\n",
       " [ 0.00000000 +0.00000000e+00j  0.06663817 -3.18131412e-02j\n",
       "  -0.74702062 +6.58878181e-01j  0.00000000 +0.00000000e+00j]\n",
       " [ 0.00284620 +7.46833928e-04j  0.00000000 +0.00000000e+00j\n",
       "   0.00000000 +0.00000000e+00j  0.97098968 +2.27962366e-01j]]"
      ]
     },
     "execution_count": 39,
     "metadata": {},
     "output_type": "execute_result"
    }
   ],
   "source": [
    "op = get_pulse_operator_Nd(Hqq_evecs(1),Hqq_evecs(2))\n",
    "op\n"
   ]
  },
  {
   "cell_type": "markdown",
   "metadata": {},
   "source": [
    "### iSwap"
   ]
  },
  {
   "cell_type": "code",
   "execution_count": 293,
   "metadata": {},
   "outputs": [
    {
     "name": "stdout",
     "output_type": "stream",
     "text": [
      "10.0%. Run time:   0.48s. Est. time left: 00:00:00:04\n",
      "20.0%. Run time:   0.98s. Est. time left: 00:00:00:03\n",
      "30.0%. Run time:   1.43s. Est. time left: 00:00:00:03\n",
      "40.0%. Run time:   1.88s. Est. time left: 00:00:00:02\n",
      "50.0%. Run time:   2.33s. Est. time left: 00:00:00:02\n",
      "60.0%. Run time:   2.78s. Est. time left: 00:00:00:01\n",
      "70.0%. Run time:   3.24s. Est. time left: 00:00:00:01\n",
      "80.0%. Run time:   3.73s. Est. time left: 00:00:00:00\n",
      "90.0%. Run time:   4.22s. Est. time left: 00:00:00:00\n",
      "Total run time:   4.70s\n",
      "10.0%. Run time:   0.47s. Est. time left: 00:00:00:04\n",
      "20.0%. Run time:   0.93s. Est. time left: 00:00:00:03\n",
      "30.0%. Run time:   1.38s. Est. time left: 00:00:00:03\n",
      "40.0%. Run time:   1.85s. Est. time left: 00:00:00:02\n",
      "50.0%. Run time:   2.34s. Est. time left: 00:00:00:02\n",
      "60.0%. Run time:   2.84s. Est. time left: 00:00:00:01\n",
      "70.0%. Run time:   3.33s. Est. time left: 00:00:00:01\n",
      "80.0%. Run time:   3.83s. Est. time left: 00:00:00:00\n",
      "90.0%. Run time:   4.31s. Est. time left: 00:00:00:00\n",
      "Total run time:   4.80s\n",
      "10.0%. Run time:   0.53s. Est. time left: 00:00:00:04\n",
      "20.0%. Run time:   1.02s. Est. time left: 00:00:00:04\n",
      "30.0%. Run time:   1.49s. Est. time left: 00:00:00:03\n",
      "40.0%. Run time:   1.97s. Est. time left: 00:00:00:02\n",
      "50.0%. Run time:   2.46s. Est. time left: 00:00:00:02\n",
      "60.0%. Run time:   2.95s. Est. time left: 00:00:00:01\n",
      "70.0%. Run time:   3.45s. Est. time left: 00:00:00:01\n",
      "80.0%. Run time:   3.97s. Est. time left: 00:00:00:00\n",
      "90.0%. Run time:   4.50s. Est. time left: 00:00:00:00\n",
      "Total run time:   5.02s\n",
      "10.0%. Run time:   0.48s. Est. time left: 00:00:00:04\n",
      "20.0%. Run time:   0.94s. Est. time left: 00:00:00:03\n",
      "30.0%. Run time:   1.47s. Est. time left: 00:00:00:03\n",
      "40.0%. Run time:   2.11s. Est. time left: 00:00:00:03\n",
      "50.0%. Run time:   2.78s. Est. time left: 00:00:00:02\n",
      "60.0%. Run time:   3.42s. Est. time left: 00:00:00:02\n",
      "70.0%. Run time:   4.08s. Est. time left: 00:00:00:01\n",
      "80.0%. Run time:   4.75s. Est. time left: 00:00:00:01\n",
      "90.0%. Run time:   5.42s. Est. time left: 00:00:00:00\n",
      "Total run time:   6.11s\n",
      "[[(0.059231886793765308+0.99657688431926472j), 0j, 0j, (0.00061194236393972534-0.0030110553519894397j)], [0j, (0.0025436919286865233-0.0068187163744077885j), (-0.62301575903160489+0.77964733691864463j), 0j], [0j, (-0.99387763117311245-0.091413518433244315j), (-0.0045766513469919865-0.0059180632924284438j), 0j], [(-0.0011125841733714741-0.00092653196689140578j), 0j, 0j, (0.81684105374558702+0.54719338966661468j)]]\n"
     ]
    },
    {
     "data": {
      "text/latex": [
       "Quantum object: dims = [[4], [4]], shape = [4, 4], type = oper, isherm = False\\begin{equation*}\\left(\\begin{array}{*{11}c}(0.059+0.997j) & 0.0 & 0.0 & (6.119\\times10^{-04}-0.003j)\\\\0.0 & (0.003-0.007j) & (-0.623+0.780j) & 0.0\\\\0.0 & (-0.994-0.091j) & (-0.005-0.006j) & 0.0\\\\(-0.001-9.265\\times10^{-04}j) & 0.0 & 0.0 & (0.817+0.547j)\\\\\\end{array}\\right)\\end{equation*}"
      ],
      "text/plain": [
       "Quantum object: dims = [[4], [4]], shape = [4, 4], type = oper, isherm = False\n",
       "Qobj data =\n",
       "[[  5.92318868e-02 +9.96576884e-01j   0.00000000e+00 +0.00000000e+00j\n",
       "    0.00000000e+00 +0.00000000e+00j   6.11942364e-04 -3.01105535e-03j]\n",
       " [  0.00000000e+00 +0.00000000e+00j   2.54369193e-03 -6.81871637e-03j\n",
       "   -6.23015759e-01 +7.79647337e-01j   0.00000000e+00 +0.00000000e+00j]\n",
       " [  0.00000000e+00 +0.00000000e+00j  -9.93877631e-01 -9.14135184e-02j\n",
       "   -4.57665135e-03 -5.91806329e-03j   0.00000000e+00 +0.00000000e+00j]\n",
       " [ -1.11258417e-03 -9.26531967e-04j   0.00000000e+00 +0.00000000e+00j\n",
       "    0.00000000e+00 +0.00000000e+00j   8.16841054e-01 +5.47193390e-01j]]"
      ]
     },
     "execution_count": 293,
     "metadata": {},
     "output_type": "execute_result"
    }
   ],
   "source": [
    "st = 0.2\n",
    "args['st'] = st\n",
    "iop = get_pulse_operator_Nd(Hqq_evecs(1),Hqq_evecs(2))\n",
    "iop"
   ]
  },
  {
   "cell_type": "markdown",
   "metadata": {},
   "source": [
    "# Operator fixing.."
   ]
  },
  {
   "cell_type": "markdown",
   "metadata": {},
   "source": [
    "## CZ"
   ]
  },
  {
   "cell_type": "code",
   "execution_count": 40,
   "metadata": {},
   "outputs": [
    {
     "data": {
      "text/latex": [
       "Quantum object: dims = [[2, 2], [2, 2]], shape = (4, 4), type = oper, isherm = False\\begin{equation*}\\left(\\begin{array}{*{11}c}(-0.083-0.995j) & 0.0 & 0.0 & (0.001+0.003j)\\\\0.0 & (-0.559+0.823j) & (-0.023+0.071j) & 0.0\\\\0.0 & (-0.028+0.068j) & (0.106-0.990j) & 0.0\\\\(0.002-0.002j) & 0.0 & 0.0 & (0.736-0.673j)\\\\\\end{array}\\right)\\end{equation*}"
      ],
      "text/plain": [
       "Quantum object: dims = [[2, 2], [2, 2]], shape = (4, 4), type = oper, isherm = False\n",
       "Qobj data =\n",
       "[[-0.08277392-0.99514242j  0.00000000+0.j          0.00000000+0.j\n",
       "   0.00113728+0.00300489j]\n",
       " [ 0.00000000+0.j         -0.55911383+0.82254498j -0.02273127+0.07094696j\n",
       "   0.00000000+0.j        ]\n",
       " [ 0.00000000+0.j         -0.02766995+0.06846236j  0.10608952-0.99040662j\n",
       "   0.00000000+0.j        ]\n",
       " [ 0.00222361-0.00192722j  0.00000000+0.j          0.00000000+0.j\n",
       "   0.73645440-0.67262375j]]"
      ]
     },
     "execution_count": 40,
     "metadata": {},
     "output_type": "execute_result"
    }
   ],
   "source": [
    "THsys_resonant = THq(1, N, [needed_Ej*0.9995, Ej[1]]) + THq(2) + THic()\n",
    "E = THsys_resonant.eigenstates()[0]\n",
    "alpha3 = (E[2] - E[0])*124.1\n",
    "alpha2 = (E[1] - E[0])*124.1\n",
    "Rz3 = (-1j * sigmaz() * alpha3 ).expm()\n",
    "Rz2 = (-1j * sigmaz() * alpha2 ).expm()\n",
    "#Rz3_N = convert_2toN(Rz3, Hqq_evecs(1))\n",
    "#Rz2_N = convert_2toN(Rz2, Hqq_evecs(2))\n",
    "op.dims = [[2,2],[2,2]]\n",
    "U1 = tensor(Rz3,Rz2)*op\n",
    "U1#/U1.data.toarray()[0][0]"
   ]
  },
  {
   "cell_type": "code",
   "execution_count": 41,
   "metadata": {},
   "outputs": [
    {
     "data": {
      "text/plain": [
       "129.33616910211248"
      ]
     },
     "execution_count": 41,
     "metadata": {},
     "output_type": "execute_result"
    }
   ],
   "source": [
    "1/(E[5]-E[4])*2*np.pi"
   ]
  },
  {
   "cell_type": "code",
   "execution_count": 44,
   "metadata": {},
   "outputs": [
    {
     "data": {
      "text/latex": [
       "Quantum object: dims = [[2, 2], [2, 2]], shape = (4, 4), type = oper, isherm = False\\begin{equation*}\\left(\\begin{array}{*{11}c}1.0 & 0.0 & 0.0 & (-0.003+8.855\\times10^{-04}j)\\\\0.0 & 0.996 & (0.072-0.021j) & 0.0\\\\0.0 & (-0.071-0.020j) & 0.997 & 0.0\\\\(-0.003-2.061\\times10^{-04}j) & 0.0 & 0.0 & (-0.998-0.044j)\\\\\\end{array}\\right)\\end{equation*}"
      ],
      "text/plain": [
       "Quantum object: dims = [[2, 2], [2, 2]], shape = (4, 4), type = oper, isherm = False\n",
       "Qobj data =\n",
       "[[ 1.00000000+0.j          0.00000000+0.j          0.00000000+0.j\n",
       "  -0.00309321+0.00088554j]\n",
       " [ 0.00000000+0.j          0.99599492+0.j          0.07155543-0.02111423j\n",
       "   0.00000000+0.j        ]\n",
       " [ 0.00000000+0.j         -0.07112107-0.02024956j  0.99748989+0.j\n",
       "   0.00000000+0.j        ]\n",
       " [-0.00293953-0.00020607j  0.00000000+0.j          0.00000000+0.j\n",
       "  -0.99784432-0.04390669j]]"
      ]
     },
     "execution_count": 44,
     "metadata": {},
     "output_type": "execute_result"
    }
   ],
   "source": [
    "z3 = (op.data.toarray()[1][1]/op.data.toarray()[0][0])**0.5\n",
    "Zz3 = Qobj([[z3,0], [0,z3.conjugate()]])\n",
    "\n",
    "z2 = (op.data.toarray()[2][2]/op.data.toarray()[0][0])**0.5\n",
    "Zz2 = Qobj([[z2,0], [0,z2.conjugate()]])\n",
    "\n",
    "U1 = tensor(Zz2,Zz3)*op\n",
    "U1 = U1/U1.data.toarray()[0][0]\n",
    "CZ = U1\n",
    "CZ"
   ]
  },
  {
   "cell_type": "code",
   "execution_count": 56,
   "metadata": {},
   "outputs": [
    {
     "data": {
      "image/png": "[encoded data removed]",
      "text/plain": [
       "<matplotlib.figure.Figure at 0x7f545a44ab38>"
      ]
     },
     "metadata": {},
     "output_type": "display_data"
    }
   ],
   "source": [
    "ax1 = plt.subplot(111)\n",
    "hinton(real(CZ),ax = ax1)\n",
    "#plt.title(\"Re CZ\")\n",
    "plt.gcf().set_size_inches(5,4)\n",
    "plt.savefig(\"CZ diagram Re.pdf\",bbox_inches = \"tight\")"
   ]
  },
  {
   "cell_type": "code",
   "execution_count": 57,
   "metadata": {},
   "outputs": [
    {
     "data": {
      "image/png": "[encoded data removed]",
      "text/plain": [
       "<matplotlib.figure.Figure at 0x7f5459c1c1d0>"
      ]
     },
     "metadata": {},
     "output_type": "display_data"
    }
   ],
   "source": [
    "ax2 = plt.subplot(111)\n",
    "hinton(imag(CZ),ax = ax2)\n",
    "plt.gcf().set_size_inches(5,4)\n",
    "plt.savefig(\"CZ diagram Im.pdf\",bbox_inches = \"tight\")"
   ]
  },
  {
   "cell_type": "markdown",
   "metadata": {},
   "source": [
    "## iSwap"
   ]
  },
  {
   "cell_type": "code",
   "execution_count": 252,
   "metadata": {
    "collapsed": true
   },
   "outputs": [],
   "source": [
    "iop.dims = [[2,2],[2,2]]"
   ]
  },
  {
   "cell_type": "code",
   "execution_count": 253,
   "metadata": {},
   "outputs": [
    {
     "data": {
      "text/latex": [
       "Quantum object: dims = [[2, 2], [2, 2]], shape = [4, 4], type = oper, isherm = False\\begin{equation*}\\left(\\begin{array}{*{11}c}1.000 & 0.0 & 0.0 & (-0.006-7.964\\times10^{-04}j)\\\\0.0 & (-0.006-0.004j) & (0.739+0.672j) & 0.0\\\\0.0 & (-0.155+0.987j) & (-0.010+0.003j) & 0.0\\\\(-8.127\\times10^{-04}+0.003j) & 0.0 & 0.0 & (0.605-0.777j)\\\\\\end{array}\\right)\\end{equation*}"
      ],
      "text/plain": [
       "Quantum object: dims = [[2, 2], [2, 2]], shape = [4, 4], type = oper, isherm = False\n",
       "Qobj data =\n",
       "[[  1.00000000e+00 +0.00000000e+00j   0.00000000e+00 +0.00000000e+00j\n",
       "    0.00000000e+00 +0.00000000e+00j  -6.05043472e-03 -7.96374448e-04j]\n",
       " [  0.00000000e+00 +0.00000000e+00j  -6.33281425e-03 -3.69618323e-03j\n",
       "    7.38746809e-01 +6.71562846e-01j   0.00000000e+00 +0.00000000e+00j]\n",
       " [  0.00000000e+00 +0.00000000e+00j  -1.54529491e-01 +9.86547972e-01j\n",
       "   -9.52216950e-03 +2.73720108e-03j   0.00000000e+00 +0.00000000e+00j]\n",
       " [ -8.12662938e-04 +3.14412737e-03j   0.00000000e+00 +0.00000000e+00j\n",
       "    0.00000000e+00 +0.00000000e+00j   6.05468556e-01 -7.76827155e-01j]]"
      ]
     },
     "execution_count": 253,
     "metadata": {},
     "output_type": "execute_result"
    }
   ],
   "source": [
    "iop = iop/iop.data.toarray()[0][0]\n",
    "iop"
   ]
  },
  {
   "cell_type": "code",
   "execution_count": 282,
   "metadata": {},
   "outputs": [
    {
     "data": {
      "text/latex": [
       "Quantum object: dims = [[2, 2], [2, 2]], shape = [4, 4], type = oper, isherm = False\\begin{equation*}\\left(\\begin{array}{*{11}c}1.0 & 0.0 & 0.0 & (-0.006-7.964\\times10^{-04}j)\\\\0.0 & (-0.002-0.007j) & 0.998j & 0.0\\\\0.0 & 0.999j & (-0.009+0.004j) & 0.0\\\\(-0.003+0.002j) & 0.0 & 0.0 & (0.959-0.226j)\\\\\\end{array}\\right)\\end{equation*}"
      ],
      "text/plain": [
       "Quantum object: dims = [[2, 2], [2, 2]], shape = [4, 4], type = oper, isherm = False\n",
       "Qobj data =\n",
       "[[ 1.00000000 +0.00000000e+00j  0.00000000 +0.00000000e+00j\n",
       "   0.00000000 +0.00000000e+00j -0.00605043 -7.96374448e-04j]\n",
       " [ 0.00000000 +0.00000000e+00j -0.00152482 -7.17225338e-03j\n",
       "   0.00000000 +9.98370424e-01j  0.00000000 +0.00000000e+00j]\n",
       " [ 0.00000000 +0.00000000e+00j  0.00000000 +9.98577120e-01j\n",
       "  -0.00898388 +4.17778067e-03j  0.00000000 +0.00000000e+00j]\n",
       " [-0.00260431 +1.93997940e-03j  0.00000000 +0.00000000e+00j\n",
       "   0.00000000 +0.00000000e+00j  0.95872641 -2.25602004e-01j]]"
      ]
     },
     "execution_count": 282,
     "metadata": {},
     "output_type": "execute_result"
    }
   ],
   "source": [
    "i3 = (iop.data.toarray()[2][1]/iop.data.toarray()[0][0])**0.5\n",
    "i3 = i3 * (1-1j)/2\n",
    "Zi3 = Qobj([[i3,0], [0,i3.conjugate()]])\n",
    "i2 = (iop.data.toarray()[1][2]/iop.data.toarray()[0][0])**0.5\n",
    "i2 = i2 * (1-1j)/2\n",
    "Zi2 = Qobj([[i2,0], [0,i2.conjugate()]])\n",
    "iop_final = tensor(Zi3,Zi2)*iop\n",
    "iop_final = iop_final/ iop_final.data.toarray()[0][0]\n",
    "iSwap = iop_final\n",
    "iSwap"
   ]
  },
  {
   "cell_type": "code",
   "execution_count": 284,
   "metadata": {},
   "outputs": [
    {
     "data": {
      "image/png": "[encoded data removed]",
      "text/plain": [
       "<matplotlib.figure.Figure at 0x7fcaded43898>"
      ]
     },
     "metadata": {},
     "output_type": "display_data"
    }
   ],
   "source": [
    "ax1 = plt.subplot(111)\n",
    "hinton(real(iSwap),ax = ax1)\n",
    "#plt.title(\"Re CZ\")\n",
    "plt.gcf().set_size_inches(5,4)\n",
    "plt.savefig(\"iSwap diagram Re.pdf\",bbox_inches = \"tight\")"
   ]
  },
  {
   "cell_type": "code",
   "execution_count": 285,
   "metadata": {},
   "outputs": [
    {
     "data": {
      "image/png": "[encoded data removed]",
      "text/plain": [
       "<matplotlib.figure.Figure at 0x7fcadc081b70>"
      ]
     },
     "metadata": {},
     "output_type": "display_data"
    }
   ],
   "source": [
    "ax2 = plt.subplot(111)\n",
    "hinton(imag(iSwap),ax = ax2)\n",
    "plt.gcf().set_size_inches(5,4)\n",
    "plt.savefig(\"iSwap diagram Im.pdf\",bbox_inches = \"tight\")"
   ]
  },
  {
   "cell_type": "code",
   "execution_count": 283,
   "metadata": {},
   "outputs": [
    {
     "data": {
      "text/plain": [
       "0.9917500363696543"
      ]
     },
     "execution_count": 283,
     "metadata": {},
     "output_type": "execute_result"
    }
   ],
   "source": [
    "ideal_iop = iswap()\n",
    "ideal_iop_m = ideal_iop.data.toarray()\n",
    "ideal_iop_m[3][3] = iop_final.data.toarray()[3][3]\n",
    "ideal_iop = Qobj(ideal_iop_m)\n",
    "ideal_iop.dims = iop_final.dims\n",
    "abs((ideal_iop.dag()*iop_final).tr())/4"
   ]
  },
  {
   "cell_type": "code",
   "execution_count": 3,
   "metadata": {},
   "outputs": [],
   "source": [
    "def observe(output, operators, rotationFreq, every = 1 ):\n",
    "    output2 = copy.deepcopy(output)\n",
    "    output2.expect = []\n",
    "    for i in range(len(operators)*2):\n",
    "        output2.expect.append([])\n",
    "    num_operators = len(operators)\n",
    "    for time, state in zip(tlist[::every], output.states[::every]):\n",
    "        for i, op in enumerate(operators):\n",
    "            for qubit in [1,2]:\n",
    "                if rotationFreq[qubit-1] != 0:\n",
    "                    U = (-convert_2toN(sigmaz(), Hq_evecs())*1j*rotationFreq[qubit-1]/2 * time).expm()\n",
    "                    TU = T(U,qubit)\n",
    "                    output2.expect[(qubit-1)*num_operators + i].append(expect(TU.dag()*op(qubit)*TU, state))\n",
    "                else:\n",
    "                    output2.expect[(qubit-1)*num_operators + i].append(expect(op(qubit), state))\n",
    "    return output2"
   ]
  },
  {
   "cell_type": "code",
   "execution_count": 321,
   "metadata": {
    "collapsed": true
   },
   "outputs": [],
   "source": [
    "def infidelity_iswap(iop):\n",
    "    iop.dims = [[2,2],[2,2]]\n",
    "    iop = iop/iop.data.toarray()[0][0]\n",
    "    i3 = (iop.data.toarray()[2][1]/iop.data.toarray()[0][0])**0.5\n",
    "    i3 = i3 * (1-1j)/2\n",
    "    Zi3 = Qobj([[i3,0], [0,i3.conjugate()]])\n",
    "    i2 = (iop.data.toarray()[1][2]/iop.data.toarray()[0][0])**0.5\n",
    "    i2 = i2 * (1-1j)/2\n",
    "    Zi2 = Qobj([[i2,0], [0,i2.conjugate()]])\n",
    "    iop_final = tensor(Zi3,Zi2)*iop\n",
    "    iop_final = iop_final/ iop_final.data.toarray()[0][0]\n",
    "    ideal_iop = iswap()\n",
    "    ideal_iop_m = ideal_iop.data.toarray()\n",
    "    ideal_iop_m[3][3] = iop_final.data.toarray()[3][3]\n",
    "    ideal_iop = Qobj(ideal_iop_m)\n",
    "    ideal_iop.dims = iop_final.dims\n",
    "    #return 1 - fidelity( iop_final, ideal_iop)\n",
    "    return 1 - abs((ideal_iop.dag()*iop_final).tr())/4"
   ]
  },
  {
   "cell_type": "code",
   "execution_count": 322,
   "metadata": {},
   "outputs": [
    {
     "name": "stdout",
     "output_type": "stream",
     "text": [
      "0.007681572905296696\n"
     ]
    }
   ],
   "source": [
    "print(infidelity_iswap(iop))"
   ]
  },
  {
   "cell_type": "code",
   "execution_count": 310,
   "metadata": {
    "collapsed": true
   },
   "outputs": [],
   "source": [
    "def solve_iswap_st( st):\n",
    "    args['st'] = st[0]\n",
    "    print(args['st'])\n",
    "    infid = infidelity_iswap(get_pulse_operator_Nd(Hqq_evecs(1),Hqq_evecs(2),False))\n",
    "    print(infid)\n",
    "    return infid"
   ]
  },
  {
   "cell_type": "code",
   "execution_count": 312,
   "metadata": {
    "scrolled": true
   },
   "outputs": [
    {
     "name": "stdout",
     "output_type": "stream",
     "text": [
      "0.1\n",
      "0.008249963630345691\n",
      "0.1\n",
      "0.008249963630345691\n",
      "0.1\n",
      "0.008249963630345691\n",
      "0.10000000149\n",
      "0.008249963630345691\n",
      "-9.9\n",
      "0.4932643892154971\n",
      "0.27009728361\n",
      "0.007655691538479781\n",
      "0.440194567219\n",
      "0.00782482204874424\n",
      "0.185048641805\n",
      "0.007708504758379586\n",
      "0.270097287634\n",
      "0.007655691538479781\n",
      "0.227572962707\n",
      "0.007654748554927648\n",
      "0.248835123158\n",
      "0.007650711726923776\n",
      "0.206310802256\n",
      "0.00767198441739414\n",
      "0.27009728361\n",
      "0.007655691538479781\n",
      "0.248835126866\n",
      "0.007650712108427937\n",
      "0.238204042933\n",
      "0.007651352860446825\n",
      "0.254150663271\n",
      "0.007651232170382327\n",
      "0.246177353102\n",
      "0.007650648395999937\n",
      "0.243519583046\n",
      "0.007650740644257081\n",
      "0.24750623813\n",
      "0.007650663122307888\n",
      "0.24617735677\n",
      "0.007650648395999937\n",
      "0.245512910588\n",
      "0.007650659752620914\n",
      "0.246509574359\n",
      "0.007650648306393393\n",
      "0.246675684987\n",
      "0.007650648647954172\n",
      "0.246509574359\n"
     ]
    },
    {
     "name": "stderr",
     "output_type": "stream",
     "text": [
      "/usr/local/lib/python3.5/dist-packages/scipy/optimize/minpack.py:161: RuntimeWarning: The iteration is not making good progress, as measured by the \n",
      "  improvement from the last ten iterations.\n",
      "  warnings.warn(msg, RuntimeWarning)\n"
     ]
    },
    {
     "name": "stdout",
     "output_type": "stream",
     "text": [
      "0.007650648306393393\n",
      "0.1\n",
      "0.008249963630345691\n",
      "0.1\n",
      "0.008249963630345691\n",
      "0.1\n",
      "0.008249963630345691\n",
      "0.10000000149\n",
      "0.008249963630345691\n",
      "-9.9\n",
      "0.4932643892154971\n",
      "0.27009728361\n",
      "0.007655691538479781\n",
      "0.440194567219\n",
      "0.00782482204874424\n",
      "0.185048641805\n",
      "0.007708504758379586\n",
      "0.270097287634\n",
      "0.007655691538479781\n",
      "0.227572962707\n",
      "0.007654748554927648\n",
      "0.248835123158\n",
      "0.007650711726923776\n",
      "0.206310802256\n",
      "0.00767198441739414\n",
      "0.27009728361\n",
      "0.007655691538479781\n",
      "0.248835126866\n",
      "0.007650712108427937\n",
      "0.238204042933\n",
      "0.007651352860446825\n",
      "0.254150663271\n",
      "0.007651232170382327\n",
      "0.246177353102\n",
      "0.007650648395999937\n",
      "0.243519583046\n",
      "0.007650740644257081\n",
      "0.24750623813\n",
      "0.007650663122307888\n",
      "0.24617735677\n",
      "0.007650648395999937\n",
      "0.245512910588\n",
      "0.007650659752620914\n",
      "0.246509574359\n",
      "0.007650648306393393\n",
      "0.246675684987\n",
      "0.007650648647954172\n",
      "0.246509574359\n",
      "0.007650648306393393\n",
      "0.1\n",
      "0.008249963630345691\n",
      "0.1\n",
      "0.008249963630345691\n",
      "0.1\n",
      "0.008249963630345691\n",
      "0.10000000149\n",
      "0.008249963630345691\n",
      "-9.9\n",
      "0.4932643892154971\n",
      "0.27009728361\n",
      "0.007655691538479781\n",
      "0.440194567219\n",
      "0.00782482204874424\n",
      "0.185048641805\n",
      "0.007708504758379586\n",
      "0.270097287634\n",
      "0.007655691538479781\n",
      "0.227572962707\n",
      "0.007654748554927648\n",
      "0.248835123158\n",
      "0.007650711726923776\n",
      "0.206310802256\n",
      "0.00767198441739414\n",
      "0.27009728361\n",
      "0.007655691538479781\n",
      "0.248835126866\n",
      "0.007650712108427937\n",
      "0.238204042933\n",
      "0.007651352860446825\n",
      "0.254150663271\n",
      "0.007651232170382327\n",
      "0.246177353102\n",
      "0.007650648395999937\n",
      "0.243519583046\n",
      "0.007650740644257081\n",
      "0.24750623813\n",
      "0.007650663122307888\n",
      "0.24617735677\n",
      "0.007650648395999937\n",
      "0.245512910588\n",
      "0.007650659752620914\n",
      "0.246509574359\n",
      "0.007650648306393393\n",
      "0.246675684987\n",
      "0.007650648647954172\n",
      "0.246509574359\n",
      "0.007650648306393393\n",
      "0.1\n",
      "0.008249963630345691\n",
      "0.1\n",
      "0.008249963630345691\n",
      "0.1\n",
      "0.008249963630345691\n",
      "0.10000000149\n",
      "0.008249963630345691\n",
      "-9.9\n",
      "0.4932643892154971\n",
      "0.27009728361\n",
      "0.007655691538479781\n",
      "0.440194567219\n",
      "0.00782482204874424\n",
      "0.185048641805\n",
      "0.007708504758379586\n",
      "0.270097287634\n",
      "0.007655691538479781\n",
      "0.227572962707\n",
      "0.007654748554927648\n",
      "0.248835123158\n",
      "0.007650711726923776\n",
      "0.206310802256\n",
      "0.00767198441739414\n",
      "0.27009728361\n",
      "0.007655691538479781\n",
      "0.248835126866\n",
      "0.007650712108427937\n",
      "0.238204042933\n",
      "0.007651352860446825\n",
      "0.254150663271\n",
      "0.007651232170382327\n",
      "0.246177353102\n",
      "0.007650648395999937\n",
      "0.243519583046\n",
      "0.007650740644257081\n",
      "0.24750623813\n",
      "0.007650663122307888\n",
      "0.24617735677\n",
      "0.007650648395999937\n",
      "0.245512910588\n",
      "0.007650659752620914\n",
      "0.246509574359\n",
      "0.007650648306393393\n",
      "0.246675684987\n",
      "0.007650648647954172\n",
      "0.246509574359\n",
      "0.007650648306393393\n",
      "0.1\n",
      "0.008249963630345691\n",
      "0.1\n",
      "0.008249963630345691\n",
      "0.1\n",
      "0.008249963630345691\n",
      "0.10000000149\n",
      "0.008249963630345691\n",
      "-9.9\n",
      "0.4932643892154971\n",
      "0.27009728361\n",
      "0.007655691538479781\n",
      "0.440194567219\n",
      "0.00782482204874424\n",
      "0.185048641805\n",
      "0.007708504758379586\n",
      "0.270097287634\n",
      "0.007655691538479781\n",
      "0.227572962707\n",
      "0.007654748554927648\n",
      "0.248835123158\n",
      "0.007650711726923776\n",
      "0.206310802256\n",
      "0.00767198441739414\n",
      "0.27009728361\n",
      "0.007655691538479781\n",
      "0.248835126866\n",
      "0.007650712108427937\n",
      "0.238204042933\n",
      "0.007651352860446825\n",
      "0.254150663271\n",
      "0.007651232170382327\n",
      "0.246177353102\n",
      "0.007650648395999937\n",
      "0.243519583046\n",
      "0.007650740644257081\n",
      "0.24750623813\n",
      "0.007650663122307888\n",
      "0.24617735677\n",
      "0.007650648395999937\n",
      "0.245512910588\n",
      "0.007650659752620914\n",
      "0.246509574359\n",
      "0.007650648306393393\n",
      "0.246675684987\n",
      "0.007650648647954172\n",
      "0.246509574359\n",
      "0.007650648306393393\n",
      "0.1\n",
      "0.008249963630345691\n",
      "0.1\n",
      "0.008249963630345691\n",
      "0.1\n",
      "0.008249963630345691\n",
      "0.10000000149\n",
      "0.008249963630345691\n",
      "-9.9\n",
      "0.4932643892154971\n",
      "0.27009728361\n",
      "0.007655691538479781\n",
      "0.440194567219\n",
      "0.00782482204874424\n",
      "0.185048641805\n",
      "0.007708504758379586\n",
      "0.270097287634\n",
      "0.007655691538479781\n",
      "0.227572962707\n",
      "0.007654748554927648\n",
      "0.248835123158\n",
      "0.007650711726923776\n",
      "0.206310802256\n",
      "0.00767198441739414\n",
      "0.27009728361\n",
      "0.007655691538479781\n",
      "0.248835126866\n",
      "0.007650712108427937\n",
      "0.238204042933\n",
      "0.007651352860446825\n",
      "0.254150663271\n",
      "0.007651232170382327\n",
      "0.246177353102\n",
      "0.007650648395999937\n",
      "0.243519583046\n",
      "0.007650740644257081\n",
      "0.24750623813\n",
      "0.007650663122307888\n",
      "0.24617735677\n",
      "0.007650648395999937\n",
      "0.245512910588\n",
      "0.007650659752620914\n",
      "0.246509574359\n",
      "0.007650648306393393\n",
      "0.246675684987\n",
      "0.007650648647954172\n",
      "0.246509574359\n",
      "0.007650648306393393\n",
      "0.1\n",
      "0.008249963630345691\n",
      "0.1\n",
      "0.008249963630345691\n",
      "0.1\n",
      "0.008249963630345691\n",
      "0.10000000149\n",
      "0.008249963630345691\n",
      "-9.9\n",
      "0.4932643892154971\n",
      "0.27009728361\n",
      "0.007655691538479781\n",
      "0.440194567219\n",
      "0.00782482204874424\n",
      "0.185048641805\n",
      "0.007708504758379586\n",
      "0.270097287634\n",
      "0.007655691538479781\n",
      "0.227572962707\n",
      "0.007654748554927648\n",
      "0.248835123158\n",
      "0.007650711726923776\n",
      "0.206310802256\n",
      "0.00767198441739414\n",
      "0.27009728361\n",
      "0.007655691538479781\n",
      "0.248835126866\n",
      "0.007650712108427937\n",
      "0.238204042933\n",
      "0.007651352860446825\n",
      "0.254150663271\n",
      "0.007651232170382327\n",
      "0.246177353102\n",
      "0.007650648395999937\n",
      "0.243519583046\n",
      "0.007650740644257081\n",
      "0.24750623813\n",
      "0.007650663122307888\n",
      "0.24617735677\n",
      "0.007650648395999937\n",
      "0.245512910588\n",
      "0.007650659752620914\n",
      "0.246509574359\n",
      "0.007650648306393393\n",
      "0.246675684987\n",
      "0.007650648647954172\n",
      "0.246509574359\n",
      "0.007650648306393393\n",
      "0.1\n",
      "0.008249963630345691\n",
      "0.1\n",
      "0.008249963630345691\n",
      "0.1\n",
      "0.008249963630345691\n",
      "0.10000000149\n",
      "0.008249963630345691\n",
      "-9.9\n",
      "0.4932643892154971\n",
      "0.27009728361\n",
      "0.007655691538479781\n",
      "0.440194567219\n",
      "0.00782482204874424\n",
      "0.185048641805\n",
      "0.007708504758379586\n",
      "0.270097287634\n",
      "0.007655691538479781\n",
      "0.227572962707\n",
      "0.007654748554927648\n",
      "0.248835123158\n",
      "0.007650711726923776\n",
      "0.206310802256\n",
      "0.00767198441739414\n",
      "0.27009728361\n",
      "0.007655691538479781\n",
      "0.248835126866\n",
      "0.007650712108427937\n",
      "0.238204042933\n",
      "0.007651352860446825\n",
      "0.254150663271\n",
      "0.007651232170382327\n",
      "0.246177353102\n",
      "0.007650648395999937\n",
      "0.243519583046\n",
      "0.007650740644257081\n",
      "0.24750623813\n",
      "0.007650663122307888\n",
      "0.24617735677\n",
      "0.007650648395999937\n",
      "0.245512910588\n",
      "0.007650659752620914\n",
      "0.246509574359\n",
      "0.007650648306393393\n",
      "0.246675684987\n",
      "0.007650648647954172\n",
      "0.246509574359\n",
      "0.007650648306393393\n"
     ]
    }
   ],
   "source": [
    "from scipy.optimize import fsolve\n",
    "starting_points = [0.1,0.2,0.3,1,2,3,0.01,0.05]\n",
    "st_results = []\n",
    "inf_results = []\n",
    "for sp in starting_points:\n",
    "    best_st = fsolve(solve_iswap_st,0.1)\n",
    "    st_results.append(best_st)\n",
    "    inf_results.append(solve_iswap_st(best_st))"
   ]
  },
  {
   "cell_type": "code",
   "execution_count": 308,
   "metadata": {},
   "outputs": [
    {
     "name": "stdout",
     "output_type": "stream",
     "text": [
      "[ 0.24650957]\n"
     ]
    }
   ],
   "source": [
    "print(best_st)"
   ]
  },
  {
   "cell_type": "code",
   "execution_count": null,
   "metadata": {
    "collapsed": true
   },
   "outputs": [],
   "source": []
  }
 ],
 "metadata": {
  "kernelspec": {
   "display_name": "Python 3",
   "language": "python",
   "name": "python3"
  },
  "language_info": {
   "codemirror_mode": {
    "name": "ipython",
    "version": 3
   },
   "file_extension": ".py",
   "mimetype": "text/x-python",
   "name": "python",
   "nbconvert_exporter": "python",
   "pygments_lexer": "ipython3",
   "version": "3.5.2"
  }
 },
 "nbformat": 4,
 "nbformat_minor": 2
}
