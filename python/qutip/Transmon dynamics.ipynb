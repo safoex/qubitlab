{
 "cells": [
  {
   "cell_type": "code",
   "execution_count": 2,
   "metadata": {
    "collapsed": true
   },
   "outputs": [],
   "source": [
    "from qutip import *\n",
    "from qutip.operators import *\n",
    "import matplotlib.pyplot as plt\n",
    "import numpy as np\n",
    "%matplotlib inline\n",
    "from cython import *"
   ]
  },
  {
   "cell_type": "code",
   "execution_count": 3,
   "metadata": {
    "collapsed": true
   },
   "outputs": [],
   "source": [
    "wa = 1.0  * 2 * np.pi  # atom frequency\n",
    "g  = 0.05 * 2 * np.pi  # coupling strength\n",
    "f  = 0.7 * 2 * np.pi  # external field\n",
    "\n",
    "n_th_a = 0.0           # temperature in frequency units\n",
    "\n",
    "tlist = np.linspace(0,200,5000)"
   ]
  },
  {
   "cell_type": "code",
   "execution_count": null,
   "metadata": {
    "collapsed": true
   },
   "outputs": [],
   "source": []
  },
  {
   "cell_type": "code",
   "execution_count": 9,
   "metadata": {
    "collapsed": true
   },
   "outputs": [],
   "source": [
    "N_states = 5\n",
    "ng_steps = 300\n",
    "\n",
    "#\n",
    "def njjp1(j,Ej,Ec):\n",
    "    return ((j+1)/2)**0.5*(Ej/2/Ec)**0.25\n",
    "\n",
    "def projector(N,n,m):\n",
    "    # |m><n| operator\n",
    "    a = np.zeros((N,N),dtype = np.float64)\n",
    "    if(n >= N or n < 0 or m >= N or m < 0):\n",
    "        return Qobj(a)\n",
    "    a[n,m] = 1\n",
    "    return Qobj(a)\n",
    "#\n",
    "def projector_pm(N,n,m):\n",
    "    a = np.zeros((2*N+1,2*N+1),dtype = np.float64)\n",
    "    if(n > N or n < -N or m > N or m < -N):\n",
    "        return Qobj(a)\n",
    "    a[N+n,N+m] = 1\n",
    "    return Qobj(a)\n",
    "\n",
    "#\n",
    "def num_pm(N):\n",
    "    return num(2*N+1, offset = -N)    \n",
    "def zero_pm(N):\n",
    "    return zero_oper(2*N+1)"
   ]
  },
  {
   "cell_type": "code",
   "execution_count": 62,
   "metadata": {
    "collapsed": false
   },
   "outputs": [],
   "source": [
    "Ec = wa\n",
    "Ej = 2.5*Ec\n",
    "N_states = 20\n",
    "n = num_pm(N_states)\n",
    "ng = 0\n",
    "Hc = Ec*(n-ng)**2\n",
    "\n",
    "f = Ec\n",
    "Hj = zero_pm(N_states)\n",
    "C = zero_pm(N_states)\n",
    "for n in range(-N_states,N_states+1):\n",
    "    Hj = Hj - 0.5*Ej*(projector_pm(N_states,n,n+1) + projector_pm(N_states,n+1,n))\n",
    "    C = C + njjp1(abs(n),Ej,Ec)/njjp1(0,Ej,Ec)*projector_pm(N_states,n+1,n)\n",
    "Hq = Hj + Hc\n",
    "\n",
    "n = num_pm(N_states)\n",
    "Hf = f * n\n",
    "Hf_coeff_cython = \"sin(t * w + phi)\"\n",
    "Args = {'w' : 1.5*wa, 'phi' : 0}\n",
    "\n",
    "def Hf_coeff_python(t, args):\n",
    "    return np.sin(t * args['w'] + args['phi'])\n",
    "\n",
    "psi0 = basis(2*N_states+1,N_states)\n",
    "tlist = np.linspace(0,50,400)"
   ]
  },
  {
   "cell_type": "code",
   "execution_count": 63,
   "metadata": {
    "collapsed": false
   },
   "outputs": [],
   "source": [
    "c_op_list = []\n",
    "\n",
    "gamma_relax = 0.00\n",
    "gamma_dephase_m = 0.02\n",
    "gamma_dephase_p = 0.02\n",
    "\n",
    "\n",
    "rate = gamma_dephase_m\n",
    "if rate > 0.0:\n",
    "    c_op_list.append(np.sqrt(rate) * C)\n",
    "\n",
    "rate = gamma_dephase_p\n",
    "if rate > 0.0:\n",
    "    c_op_list.append(np.sqrt(rate) * C.dag())\n",
    "\n",
    "\n",
    "rate = gamma_relax/2\n",
    "if rate > 0.0:\n",
    "    c_op_list.append(np.sqrt(rate) * num_pm(N_states))"
   ]
  },
  {
   "cell_type": "code",
   "execution_count": null,
   "metadata": {
    "collapsed": false
   },
   "outputs": [],
   "source": [
    "%%time\n",
    "H = [Hq, [Hf, Hf_coeff_cython]]\n",
    "expected = [num_pm(N_states)]\n",
    "for i in range(-N_states,N_states+1):\n",
    "    expected.append(projector_pm(N_states, i,i))\n",
    "output = mesolve(H, psi0, tlist, c_op_list, expected, args = Args,options= Options(nsteps=10000))"
   ]
  },
  {
   "cell_type": "code",
   "execution_count": null,
   "metadata": {
    "collapsed": true
   },
   "outputs": [],
   "source": [
    "%%time\n",
    "H = [Hq, [Hf, Hf_coeff_python]]\n",
    "output = mesolve(H, psi0, tlist, c_op_list, [num_pm(n_states)], args = Args)"
   ]
  },
  {
   "cell_type": "code",
   "execution_count": null,
   "metadata": {
    "collapsed": false
   },
   "outputs": [],
   "source": [
    "fig, ax = plt.subplots(figsize=(13,5))\n",
    "ax.plot(tlist, output.expect[3], label=\"Atom excited state\")\n",
    "ax.legend()\n",
    "ax.set_xlabel('Time')\n",
    "ax.set_ylabel('Occupation probability')\n",
    "ax.set_title('Rabi oscillations');"
   ]
  },
  {
   "cell_type": "code",
   "execution_count": null,
   "metadata": {
    "collapsed": true
   },
   "outputs": [],
   "source": []
  }
 ],
 "metadata": {
  "kernelspec": {
   "display_name": "Python 3",
   "language": "python",
   "name": "python3"
  },
  "language_info": {
   "codemirror_mode": {
    "name": "ipython",
    "version": 3
   },
   "file_extension": ".py",
   "mimetype": "text/x-python",
   "name": "python",
   "nbconvert_exporter": "python",
   "pygments_lexer": "ipython3",
   "version": "3.4.3"
  }
 },
 "nbformat": 4,
 "nbformat_minor": 1
}
