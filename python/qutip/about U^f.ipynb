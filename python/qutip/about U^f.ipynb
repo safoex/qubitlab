{
 "cells": [
  {
   "cell_type": "code",
   "execution_count": 1,
   "metadata": {
    "collapsed": true
   },
   "outputs": [],
   "source": [
    "import sys\n",
    "#sys.path.append(\"~/Documents/qubitlab/python/qutip\")\n",
    "from libqubit2d import *\n",
    "from scipy.optimize import *\n",
    "from scipy.integrate import *\n"
   ]
  },
  {
   "cell_type": "code",
   "execution_count": 81,
   "metadata": {
    "collapsed": false
   },
   "outputs": [],
   "source": [
    "wz = 1\n",
    "#H = wz/2 * sigmaz()\n",
    "#n = sigmax()\n",
    "gate = []\n",
    "tlast = 10\n",
    "base = [basis(2,0),basis(2,1)]\n",
    "H1 = [wz/2*sigmaz(),[sigmax(),\"cos(w*t)\"]]\n",
    "result = mesolve(H1,basis(2,0),np.linspace(0,tlast,100),args = {'w':wz})\n",
    "gate.append([(psi.dag()*result.states[-1]).data.toarray()[0][0] for psi in base])\n",
    "result = mesolve(H1,basis(2,1),np.linspace(0,tlast,100),args = {'w':wz})\n",
    "gate.append([(psi.dag()*result.states[-1]).data.toarray()[0][0] for psi in base])"
   ]
  },
  {
   "cell_type": "code",
   "execution_count": 83,
   "metadata": {
    "collapsed": false
   },
   "outputs": [],
   "source": [
    "g0 = Qobj(gate).trans()\n",
    "g1 = (1j*H*tlast).expm()*g0"
   ]
  },
  {
   "cell_type": "code",
   "execution_count": 87,
   "metadata": {
    "collapsed": false
   },
   "outputs": [
    {
     "data": {
      "text/latex": [
       "Quantum object: dims = [[2], [2]], shape = [2, 2], type = oper, isherm = False\\begin{equation*}\\left(\\begin{array}{*{11}c}(0.288-0.148j) & (0.161+0.932j)\\\\(-0.161+0.932j) & (0.288+0.148j)\\\\\\end{array}\\right)\\end{equation*}"
      ],
      "text/plain": [
       "Quantum object: dims = [[2], [2]], shape = [2, 2], type = oper, isherm = False\n",
       "Qobj data =\n",
       "[[ 0.28837041-0.14784327j  0.16078138+0.93227368j]\n",
       " [-0.16078138+0.93227368j  0.28837041+0.14784327j]]"
      ]
     },
     "execution_count": 87,
     "metadata": {},
     "output_type": "execute_result"
    }
   ],
   "source": [
    "g1"
   ]
  },
  {
   "cell_type": "code",
   "execution_count": 92,
   "metadata": {
    "collapsed": true
   },
   "outputs": [],
   "source": [
    "wz = 1\n",
    "#H = wz/2 * sigmaz()\n",
    "#n = sigmax()\n",
    "gatesq = []\n",
    "tlast = 10\n",
    "base = [basis(2,0),basis(2,1)]\n",
    "H1 = [wz/2*sigmaz(),[2*sigmax(),\"cos(w*t)\"]]\n",
    "result = mesolve(H1,basis(2,0),np.linspace(0,tlast,100),args = {'w':wz})\n",
    "gatesq.append([(psi.dag()*result.states[-1]).data.toarray()[0][0] for psi in base])\n",
    "result = mesolve(H1,basis(2,1),np.linspace(0,tlast,100),args = {'w':wz})\n",
    "gatesq.append([(psi.dag()*result.states[-1]).data.toarray()[0][0] for psi in base])"
   ]
  },
  {
   "cell_type": "code",
   "execution_count": 93,
   "metadata": {
    "collapsed": true
   },
   "outputs": [],
   "source": [
    "g0sq = Qobj(gatesq).trans()\n",
    "g1sq = (1j*H*tlast).expm()*g0sq"
   ]
  },
  {
   "cell_type": "code",
   "execution_count": 95,
   "metadata": {
    "collapsed": false
   },
   "outputs": [
    {
     "data": {
      "text/latex": [
       "Quantum object: dims = [[2], [2]], shape = [2, 2], type = oper, isherm = False\\begin{equation*}\\left(\\begin{array}{*{11}c}(-0.834-0.085j) & (0.093+0.538j)\\\\(-0.093+0.538j) & (-0.834+0.085j)\\\\\\end{array}\\right)\\end{equation*}"
      ],
      "text/plain": [
       "Quantum object: dims = [[2], [2]], shape = [2, 2], type = oper, isherm = False\n",
       "Qobj data =\n",
       "[[-0.83368501-0.08526725j  0.09272919+0.53768029j]\n",
       " [-0.09272919+0.53768029j -0.83368501+0.08526725j]]"
      ]
     },
     "execution_count": 95,
     "metadata": {},
     "output_type": "execute_result"
    }
   ],
   "source": [
    "g1*g1"
   ]
  },
  {
   "cell_type": "code",
   "execution_count": 94,
   "metadata": {
    "collapsed": false
   },
   "outputs": [
    {
     "data": {
      "text/latex": [
       "Quantum object: dims = [[2], [2]], shape = [2, 2], type = oper, isherm = False\\begin{equation*}\\left(\\begin{array}{*{11}c}(0.479-0.018j) & (0.092-0.873j)\\\\(-0.092-0.873j) & (0.479+0.018j)\\\\\\end{array}\\right)\\end{equation*}"
      ],
      "text/plain": [
       "Quantum object: dims = [[2], [2]], shape = [2, 2], type = oper, isherm = False\n",
       "Qobj data =\n",
       "[[ 0.47865097-0.01785062j  0.09218424-0.87297003j]\n",
       " [-0.09218424-0.87297003j  0.47865097+0.01785062j]]"
      ]
     },
     "execution_count": 94,
     "metadata": {},
     "output_type": "execute_result"
    }
   ],
   "source": [
    "g1sq"
   ]
  },
  {
   "cell_type": "code",
   "execution_count": 46,
   "metadata": {
    "collapsed": false
   },
   "outputs": [
    {
     "data": {
      "text/latex": [
       "Quantum object: dims = [[2], [2]], shape = [2, 2], type = oper, isherm = False\\begin{equation*}\\left(\\begin{array}{*{11}c}0.0 & 0.0\\\\1.0 & 0.0\\\\\\end{array}\\right)\\end{equation*}"
      ],
      "text/plain": [
       "Quantum object: dims = [[2], [2]], shape = [2, 2], type = oper, isherm = False\n",
       "Qobj data =\n",
       "[[ 0.  0.]\n",
       " [ 1.  0.]]"
      ]
     },
     "execution_count": 46,
     "metadata": {},
     "output_type": "execute_result"
    }
   ],
   "source": [
    "sigmam()"
   ]
  },
  {
   "cell_type": "code",
   "execution_count": 89,
   "metadata": {
    "collapsed": false
   },
   "outputs": [],
   "source": [
    "H2 = [sigmax()/2, [sigmap()/2,\"exp(+1j*2*w*t)\"],[sigmam()/2,\"exp(-1j*2*w*t)\"]]\n",
    "gate2 = []\n",
    "result = mesolve(H2,basis(2,0),np.linspace(0,tlast,100),args = {'w':wz})\n",
    "gate2.append([(psi.dag()*result.states[-1]).data.toarray()[0][0] for psi in base])\n",
    "result = mesolve(H2,basis(2,1),np.linspace(0,tlast,100),args = {'w':wz})\n",
    "gate2.append([(psi.dag()*result.states[-1]).data.toarray()[0][0] for psi in base])"
   ]
  },
  {
   "cell_type": "code",
   "execution_count": 90,
   "metadata": {
    "collapsed": false
   },
   "outputs": [],
   "source": [
    "g2 = Qobj(gate2).trans()"
   ]
  },
  {
   "cell_type": "code",
   "execution_count": 91,
   "metadata": {
    "collapsed": false
   },
   "outputs": [
    {
     "data": {
      "text/latex": [
       "Quantum object: dims = [[2], [2]], shape = [2, 2], type = oper, isherm = False\\begin{equation*}\\left(\\begin{array}{*{11}c}(0.288-0.148j) & (0.161+0.932j)\\\\(-0.161+0.932j) & (0.288+0.148j)\\\\\\end{array}\\right)\\end{equation*}"
      ],
      "text/plain": [
       "Quantum object: dims = [[2], [2]], shape = [2, 2], type = oper, isherm = False\n",
       "Qobj data =\n",
       "[[ 0.28837515-0.14784317j  0.16077940+0.93227258j]\n",
       " [-0.16077940+0.93227258j  0.28837515+0.14784317j]]"
      ]
     },
     "execution_count": 91,
     "metadata": {},
     "output_type": "execute_result"
    }
   ],
   "source": [
    "g2"
   ]
  },
  {
   "cell_type": "code",
   "execution_count": null,
   "metadata": {
    "collapsed": true
   },
   "outputs": [],
   "source": []
  }
 ],
 "metadata": {
  "kernelspec": {
   "display_name": "Python 3",
   "language": "python",
   "name": "python3"
  },
  "language_info": {
   "codemirror_mode": {
    "name": "ipython",
    "version": 3
   },
   "file_extension": ".py",
   "mimetype": "text/x-python",
   "name": "python",
   "nbconvert_exporter": "python",
   "pygments_lexer": "ipython3",
   "version": "3.5.2"
  }
 },
 "nbformat": 4,
 "nbformat_minor": 2
}
