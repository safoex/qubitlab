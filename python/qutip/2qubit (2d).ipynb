{
 "cells": [
  {
   "cell_type": "code",
   "execution_count": 914,
   "metadata": {
    "collapsed": true
   },
   "outputs": [],
   "source": [
    "from qutip import *\n",
    "from qutip.operators import *\n",
    "import matplotlib.pyplot as plt\n",
    "import numpy as np \n",
    "%matplotlib inline\n",
    "from cython import *\n",
    "from sympy import lambdify\n",
    "import copy\n",
    "from functools import *"
   ]
  },
  {
   "cell_type": "code",
   "execution_count": 915,
   "metadata": {
    "collapsed": true
   },
   "outputs": [],
   "source": [
    "def real(oper):\n",
    "    return (oper+oper.conj())/2\n",
    "def imag(oper):\n",
    "    return (oper-oper.conj())/2"
   ]
  },
  {
   "cell_type": "markdown",
   "metadata": {},
   "source": [
    "w = 10,20 wxx = 0.2 T ~ 9600, 4800\n",
    "w = 10,20 wxx = 0.4 T ~ 2400, 1200\n",
    "w = 10,20 wxx = 0.8 T ~ 600,  300\n",
    "w = 5, 20 wxx = 0.4 T ~ 3000, 1500\n",
    "w = 8, 20 wxx = 0.4 T ~ 2500, 1333\n",
    "w = 4, 20 wxx = 0.4 T ~ 7600, 1500\n",
    "w = 2, 20 wxx = 0.4 T ~ 15200,1550\n",
    "w = 5, 25 wxx = 0.4 T ~ 9600, 1900"
   ]
  },
  {
   "cell_type": "code",
   "execution_count": null,
   "metadata": {
    "collapsed": true
   },
   "outputs": [],
   "source": [
    " "
   ]
  },
  {
   "cell_type": "markdown",
   "metadata": {},
   "source": [
    "# Parameters"
   ]
  },
  {
   "cell_type": "code",
   "execution_count": 1138,
   "metadata": {
    "collapsed": false
   },
   "outputs": [],
   "source": [
    "k = 1\n",
    "w    = [5*2*np.pi*k,6.1*2*np.pi*k]   #w[i] is transition frequency of qubit [i] \n",
    "wxx  = 0.05*np.pi*k  #wxx is coupling energy\n",
    "f    = [0.07*2*np.pi*k,0] #f[i] is amplitude of microwave signal applied to qubit [i] 3\n",
    "w_rf = [w[1], 0]  #w_rf[i] is frequency of --//--\n",
    "phi  = [0, 0]  #phi[i] is phase of --//--\n",
    "N    = [2,2]   #2lvls approximation"
   ]
  },
  {
   "cell_type": "code",
   "execution_count": 1139,
   "metadata": {
    "collapsed": true
   },
   "outputs": [],
   "source": [
    "a = 0\n",
    "b = t_gate = 1*np.pi/wxx/f[0]*abs(w[0]-w[1])\n",
    "st = 0.01"
   ]
  },
  {
   "cell_type": "code",
   "execution_count": 1140,
   "metadata": {
    "collapsed": true
   },
   "outputs": [],
   "source": [
    "args = {'a':a, 'b':b,'st':st, 'w_rf':w_rf[0],'phi':phi[0]}"
   ]
  },
  {
   "cell_type": "code",
   "execution_count": 1141,
   "metadata": {
    "collapsed": true
   },
   "outputs": [],
   "source": [
    "time_coeff = \"cos(w_rf*t + phi)*0.5*(tanh((t-a)/st) - tanh((t-b)/st))\"\n",
    "tlist_t = 5000\n",
    "timesteps = 500\n",
    "tlist = np.linspace(0,tlist_t,timesteps)"
   ]
  },
  {
   "cell_type": "code",
   "execution_count": 1142,
   "metadata": {
    "collapsed": false
   },
   "outputs": [
    {
     "name": "stderr",
     "output_type": "stream",
     "text": [
      "/usr/local/lib/python3.5/dist-packages/matplotlib/axes/_axes.py:531: UserWarning: No labelled objects found. Use label='...' kwarg on individual plots.\n",
      "  warnings.warn(\"No labelled objects found. \"\n"
     ]
    },
    {
     "data": {
      "image/png": "[encoded data removed]",
      "text/plain": [
       "<matplotlib.figure.Figure at 0x7ff34ed43438>"
      ]
     },
     "metadata": {},
     "output_type": "display_data"
    }
   ],
   "source": [
    "time_c_func = lambdify({'a','b','t','st','w_rf', 'phi'},time_coeff,'numpy')\n",
    "fig, ax = plt.subplots(1,1, figsize=(13,3))\n",
    "ax.set_title('$E_j(t)$');\n",
    "ax.plot(tlist, time_c_func(a=args['a'],b=args['b'],st=args['st'],w_rf=args['w_rf'],phi=args['phi'],t=tlist))\n",
    "ax.set_ylim(-1.2,1.2)\n",
    "ax.legend()\n",
    "ax.set_xlabel('Time')\n",
    "ax.set_ylabel('Magnitude');"
   ]
  },
  {
   "cell_type": "markdown",
   "metadata": {},
   "source": [
    "# Operators definition"
   ]
  },
  {
   "cell_type": "code",
   "execution_count": 1143,
   "metadata": {
    "collapsed": false
   },
   "outputs": [],
   "source": [
    "def T(oper, qubit, N = N):\n",
    "    if qubit == 1:\n",
    "        return tensor(oper, identity(N[1]))\n",
    "    else:\n",
    "        return tensor(identity(N[0]), oper)\n",
    "def THq(qubit,w = w):\n",
    "    return 0.5*w[qubit-1]*T(sigmaz(),qubit)\n",
    "def THint(wxx = wxx):\n",
    "    return 0.5*wxx*tensor(sigmax(), sigmax())\n",
    "def THf(qubit, ff=None):\n",
    "    return (f[qubit-1] if ff==None else ff)*T(sigmax(),qubit)\n",
    "def THsys_t(ff=f[0]):\n",
    "    return [THq(1) + THq(2) + THint(),[THf(1,ff), time_coeff]]\n",
    "anh = abs(w[0] - w[1])\n",
    "def THsys_t_new():\n",
    "    return wxx/4*(1/(1+anh**2/f[0]**2))*(1*tensor(sigmax(),sigmax()) + anh/f[0]*tensor(sigmaz(),sigmax()))\n",
    "\n",
    "def TSx(qubit, N = N):\n",
    "    return T(sigmax(),qubit, N)\n",
    "\n",
    "def TSy(qubit, N = N):\n",
    "    return T(sigmay(),qubit, N)\n",
    "\n",
    "def TSz(qubit, N = N):\n",
    "    return T(sigmaz(),qubit, N)\n",
    "\n",
    "def TSp(qubit, N = N):\n",
    "    return T(sigmap(),qubit, N)\n",
    "\n",
    "def TSm(qubit, N = N):\n",
    "    return T(sigmam(),qubit, N)"
   ]
  },
  {
   "cell_type": "code",
   "execution_count": 1144,
   "metadata": {
    "collapsed": false
   },
   "outputs": [
    {
     "data": {
      "text/plain": [
       "[Quantum object: dims = [[2, 2], [2, 2]], shape = [4, 4], type = oper, isherm = True\n",
       " Qobj data =\n",
       " [[ 34.87167845   0.           0.           0.07853982]\n",
       "  [  0.          -3.45575192   0.07853982   0.        ]\n",
       "  [  0.           0.07853982   3.45575192   0.        ]\n",
       "  [  0.07853982   0.           0.         -34.87167845]],\n",
       " [Quantum object: dims = [[2, 2], [2, 2]], shape = [4, 4], type = oper, isherm = True\n",
       "  Qobj data =\n",
       "  [[ 0.          0.          0.43982297  0.        ]\n",
       "   [ 0.          0.          0.          0.43982297]\n",
       "   [ 0.43982297  0.          0.          0.        ]\n",
       "   [ 0.          0.43982297  0.          0.        ]],\n",
       "  'cos(w_rf*t + phi)*0.5*(tanh((t-a)/st) - tanh((t-b)/st))']]"
      ]
     },
     "execution_count": 1144,
     "metadata": {},
     "output_type": "execute_result"
    }
   ],
   "source": [
    "THsys_t()"
   ]
  },
  {
   "cell_type": "markdown",
   "metadata": {},
   "source": [
    "# Visualisation"
   ]
  },
  {
   "cell_type": "code",
   "execution_count": 1145,
   "metadata": {
    "collapsed": false
   },
   "outputs": [],
   "source": [
    "def Tvis_out(output,every_t = 1):\n",
    "    graphs = int(len(output.expect)/2)\n",
    "    fig, axes2d = plt.subplots(graphs,2, figsize=(9,2*graphs), sharex=True)\n",
    "    #axes[0].set_title('f = %.3f, $t_{gate}$ = %.0f, $\\phi$ = %f'%(f,t_gate1,phase1));\n",
    "    labels = ['$\\sigma_x(%d)$','$\\sigma_y(%d)$','$\\sigma_z(%d)$']\n",
    "    colors = [\"r\",\"g\",\"b\",\"black\",\"black\",\"black\",\"black\",\"black\",\"black\"]\n",
    "    for idx, axes in enumerate(axes2d):\n",
    "        for idy, ax in enumerate(axes):\n",
    "            #print(\"%d %d\"%(idx,idy))\n",
    "            ax.plot(tlist[::every_t], output.expect[idy*graphs + idx],linewidth=(2.5 if idy else 1.0),color=colors[idx], label=(labels[idx]%(idy) if idx <3 else \"%d(%d)\"%(idx-3,idy)) )\n",
    "            #ax.plot(tlist, oldoutput.expect[1+idx], label=\"Transmon %i state\"%idx)\n",
    "            #ax.plot(tlist, 0.2+ 0.1*time_c_func(a=a,b=b,st=st,t=tlist,w=Eq,phase1=phase1,phase2=phase2,a2=a2,b2=b2),label=\"pulse (not exact)\")\n",
    "            ax.set_ylim(-1.5,1.1)\n",
    "            if idy == 1:\n",
    "                ax.legend(bbox_to_anchor = [1,0],loc = \"lower right\")\n",
    "            else:\n",
    "                ax.legend(bbox_to_anchor = [1,1],loc = \"upper right\")\n",
    "            if idx == graphs-1:\n",
    "                ax.set_xlabel('Time')\n",
    "            \n",
    "def Tvis_out_print(output,every_t = 1):\n",
    "    graphs = int(len(output.expect)/2)\n",
    "    fig, axes = plt.subplots(1,2, figsize=(13,5), sharex=True)\n",
    "    #axes[0].set_title('f = %.3f, $t_{gate}$ = %.0f, $\\phi$ = %f'%(f,t_gate1,phase1));\n",
    "    labels = ['$\\sigma_x(%d)$','$\\sigma_y(%d)$','$\\sigma_z(%d)$']\n",
    "    for idx in range(graphs):\n",
    "        for idy, ax in enumerate(axes):\n",
    "            #print(\"%d %d\"%(idx,idy))\n",
    "            ax.plot(tlist[::every_t], output.expect[idy*graphs + idx], label=(labels[idx]%(idy) if idx <3 else \"%d(%d)\"%(idx-3,idy)) + \" state\")\n",
    "            #ax.plot(tlist, oldoutput.expect[1+idx], label=\"Transmon %i state\"%idx)\n",
    "            #ax.plot(tlist, 0.2+ 0.1*time_c_func(a=a,b=b,st=st,t=tlist,w=Eq,phase1=phase1,phase2=phase2,a2=a2,b2=b2),label=\"pulse (not exact)\")\n",
    "            ax.set_ylim(-1.5,1.1)\n",
    "            ax.legend(bbox_to_anchor = [0,0],loc = \"lower left\")\n",
    "            ax.set_xlabel('Time')\n",
    "                        "
   ]
  },
  {
   "cell_type": "markdown",
   "metadata": {},
   "source": [
    "# Dynamics"
   ]
  },
  {
   "cell_type": "code",
   "execution_count": 1146,
   "metadata": {
    "collapsed": false
   },
   "outputs": [],
   "source": [
    "expected = []\n",
    "Tpsi0 = tensor(basis(2,1), basis(2,1))\n",
    "#Tpsi0 = tensor(basis(2,0)+basis(2,1), (basis(2,0) + basis(2,1)))/2\n",
    "tlist = np.linspace(0,np.pi/wxx/f[0]*abs(w[0]-w[1]),timesteps)\n",
    "t_gate = 1*np.pi/wxx/f[0]*abs(w[0]-w[1])\n",
    "tlist = np.linspace(0,t_gate,timesteps)\n",
    "def collapse_list():\n",
    "    return []\n",
    "def solve(expected_ops , Tpsi_0 =Tpsi0, with_progress_bar = None):\n",
    "    if with_progress_bar:\n",
    "        print(THsys_t())\n",
    "        return mesolve(THsys_t(), Tpsi_0, tlist, collapse_list(), expected_ops, args = args,options= Options(nsteps=100000,rhs_reuse = True), progress_bar=True)\n",
    "    else:\n",
    "        print(THsys_t())\n",
    "        return mesolve(THsys_t(), Tpsi_0, tlist, collapse_list(), expected_ops, args = args,options= Options(nsteps=100000,rhs_reuse = True), progress_bar=None)"
   ]
  },
  {
   "cell_type": "code",
   "execution_count": 1131,
   "metadata": {
    "collapsed": true
   },
   "outputs": [],
   "source": [
    "def get_pulse_operator():\n",
    "    Tpsi = [tensor(basis(2,1), basis(2,1)), tensor(basis(2,1), basis(2,0)), tensor(basis(2,0), basis(2,1)), tensor(basis(2,0), basis(2,0))]\n",
    "    Tpsi = list(reversed(Tpsi))\n",
    "    #print(Tpsi)\n",
    "    result = []\n",
    "    for psi_id, Tpsi0 in enumerate(Tpsi):\n",
    "        out = solve([],Tpsi0)\n",
    "        state_final = out.states[-1]\n",
    "        res_state = []\n",
    "        #print(state_final)\n",
    "        for Tpsi1 in Tpsi:\n",
    "            res_state.append((Tpsi1.dag()*state_final).data.toarray()[0][0])\n",
    "        result.append(res_state)\n",
    "    #print(result)\n",
    "    return Qobj(result).trans()"
   ]
  },
  {
   "cell_type": "code",
   "execution_count": 1149,
   "metadata": {
    "collapsed": false,
    "scrolled": true
   },
   "outputs": [
    {
     "name": "stdout",
     "output_type": "stream",
     "text": [
      "[Quantum object: dims = [[2, 2], [2, 2]], shape = [4, 4], type = oper, isherm = True\n",
      "Qobj data =\n",
      "[[ 34.87167845   0.           0.           0.07853982]\n",
      " [  0.          -3.45575192   0.07853982   0.        ]\n",
      " [  0.           0.07853982   3.45575192   0.        ]\n",
      " [  0.07853982   0.           0.         -34.87167845]], [Quantum object: dims = [[2, 2], [2, 2]], shape = [4, 4], type = oper, isherm = True\n",
      "Qobj data =\n",
      "[[ 0.          0.          0.43982297  0.        ]\n",
      " [ 0.          0.          0.          0.43982297]\n",
      " [ 0.43982297  0.          0.          0.        ]\n",
      " [ 0.          0.43982297  0.          0.        ]], 'cos(w_rf*t + phi)*0.5*(tanh((t-a)/st) - tanh((t-b)/st))']]\n",
      "[Quantum object: dims = [[2, 2], [2, 2]], shape = [4, 4], type = oper, isherm = True\n",
      "Qobj data =\n",
      "[[ 34.87167845   0.           0.           0.07853982]\n",
      " [  0.          -3.45575192   0.07853982   0.        ]\n",
      " [  0.           0.07853982   3.45575192   0.        ]\n",
      " [  0.07853982   0.           0.         -34.87167845]], [Quantum object: dims = [[2, 2], [2, 2]], shape = [4, 4], type = oper, isherm = True\n",
      "Qobj data =\n",
      "[[ 0.          0.          0.43982297  0.        ]\n",
      " [ 0.          0.          0.          0.43982297]\n",
      " [ 0.43982297  0.          0.          0.        ]\n",
      " [ 0.          0.43982297  0.          0.        ]], 'cos(w_rf*t + phi)*0.5*(tanh((t-a)/st) - tanh((t-b)/st))']]\n",
      "[Quantum object: dims = [[2, 2], [2, 2]], shape = [4, 4], type = oper, isherm = True\n",
      "Qobj data =\n",
      "[[ 34.87167845   0.           0.           0.07853982]\n",
      " [  0.          -3.45575192   0.07853982   0.        ]\n",
      " [  0.           0.07853982   3.45575192   0.        ]\n",
      " [  0.07853982   0.           0.         -34.87167845]], [Quantum object: dims = [[2, 2], [2, 2]], shape = [4, 4], type = oper, isherm = True\n",
      "Qobj data =\n",
      "[[ 0.          0.          0.43982297  0.        ]\n",
      " [ 0.          0.          0.          0.43982297]\n",
      " [ 0.43982297  0.          0.          0.        ]\n",
      " [ 0.          0.43982297  0.          0.        ]], 'cos(w_rf*t + phi)*0.5*(tanh((t-a)/st) - tanh((t-b)/st))']]\n",
      "[Quantum object: dims = [[2, 2], [2, 2]], shape = [4, 4], type = oper, isherm = True\n",
      "Qobj data =\n",
      "[[ 34.87167845   0.           0.           0.07853982]\n",
      " [  0.          -3.45575192   0.07853982   0.        ]\n",
      " [  0.           0.07853982   3.45575192   0.        ]\n",
      " [  0.07853982   0.           0.         -34.87167845]], [Quantum object: dims = [[2, 2], [2, 2]], shape = [4, 4], type = oper, isherm = True\n",
      "Qobj data =\n",
      "[[ 0.          0.          0.43982297  0.        ]\n",
      " [ 0.          0.          0.          0.43982297]\n",
      " [ 0.43982297  0.          0.          0.        ]\n",
      " [ 0.          0.43982297  0.          0.        ]], 'cos(w_rf*t + phi)*0.5*(tanh((t-a)/st) - tanh((t-b)/st))']]\n"
     ]
    }
   ],
   "source": [
    "op = get_pulse_operator()"
   ]
  },
  {
   "cell_type": "code",
   "execution_count": 970,
   "metadata": {
    "collapsed": true
   },
   "outputs": [],
   "source": [
    "def count_fidelity(ideal_gate, f):\n",
    "    Tpsi = [tensor(basis(2,1), basis(2,1)), tensor(basis(2,1), basis(2,0)), tensor(basis(2,0), basis(2,1)), tensor(basis(2,0), basis(2,0))]\n",
    "    Tpsi = list(reversed(Tpsi))\n",
    "    #print(Tpsi)\n",
    "    result = []\n",
    "    t_gate = 1*np.pi/wxx/f*abs(w[0]-w[1])\n",
    "    args['b'] = t_gate\n",
    "    tlist = np.linspace(0,t_gate,2)\n",
    "    for psi_id, Tpsi0 in enumerate(Tpsi):\n",
    "        #print(THsys_t(f))\n",
    "        out = mesolve(THsys_t(f), Tpsi0, tlist, [], [], args = args,options= Options(nsteps=1000000,rhs_reuse = True), progress_bar=None)\n",
    "        state_final = out.states[-1]\n",
    "        res_state = []\n",
    "        #print(state_final)\n",
    "        for Tpsi1 in Tpsi:\n",
    "            res_state.append((Tpsi1.dag()*state_final).data.toarray()[0][0])\n",
    "        result.append(res_state)\n",
    "    gate = Qobj(result).trans()\n",
    "    return gate"
   ]
  },
  {
   "cell_type": "code",
   "execution_count": 1061,
   "metadata": {
    "collapsed": false
   },
   "outputs": [],
   "source": [
    "gate = count_fidelity(ZX,0.05*2*np.pi)"
   ]
  },
  {
   "cell_type": "code",
   "execution_count": 1086,
   "metadata": {
    "collapsed": true
   },
   "outputs": [],
   "source": [
    "def for_solver(par):\n",
    "    gate = count_fidelity(ZX,par[0])\n",
    "    gate.dims = cnot().dims\n",
    "    CNOT = ZI*gate*IX\n",
    "    CNOT0 = CNOT.data.toarray()[0][0]\n",
    "    CNOT = CNOT * CNOT0.conj()/abs(CNOT0)\n",
    "    fid = min(fidelity(CNOT,cnot())/4,1)#,abs((cnot().dag()*CNOT).tr())/4)\n",
    "    print(fid)\n",
    "    return 1 - fid"
   ]
  },
  {
   "cell_type": "code",
   "execution_count": 1087,
   "metadata": {
    "collapsed": true
   },
   "outputs": [],
   "source": [
    "from scipy.optimize import fsolve"
   ]
  },
  {
   "cell_type": "code",
   "execution_count": 1088,
   "metadata": {
    "collapsed": false,
    "scrolled": true
   },
   "outputs": [
    {
     "name": "stdout",
     "output_type": "stream",
     "text": [
      "0.9925470663539258\n",
      "0.9925470663539258\n",
      "0.9925470663539258\n",
      "0.992546335842311\n",
      "0.24979728645695937\n",
      "0.992391996772444\n",
      "0.992546335842311\n",
      "0.24979728645695937\n",
      "0.992391996772444\n",
      "0.9925598738452777\n",
      "0.992531159359044\n",
      "0.9925592847804188\n",
      "0.9925600152798026\n",
      "0.9925603782358592\n",
      "0.9925592835956634\n",
      "0.9925605333062916\n",
      "0.9925598789688803\n",
      "0.9925604914279533\n",
      "0.9925604776529444\n",
      "0.9925601339207832\n"
     ]
    }
   ],
   "source": [
    "res = fsolve(for_solver, [0.055*2*np.pi])"
   ]
  },
  {
   "cell_type": "code",
   "execution_count": 1090,
   "metadata": {
    "collapsed": false,
    "scrolled": true
   },
   "outputs": [
    {
     "name": "stdout",
     "output_type": "stream",
     "text": [
      "0 (0.48360281669663485, 0.505915493414606)\n",
      "1 (0.6953299451071697, 0.7380022059617154)\n",
      "2 (0.6492290266273408, 0.2243411720237607)\n",
      "3 (0.9667787356849985, 0.9445432476307616)\n",
      "4 (0.9925165269627118, 0.9773989513200466)\n",
      "5 (0.6744706292559732, 0.4221488691528196)\n",
      "6 (0.46252961376089274, 0.5823636413916644)\n",
      "7 (0.24988860572271585, 0.061441166599513375)\n"
     ]
    }
   ],
   "source": [
    "fs = np.linspace(0.01*2*np.pi,0.08*2*np.pi,8)\n",
    "fid_list = []\n",
    "for i, fi in enumerate(fs):\n",
    "    gate = count_fidelity(ZX,fi)\n",
    "    gate.dims = cnot().dims\n",
    "    CNOT = ZI*gate*IX\n",
    "    CNOT0 = CNOT.data.toarray()[0][0]\n",
    "    CNOT = CNOT * CNOT0.conj()/abs(CNOT0)\n",
    "    fid = (fidelity(CNOT,cnot())/4,abs((cnot().dag()*CNOT).tr())/4)\n",
    "    fid_list.append(fid)\n",
    "    print(i, fid)"
   ]
  },
  {
   "cell_type": "code",
   "execution_count": 1079,
   "metadata": {
    "collapsed": false
   },
   "outputs": [
    {
     "data": {
      "text/plain": [
       "0.055"
      ]
     },
     "execution_count": 1079,
     "metadata": {},
     "output_type": "execute_result"
    }
   ],
   "source": [
    "fs[10]/2/np.pi"
   ]
  },
  {
   "cell_type": "code",
   "execution_count": 1059,
   "metadata": {
    "collapsed": false
   },
   "outputs": [],
   "source": [
    "gate0  =gate.data.toarray()[0][0]\n",
    "gate = gate *gate0.conj()/abs(gate0)\n",
    "gate.dims = ZX.dims\n",
    "fid = (fidelity(gate,ZX)/4,abs((ZX.dag()*gate).tr())/4)"
   ]
  },
  {
   "cell_type": "code",
   "execution_count": 1060,
   "metadata": {
    "collapsed": false
   },
   "outputs": [
    {
     "data": {
      "text/plain": [
       "(0.39253888264560555, 0.020483925047338012)"
      ]
     },
     "execution_count": 1060,
     "metadata": {},
     "output_type": "execute_result"
    }
   ],
   "source": [
    "fid"
   ]
  },
  {
   "cell_type": "code",
   "execution_count": 1052,
   "metadata": {
    "collapsed": false
   },
   "outputs": [
    {
     "data": {
      "text/latex": [
       "Quantum object: dims = [[4], [4]], shape = [4, 4], type = oper, isherm = False\\begin{equation*}\\left(\\begin{array}{*{11}c}(0.191+0.740j) & (-0.643-0.011j) & (-2.848\\times10^{-04}-0.030j) & (-3.705\\times10^{-05}+7.794\\times10^{-04}j)\\\\(-0.644-0.009j) & (-0.212+0.735j) & (9.794\\times10^{-06}-0.018j) & (2.388\\times10^{-04}-0.030j)\\\\(-2.388\\times10^{-04}-0.030j) & (-9.794\\times10^{-06}-0.018j) & (-0.212-0.735j) & (-0.644+0.009j)\\\\(3.705\\times10^{-05}+7.794\\times10^{-04}j) & (2.848\\times10^{-04}-0.030j) & (-0.643+0.011j) & (0.191-0.740j)\\\\\\end{array}\\right)\\end{equation*}"
      ],
      "text/plain": [
       "Quantum object: dims = [[4], [4]], shape = [4, 4], type = oper, isherm = False\n",
       "Qobj data =\n",
       "[[  1.91267838e-01+0.73966521j  -6.43140680e-01-0.01078697j\n",
       "   -2.84770214e-04-0.03042439j  -3.70454014e-05+0.00077944j]\n",
       " [ -6.44447771e-01-0.00859704j  -2.12115970e-01+0.73486442j\n",
       "    9.79444897e-06-0.01758058j   2.38802785e-04-0.03040538j]\n",
       " [ -2.38802557e-04-0.03040538j  -9.79445012e-06-0.01758058j\n",
       "   -2.12115969e-01-0.73486442j  -6.44447771e-01+0.00859704j]\n",
       " [  3.70453975e-05+0.00077944j   2.84770336e-04-0.03042439j\n",
       "   -6.43140680e-01+0.01078697j   1.91267847e-01-0.73966521j]]"
      ]
     },
     "execution_count": 1052,
     "metadata": {},
     "output_type": "execute_result"
    }
   ],
   "source": [
    "op"
   ]
  },
  {
   "cell_type": "code",
   "execution_count": 1132,
   "metadata": {
    "collapsed": false
   },
   "outputs": [
    {
     "data": {
      "text/plain": [
       "366.6666666666665"
      ]
     },
     "execution_count": 1132,
     "metadata": {},
     "output_type": "execute_result"
    }
   ],
   "source": [
    "np.pi/wxx/f[0]*abs(w[0]-w[1])"
   ]
  },
  {
   "cell_type": "code",
   "execution_count": 1147,
   "metadata": {
    "collapsed": false
   },
   "outputs": [
    {
     "name": "stdout",
     "output_type": "stream",
     "text": [
      "[Quantum object: dims = [[2, 2], [2, 2]], shape = [4, 4], type = oper, isherm = True\n",
      "Qobj data =\n",
      "[[ 34.87167845   0.           0.           0.07853982]\n",
      " [  0.          -3.45575192   0.07853982   0.        ]\n",
      " [  0.           0.07853982   3.45575192   0.        ]\n",
      " [  0.07853982   0.           0.         -34.87167845]], [Quantum object: dims = [[2, 2], [2, 2]], shape = [4, 4], type = oper, isherm = True\n",
      "Qobj data =\n",
      "[[ 0.          0.          0.43982297  0.        ]\n",
      " [ 0.          0.          0.          0.43982297]\n",
      " [ 0.43982297  0.          0.          0.        ]\n",
      " [ 0.          0.43982297  0.          0.        ]], 'cos(w_rf*t + phi)*0.5*(tanh((t-a)/st) - tanh((t-b)/st))']]\n"
     ]
    }
   ],
   "source": [
    "#t_gate = 355.01630\n",
    "#t_gate = 1*np.pi/wxx/f[0]*abs(w[0]-w[1])\n",
    "args['a'] = 0\n",
    "args['b'] = args['a'] + t_gate\n",
    "expected = [TSx(1),TSy(1),TSz(1),TSx(2),TSy(2),TSz(2)]\n",
    "out = solve([])"
   ]
  },
  {
   "cell_type": "code",
   "execution_count": 1134,
   "metadata": {
    "collapsed": false
   },
   "outputs": [],
   "source": [
    "def observe(output, operators, rotationFreq , every = 1):\n",
    "    output2 = copy.deepcopy(output)\n",
    "    output2.expect = []\n",
    "    for i in range(len(operators)*2):\n",
    "        output2.expect.append([])\n",
    "    num_operators = len(operators)\n",
    "    for time, state in zip(tlist[::every], output.states[::every]):\n",
    "#         time = tlist_t / timesteps * time_step\n",
    "        for i, op in enumerate(operators):\n",
    "            for qubit in [1,2]:\n",
    "                if rotationFreq[qubit-1] != 0:\n",
    "                    U = (sigmaz()*1j*rotationFreq[qubit-1]/2 * time).expm()\n",
    "                    TU = T(U,qubit)\n",
    "                    output2.expect[(qubit-1)*num_operators + i].append(expect(TU.dag()*op(qubit)*TU, state))\n",
    "                else:\n",
    "                    output2.expect[(qubit-1)*num_operators + i].append(expect(op(qubit), state))\n",
    "    return output2\n",
    "\n",
    "def observe_last(output, operators, rotationFreq):\n",
    "    expectation = []\n",
    "    time = tlist[-1]\n",
    "    state = output.states[-1]\n",
    "    for i, op in enumerate(operators):\n",
    "        for qubit in [1,2]:\n",
    "            if rotationFreq[qubit-1] != 0:\n",
    "                U = (sigmaz()*1j*rotationFreq[qubit-1]/2 * time).expm()\n",
    "                TU = T(U,qubit)\n",
    "                expectation[(qubit-1)*num_operators + i].append(expect(TU.dag()*op(qubit)*TU, state))\n",
    "            else:\n",
    "                expectation[(qubit-1)*num_operators + i].append(expect(op(qubit), state))\n",
    "    return expectation"
   ]
  },
  {
   "cell_type": "code",
   "execution_count": 1135,
   "metadata": {
    "collapsed": true
   },
   "outputs": [],
   "source": [
    "def find_T(sx,a=10,b=3000):\n",
    "    return np.argmin(sx[a:b])+a\n",
    "    "
   ]
  },
  {
   "cell_type": "code",
   "execution_count": 1136,
   "metadata": {
    "collapsed": false
   },
   "outputs": [
    {
     "data": {
      "text/plain": [
       "18"
      ]
     },
     "execution_count": 1136,
     "metadata": {},
     "output_type": "execute_result"
    }
   ],
   "source": [
    "find_T(output2.expect[0])"
   ]
  },
  {
   "cell_type": "code",
   "execution_count": 270,
   "metadata": {
    "collapsed": false
   },
   "outputs": [],
   "source": [
    "w1 = 2*np.pi/tlist[find_T(output2.expect[0])]"
   ]
  },
  {
   "cell_type": "code",
   "execution_count": 280,
   "metadata": {
    "collapsed": false
   },
   "outputs": [],
   "source": [
    "w2 = 2*np.pi/tlist[find_T(output2.expect[3],10, 1000)]"
   ]
  },
  {
   "cell_type": "code",
   "execution_count": 281,
   "metadata": {
    "collapsed": false
   },
   "outputs": [
    {
     "data": {
      "text/plain": [
       "(2741.3706853426715, 2226.1130565282642)"
      ]
     },
     "execution_count": 281,
     "metadata": {},
     "output_type": "execute_result"
    }
   ],
   "source": [
    "2*np.pi/w1,2*np.pi/w2"
   ]
  },
  {
   "cell_type": "code",
   "execution_count": 18,
   "metadata": {
    "collapsed": true
   },
   "outputs": [],
   "source": [
    "w1 = 2*np.pi/2741.3706853426715\n",
    "w2 = 2*np.pi/2226.1130565282642"
   ]
  },
  {
   "cell_type": "code",
   "execution_count": 132,
   "metadata": {
    "collapsed": false,
    "scrolled": true
   },
   "outputs": [
    {
     "ename": "KeyboardInterrupt",
     "evalue": "",
     "output_type": "error",
     "traceback": [
      "\u001b[0;31m---------------------------------------------------------------------------\u001b[0m",
      "\u001b[0;31mKeyboardInterrupt\u001b[0m                         Traceback (most recent call last)",
      "\u001b[0;32m<ipython-input-132-c351e98fffea>\u001b[0m in \u001b[0;36m<module>\u001b[0;34m()\u001b[0m\n\u001b[0;32m----> 1\u001b[0;31m \u001b[0mget_ipython\u001b[0m\u001b[0;34m(\u001b[0m\u001b[0;34m)\u001b[0m\u001b[0;34m.\u001b[0m\u001b[0mrun_cell_magic\u001b[0m\u001b[0;34m(\u001b[0m\u001b[0;34m'time'\u001b[0m\u001b[0;34m,\u001b[0m \u001b[0;34m''\u001b[0m\u001b[0;34m,\u001b[0m \u001b[0;34m'#1 0\\noutput2 = observe(out, [TSx, TSy, TSz], [w[0]-w1/2,w[1]+w2/2],1)\\nTvis_out(output2,1)'\u001b[0m\u001b[0;34m)\u001b[0m\u001b[0;34m\u001b[0m\u001b[0m\n\u001b[0m",
      "\u001b[0;32m/usr/local/lib/python3.5/dist-packages/IPython/core/interactiveshell.py\u001b[0m in \u001b[0;36mrun_cell_magic\u001b[0;34m(self, magic_name, line, cell)\u001b[0m\n\u001b[1;32m   2113\u001b[0m             \u001b[0mmagic_arg_s\u001b[0m \u001b[0;34m=\u001b[0m \u001b[0mself\u001b[0m\u001b[0;34m.\u001b[0m\u001b[0mvar_expand\u001b[0m\u001b[0;34m(\u001b[0m\u001b[0mline\u001b[0m\u001b[0;34m,\u001b[0m \u001b[0mstack_depth\u001b[0m\u001b[0;34m)\u001b[0m\u001b[0;34m\u001b[0m\u001b[0m\n\u001b[1;32m   2114\u001b[0m             \u001b[0;32mwith\u001b[0m \u001b[0mself\u001b[0m\u001b[0;34m.\u001b[0m\u001b[0mbuiltin_trap\u001b[0m\u001b[0;34m:\u001b[0m\u001b[0;34m\u001b[0m\u001b[0m\n\u001b[0;32m-> 2115\u001b[0;31m                 \u001b[0mresult\u001b[0m \u001b[0;34m=\u001b[0m \u001b[0mfn\u001b[0m\u001b[0;34m(\u001b[0m\u001b[0mmagic_arg_s\u001b[0m\u001b[0;34m,\u001b[0m \u001b[0mcell\u001b[0m\u001b[0;34m)\u001b[0m\u001b[0;34m\u001b[0m\u001b[0m\n\u001b[0m\u001b[1;32m   2116\u001b[0m             \u001b[0;32mreturn\u001b[0m \u001b[0mresult\u001b[0m\u001b[0;34m\u001b[0m\u001b[0m\n\u001b[1;32m   2117\u001b[0m \u001b[0;34m\u001b[0m\u001b[0m\n",
      "\u001b[0;32m<decorator-gen-59>\u001b[0m in \u001b[0;36mtime\u001b[0;34m(self, line, cell, local_ns)\u001b[0m\n",
      "\u001b[0;32m/usr/local/lib/python3.5/dist-packages/IPython/core/magic.py\u001b[0m in \u001b[0;36m<lambda>\u001b[0;34m(f, *a, **k)\u001b[0m\n\u001b[1;32m    186\u001b[0m     \u001b[0;31m# but it's overkill for just that one bit of state.\u001b[0m\u001b[0;34m\u001b[0m\u001b[0;34m\u001b[0m\u001b[0m\n\u001b[1;32m    187\u001b[0m     \u001b[0;32mdef\u001b[0m \u001b[0mmagic_deco\u001b[0m\u001b[0;34m(\u001b[0m\u001b[0marg\u001b[0m\u001b[0;34m)\u001b[0m\u001b[0;34m:\u001b[0m\u001b[0;34m\u001b[0m\u001b[0m\n\u001b[0;32m--> 188\u001b[0;31m         \u001b[0mcall\u001b[0m \u001b[0;34m=\u001b[0m \u001b[0;32mlambda\u001b[0m \u001b[0mf\u001b[0m\u001b[0;34m,\u001b[0m \u001b[0;34m*\u001b[0m\u001b[0ma\u001b[0m\u001b[0;34m,\u001b[0m \u001b[0;34m**\u001b[0m\u001b[0mk\u001b[0m\u001b[0;34m:\u001b[0m \u001b[0mf\u001b[0m\u001b[0;34m(\u001b[0m\u001b[0;34m*\u001b[0m\u001b[0ma\u001b[0m\u001b[0;34m,\u001b[0m \u001b[0;34m**\u001b[0m\u001b[0mk\u001b[0m\u001b[0;34m)\u001b[0m\u001b[0;34m\u001b[0m\u001b[0m\n\u001b[0m\u001b[1;32m    189\u001b[0m \u001b[0;34m\u001b[0m\u001b[0m\n\u001b[1;32m    190\u001b[0m         \u001b[0;32mif\u001b[0m \u001b[0mcallable\u001b[0m\u001b[0;34m(\u001b[0m\u001b[0marg\u001b[0m\u001b[0;34m)\u001b[0m\u001b[0;34m:\u001b[0m\u001b[0;34m\u001b[0m\u001b[0m\n",
      "\u001b[0;32m/usr/local/lib/python3.5/dist-packages/IPython/core/magics/execution.py\u001b[0m in \u001b[0;36mtime\u001b[0;34m(self, line, cell, local_ns)\u001b[0m\n\u001b[1;32m   1178\u001b[0m         \u001b[0;32melse\u001b[0m\u001b[0;34m:\u001b[0m\u001b[0;34m\u001b[0m\u001b[0m\n\u001b[1;32m   1179\u001b[0m             \u001b[0mst\u001b[0m \u001b[0;34m=\u001b[0m \u001b[0mclock2\u001b[0m\u001b[0;34m(\u001b[0m\u001b[0;34m)\u001b[0m\u001b[0;34m\u001b[0m\u001b[0m\n\u001b[0;32m-> 1180\u001b[0;31m             \u001b[0mexec\u001b[0m\u001b[0;34m(\u001b[0m\u001b[0mcode\u001b[0m\u001b[0;34m,\u001b[0m \u001b[0mglob\u001b[0m\u001b[0;34m,\u001b[0m \u001b[0mlocal_ns\u001b[0m\u001b[0;34m)\u001b[0m\u001b[0;34m\u001b[0m\u001b[0m\n\u001b[0m\u001b[1;32m   1181\u001b[0m             \u001b[0mend\u001b[0m \u001b[0;34m=\u001b[0m \u001b[0mclock2\u001b[0m\u001b[0;34m(\u001b[0m\u001b[0;34m)\u001b[0m\u001b[0;34m\u001b[0m\u001b[0m\n\u001b[1;32m   1182\u001b[0m             \u001b[0mout\u001b[0m \u001b[0;34m=\u001b[0m \u001b[0;32mNone\u001b[0m\u001b[0;34m\u001b[0m\u001b[0m\n",
      "\u001b[0;32m<timed exec>\u001b[0m in \u001b[0;36m<module>\u001b[0;34m()\u001b[0m\n",
      "\u001b[0;32m<ipython-input-131-7c8323e8be07>\u001b[0m in \u001b[0;36mobserve\u001b[0;34m(output, operators, rotationFreq, every)\u001b[0m\n\u001b[1;32m     10\u001b[0m             \u001b[0;32mfor\u001b[0m \u001b[0mqubit\u001b[0m \u001b[0;32min\u001b[0m \u001b[0;34m[\u001b[0m\u001b[0;36m1\u001b[0m\u001b[0;34m,\u001b[0m\u001b[0;36m2\u001b[0m\u001b[0;34m]\u001b[0m\u001b[0;34m:\u001b[0m\u001b[0;34m\u001b[0m\u001b[0m\n\u001b[1;32m     11\u001b[0m                 \u001b[0;32mif\u001b[0m \u001b[0mrotationFreq\u001b[0m\u001b[0;34m[\u001b[0m\u001b[0mqubit\u001b[0m\u001b[0;34m-\u001b[0m\u001b[0;36m1\u001b[0m\u001b[0;34m]\u001b[0m \u001b[0;34m!=\u001b[0m \u001b[0;36m0\u001b[0m\u001b[0;34m:\u001b[0m\u001b[0;34m\u001b[0m\u001b[0m\n\u001b[0;32m---> 12\u001b[0;31m                     \u001b[0mU\u001b[0m \u001b[0;34m=\u001b[0m \u001b[0;34m(\u001b[0m\u001b[0msigmaz\u001b[0m\u001b[0;34m(\u001b[0m\u001b[0;34m)\u001b[0m\u001b[0;34m*\u001b[0m\u001b[0;36m1j\u001b[0m\u001b[0;34m*\u001b[0m\u001b[0mrotationFreq\u001b[0m\u001b[0;34m[\u001b[0m\u001b[0mqubit\u001b[0m\u001b[0;34m-\u001b[0m\u001b[0;36m1\u001b[0m\u001b[0;34m]\u001b[0m\u001b[0;34m/\u001b[0m\u001b[0;36m2\u001b[0m \u001b[0;34m*\u001b[0m \u001b[0mtime\u001b[0m\u001b[0;34m)\u001b[0m\u001b[0;34m.\u001b[0m\u001b[0mexpm\u001b[0m\u001b[0;34m(\u001b[0m\u001b[0;34m)\u001b[0m\u001b[0;34m\u001b[0m\u001b[0m\n\u001b[0m\u001b[1;32m     13\u001b[0m                     \u001b[0mTU\u001b[0m \u001b[0;34m=\u001b[0m \u001b[0mT\u001b[0m\u001b[0;34m(\u001b[0m\u001b[0mU\u001b[0m\u001b[0;34m,\u001b[0m\u001b[0mqubit\u001b[0m\u001b[0;34m)\u001b[0m\u001b[0;34m\u001b[0m\u001b[0m\n\u001b[1;32m     14\u001b[0m                     \u001b[0moutput2\u001b[0m\u001b[0;34m.\u001b[0m\u001b[0mexpect\u001b[0m\u001b[0;34m[\u001b[0m\u001b[0;34m(\u001b[0m\u001b[0mqubit\u001b[0m\u001b[0;34m-\u001b[0m\u001b[0;36m1\u001b[0m\u001b[0;34m)\u001b[0m\u001b[0;34m*\u001b[0m\u001b[0mnum_operators\u001b[0m \u001b[0;34m+\u001b[0m \u001b[0mi\u001b[0m\u001b[0;34m]\u001b[0m\u001b[0;34m.\u001b[0m\u001b[0mappend\u001b[0m\u001b[0;34m(\u001b[0m\u001b[0mexpect\u001b[0m\u001b[0;34m(\u001b[0m\u001b[0mTU\u001b[0m\u001b[0;34m.\u001b[0m\u001b[0mdag\u001b[0m\u001b[0;34m(\u001b[0m\u001b[0;34m)\u001b[0m\u001b[0;34m*\u001b[0m\u001b[0mop\u001b[0m\u001b[0;34m(\u001b[0m\u001b[0mqubit\u001b[0m\u001b[0;34m)\u001b[0m\u001b[0;34m*\u001b[0m\u001b[0mTU\u001b[0m\u001b[0;34m,\u001b[0m \u001b[0mstate\u001b[0m\u001b[0;34m)\u001b[0m\u001b[0;34m)\u001b[0m\u001b[0;34m\u001b[0m\u001b[0m\n",
      "\u001b[0;32m/usr/local/lib/python3.5/dist-packages/qutip-4.0.0.dev0+9262cae-py3.5-linux-x86_64.egg/qutip/qobj.py\u001b[0m in \u001b[0;36m__mul__\u001b[0;34m(self, other)\u001b[0m\n\u001b[1;32m    490\u001b[0m                                 np.integer, np.floating, np.complexfloating)):\n\u001b[1;32m    491\u001b[0m             \u001b[0mout\u001b[0m \u001b[0;34m=\u001b[0m \u001b[0mQobj\u001b[0m\u001b[0;34m(\u001b[0m\u001b[0;34m)\u001b[0m\u001b[0;34m\u001b[0m\u001b[0m\n\u001b[0;32m--> 492\u001b[0;31m             \u001b[0mout\u001b[0m\u001b[0;34m.\u001b[0m\u001b[0mdata\u001b[0m \u001b[0;34m=\u001b[0m \u001b[0mself\u001b[0m\u001b[0;34m.\u001b[0m\u001b[0mdata\u001b[0m \u001b[0;34m*\u001b[0m \u001b[0mother\u001b[0m\u001b[0;34m\u001b[0m\u001b[0m\n\u001b[0m\u001b[1;32m    493\u001b[0m             \u001b[0mout\u001b[0m\u001b[0;34m.\u001b[0m\u001b[0mdims\u001b[0m \u001b[0;34m=\u001b[0m \u001b[0mself\u001b[0m\u001b[0;34m.\u001b[0m\u001b[0mdims\u001b[0m\u001b[0;34m\u001b[0m\u001b[0m\n\u001b[1;32m    494\u001b[0m             \u001b[0mout\u001b[0m\u001b[0;34m.\u001b[0m\u001b[0msuperrep\u001b[0m \u001b[0;34m=\u001b[0m \u001b[0mself\u001b[0m\u001b[0;34m.\u001b[0m\u001b[0msuperrep\u001b[0m\u001b[0;34m\u001b[0m\u001b[0m\n",
      "\u001b[0;32m/usr/local/lib/python3.5/dist-packages/scipy/sparse/base.py\u001b[0m in \u001b[0;36m__mul__\u001b[0;34m(self, other)\u001b[0m\n\u001b[1;32m    346\u001b[0m         \u001b[0;32mif\u001b[0m \u001b[0misscalarlike\u001b[0m\u001b[0;34m(\u001b[0m\u001b[0mother\u001b[0m\u001b[0;34m)\u001b[0m\u001b[0;34m:\u001b[0m\u001b[0;34m\u001b[0m\u001b[0m\n\u001b[1;32m    347\u001b[0m             \u001b[0;31m# scalar value\u001b[0m\u001b[0;34m\u001b[0m\u001b[0;34m\u001b[0m\u001b[0m\n\u001b[0;32m--> 348\u001b[0;31m             \u001b[0;32mreturn\u001b[0m \u001b[0mself\u001b[0m\u001b[0;34m.\u001b[0m\u001b[0m_mul_scalar\u001b[0m\u001b[0;34m(\u001b[0m\u001b[0mother\u001b[0m\u001b[0;34m)\u001b[0m\u001b[0;34m\u001b[0m\u001b[0m\n\u001b[0m\u001b[1;32m    349\u001b[0m \u001b[0;34m\u001b[0m\u001b[0m\n\u001b[1;32m    350\u001b[0m         \u001b[0;32mif\u001b[0m \u001b[0missparse\u001b[0m\u001b[0;34m(\u001b[0m\u001b[0mother\u001b[0m\u001b[0;34m)\u001b[0m\u001b[0;34m:\u001b[0m\u001b[0;34m\u001b[0m\u001b[0m\n",
      "\u001b[0;32m/usr/local/lib/python3.5/dist-packages/scipy/sparse/data.py\u001b[0m in \u001b[0;36m_mul_scalar\u001b[0;34m(self, other)\u001b[0m\n\u001b[1;32m     99\u001b[0m \u001b[0;34m\u001b[0m\u001b[0m\n\u001b[1;32m    100\u001b[0m     \u001b[0;32mdef\u001b[0m \u001b[0m_mul_scalar\u001b[0m\u001b[0;34m(\u001b[0m\u001b[0mself\u001b[0m\u001b[0;34m,\u001b[0m \u001b[0mother\u001b[0m\u001b[0;34m)\u001b[0m\u001b[0;34m:\u001b[0m\u001b[0;34m\u001b[0m\u001b[0m\n\u001b[0;32m--> 101\u001b[0;31m         \u001b[0;32mreturn\u001b[0m \u001b[0mself\u001b[0m\u001b[0;34m.\u001b[0m\u001b[0m_with_data\u001b[0m\u001b[0;34m(\u001b[0m\u001b[0mself\u001b[0m\u001b[0;34m.\u001b[0m\u001b[0mdata\u001b[0m \u001b[0;34m*\u001b[0m \u001b[0mother\u001b[0m\u001b[0;34m)\u001b[0m\u001b[0;34m\u001b[0m\u001b[0m\n\u001b[0m\u001b[1;32m    102\u001b[0m \u001b[0;34m\u001b[0m\u001b[0m\n\u001b[1;32m    103\u001b[0m \u001b[0;34m\u001b[0m\u001b[0m\n",
      "\u001b[0;32m/usr/local/lib/python3.5/dist-packages/scipy/sparse/compressed.py\u001b[0m in \u001b[0;36m_with_data\u001b[0;34m(self, data, copy)\u001b[0m\n\u001b[1;32m   1046\u001b[0m         \u001b[0;32mif\u001b[0m \u001b[0mcopy\u001b[0m\u001b[0;34m:\u001b[0m\u001b[0;34m\u001b[0m\u001b[0m\n\u001b[1;32m   1047\u001b[0m             return self.__class__((data,self.indices.copy(),self.indptr.copy()),\n\u001b[0;32m-> 1048\u001b[0;31m                                    shape=self.shape,dtype=data.dtype)\n\u001b[0m\u001b[1;32m   1049\u001b[0m         \u001b[0;32melse\u001b[0m\u001b[0;34m:\u001b[0m\u001b[0;34m\u001b[0m\u001b[0m\n\u001b[1;32m   1050\u001b[0m             return self.__class__((data,self.indices,self.indptr),\n",
      "\u001b[0;32m/usr/local/lib/python3.5/dist-packages/scipy/sparse/compressed.py\u001b[0m in \u001b[0;36m__init__\u001b[0;34m(self, arg1, shape, dtype, copy)\u001b[0m\n\u001b[1;32m     95\u001b[0m             \u001b[0mself\u001b[0m\u001b[0;34m.\u001b[0m\u001b[0mdata\u001b[0m \u001b[0;34m=\u001b[0m \u001b[0mnp\u001b[0m\u001b[0;34m.\u001b[0m\u001b[0masarray\u001b[0m\u001b[0;34m(\u001b[0m\u001b[0mself\u001b[0m\u001b[0;34m.\u001b[0m\u001b[0mdata\u001b[0m\u001b[0;34m,\u001b[0m \u001b[0mdtype\u001b[0m\u001b[0;34m=\u001b[0m\u001b[0mdtype\u001b[0m\u001b[0;34m)\u001b[0m\u001b[0;34m\u001b[0m\u001b[0m\n\u001b[1;32m     96\u001b[0m \u001b[0;34m\u001b[0m\u001b[0m\n\u001b[0;32m---> 97\u001b[0;31m         \u001b[0mself\u001b[0m\u001b[0;34m.\u001b[0m\u001b[0mcheck_format\u001b[0m\u001b[0;34m(\u001b[0m\u001b[0mfull_check\u001b[0m\u001b[0;34m=\u001b[0m\u001b[0;32mFalse\u001b[0m\u001b[0;34m)\u001b[0m\u001b[0;34m\u001b[0m\u001b[0m\n\u001b[0m\u001b[1;32m     98\u001b[0m \u001b[0;34m\u001b[0m\u001b[0m\n\u001b[1;32m     99\u001b[0m     \u001b[0;32mdef\u001b[0m \u001b[0mgetnnz\u001b[0m\u001b[0;34m(\u001b[0m\u001b[0mself\u001b[0m\u001b[0;34m,\u001b[0m \u001b[0maxis\u001b[0m\u001b[0;34m=\u001b[0m\u001b[0;32mNone\u001b[0m\u001b[0;34m)\u001b[0m\u001b[0;34m:\u001b[0m\u001b[0;34m\u001b[0m\u001b[0m\n",
      "\u001b[0;32m/usr/local/lib/python3.5/dist-packages/scipy/sparse/compressed.py\u001b[0m in \u001b[0;36mcheck_format\u001b[0;34m(self, full_check)\u001b[0m\n\u001b[1;32m    148\u001b[0m         \u001b[0midx_dtype\u001b[0m \u001b[0;34m=\u001b[0m \u001b[0mget_index_dtype\u001b[0m\u001b[0;34m(\u001b[0m\u001b[0;34m(\u001b[0m\u001b[0mself\u001b[0m\u001b[0;34m.\u001b[0m\u001b[0mindptr\u001b[0m\u001b[0;34m,\u001b[0m \u001b[0mself\u001b[0m\u001b[0;34m.\u001b[0m\u001b[0mindices\u001b[0m\u001b[0;34m)\u001b[0m\u001b[0;34m)\u001b[0m\u001b[0;34m\u001b[0m\u001b[0m\n\u001b[1;32m    149\u001b[0m         \u001b[0mself\u001b[0m\u001b[0;34m.\u001b[0m\u001b[0mindptr\u001b[0m \u001b[0;34m=\u001b[0m \u001b[0mnp\u001b[0m\u001b[0;34m.\u001b[0m\u001b[0masarray\u001b[0m\u001b[0;34m(\u001b[0m\u001b[0mself\u001b[0m\u001b[0;34m.\u001b[0m\u001b[0mindptr\u001b[0m\u001b[0;34m,\u001b[0m \u001b[0mdtype\u001b[0m\u001b[0;34m=\u001b[0m\u001b[0midx_dtype\u001b[0m\u001b[0;34m)\u001b[0m\u001b[0;34m\u001b[0m\u001b[0m\n\u001b[0;32m--> 150\u001b[0;31m         \u001b[0mself\u001b[0m\u001b[0;34m.\u001b[0m\u001b[0mindices\u001b[0m \u001b[0;34m=\u001b[0m \u001b[0mnp\u001b[0m\u001b[0;34m.\u001b[0m\u001b[0masarray\u001b[0m\u001b[0;34m(\u001b[0m\u001b[0mself\u001b[0m\u001b[0;34m.\u001b[0m\u001b[0mindices\u001b[0m\u001b[0;34m,\u001b[0m \u001b[0mdtype\u001b[0m\u001b[0;34m=\u001b[0m\u001b[0midx_dtype\u001b[0m\u001b[0;34m)\u001b[0m\u001b[0;34m\u001b[0m\u001b[0m\n\u001b[0m\u001b[1;32m    151\u001b[0m         \u001b[0mself\u001b[0m\u001b[0;34m.\u001b[0m\u001b[0mdata\u001b[0m \u001b[0;34m=\u001b[0m \u001b[0mto_native\u001b[0m\u001b[0;34m(\u001b[0m\u001b[0mself\u001b[0m\u001b[0;34m.\u001b[0m\u001b[0mdata\u001b[0m\u001b[0;34m)\u001b[0m\u001b[0;34m\u001b[0m\u001b[0m\n\u001b[1;32m    152\u001b[0m \u001b[0;34m\u001b[0m\u001b[0m\n",
      "\u001b[0;31mKeyboardInterrupt\u001b[0m: "
     ]
    }
   ],
   "source": [
    "%%time\n",
    "#1 0\n",
    "output2 = observe(out, [TSx, TSy, TSz], [w[0]-w1/2,w[1]+w2/2],1)\n",
    "Tvis_out(output2,1)"
   ]
  },
  {
   "cell_type": "code",
   "execution_count": 274,
   "metadata": {
    "collapsed": false
   },
   "outputs": [
    {
     "name": "stdout",
     "output_type": "stream",
     "text": [
      "2741.37068534 1248.12406203\n"
     ]
    }
   ],
   "source": [
    "print(2*np.pi/w1, 2*np.pi/w2)"
   ]
  },
  {
   "cell_type": "code",
   "execution_count": 556,
   "metadata": {
    "collapsed": false
   },
   "outputs": [
    {
     "name": "stdout",
     "output_type": "stream",
     "text": [
      "CPU times: user 16.6 s, sys: 8 ms, total: 16.6 s\n",
      "Wall time: 16.6 s\n"
     ]
    },
    {
     "data": {
      "image/png": "[encoded data removed]",
      "text/plain": [
       "<matplotlib.figure.Figure at 0x7ff34e9755f8>"
      ]
     },
     "metadata": {},
     "output_type": "display_data"
    }
   ],
   "source": [
    "%%time\n",
    "output2 = observe(out, [TSx, TSy, TSz], [w[0]-w1/2,w[1]+w2/2],1)\n",
    "Tvis_out(output2,1)"
   ]
  },
  {
   "cell_type": "code",
   "execution_count": 1148,
   "metadata": {
    "collapsed": false,
    "scrolled": true
   },
   "outputs": [
    {
     "data": {
      "image/png": "[encoded data removed]",
      "text/plain": [
       "<matplotlib.figure.Figure at 0x7ff34793a128>"
      ]
     },
     "metadata": {},
     "output_type": "display_data"
    }
   ],
   "source": [
    "#0 1\n",
    "output2 = observe(out, [TSx, TSy, TSz], w,1)\n",
    "Tvis_out(output2,1)"
   ]
  },
  {
   "cell_type": "code",
   "execution_count": 779,
   "metadata": {
    "collapsed": false
   },
   "outputs": [
    {
     "data": {
      "image/png": "[encoded data removed]",
      "text/plain": [
       "<matplotlib.figure.Figure at 0x7ff34716cef0>"
      ]
     },
     "metadata": {},
     "output_type": "display_data"
    }
   ],
   "source": [
    "#0 0 \n",
    "output2 = observe(out, [TSx, TSy, TSz], [w[0],w[1]],1)\n",
    "Tvis_out(output2,1)"
   ]
  },
  {
   "cell_type": "code",
   "execution_count": 821,
   "metadata": {
    "collapsed": false
   },
   "outputs": [
    {
     "data": {
      "text/latex": [
       "Quantum object: dims = [[2, 2], [2, 2]], shape = [4, 4], type = oper, isherm = False\\begin{equation*}\\left(\\begin{array}{*{11}c}0.707 & 0.707j & 0.0 & 0.0\\\\0.707j & 0.707 & 0.0 & 0.0\\\\0.0 & 0.0 & 0.707 & -0.707j\\\\0.0 & 0.0 & -0.707j & 0.707\\\\\\end{array}\\right)\\end{equation*}"
      ],
      "text/plain": [
       "Quantum object: dims = [[2, 2], [2, 2]], shape = [4, 4], type = oper, isherm = False\n",
       "Qobj data =\n",
       "[[ 0.70710678+0.j          0.00000000+0.70710678j  0.00000000+0.j\n",
       "   0.00000000+0.j        ]\n",
       " [ 0.00000000+0.70710678j  0.70710678+0.j          0.00000000+0.j\n",
       "   0.00000000+0.j        ]\n",
       " [ 0.00000000+0.j          0.00000000+0.j          0.70710678+0.j\n",
       "   0.00000000-0.70710678j]\n",
       " [ 0.00000000+0.j          0.00000000+0.j          0.00000000-0.70710678j\n",
       "   0.70710678+0.j        ]]"
      ]
     },
     "execution_count": 821,
     "metadata": {},
     "output_type": "execute_result"
    }
   ],
   "source": [
    "ZX = (+0.5*1j*1/2*np.pi*tensor(sigmaz(),sigmax())).expm()\n",
    "ZX"
   ]
  },
  {
   "cell_type": "code",
   "execution_count": 897,
   "metadata": {
    "collapsed": false
   },
   "outputs": [
    {
     "data": {
      "text/latex": [
       "Quantum object: dims = [[2, 2], [2, 2]], shape = [4, 4], type = oper, isherm = False\\begin{equation*}\\left(\\begin{array}{*{11}c}(0.707+0.707j) & 0.0 & 0.0 & 0.0\\\\0.0 & (0.707+0.707j) & 0.0 & 0.0\\\\0.0 & 0.0 & (0.707-0.707j) & 0.0\\\\0.0 & 0.0 & 0.0 & (0.707-0.707j)\\\\\\end{array}\\right)\\end{equation*}"
      ],
      "text/plain": [
       "Quantum object: dims = [[2, 2], [2, 2]], shape = [4, 4], type = oper, isherm = False\n",
       "Qobj data =\n",
       "[[ 0.70710678+0.70710678j  0.00000000+0.j          0.00000000+0.j\n",
       "   0.00000000+0.j        ]\n",
       " [ 0.00000000+0.j          0.70710678+0.70710678j  0.00000000+0.j\n",
       "   0.00000000+0.j        ]\n",
       " [ 0.00000000+0.j          0.00000000+0.j          0.70710678-0.70710678j\n",
       "   0.00000000+0.j        ]\n",
       " [ 0.00000000+0.j          0.00000000+0.j          0.00000000+0.j\n",
       "   0.70710678-0.70710678j]]"
      ]
     },
     "execution_count": 897,
     "metadata": {},
     "output_type": "execute_result"
    }
   ],
   "source": [
    "ZI = (0.5*1j*(+1/2)*np.pi*tensor(sigmaz(),identity(2))).expm()\n",
    "ZI"
   ]
  },
  {
   "cell_type": "code",
   "execution_count": 823,
   "metadata": {
    "collapsed": false
   },
   "outputs": [
    {
     "data": {
      "text/latex": [
       "Quantum object: dims = [[2, 2], [2, 2]], shape = [4, 4], type = oper, isherm = False\\begin{equation*}\\left(\\begin{array}{*{11}c}0.707 & -0.707j & 0.0 & 0.0\\\\-0.707j & 0.707 & 0.0 & 0.0\\\\0.0 & 0.0 & 0.707 & -0.707j\\\\0.0 & 0.0 & -0.707j & 0.707\\\\\\end{array}\\right)\\end{equation*}"
      ],
      "text/plain": [
       "Quantum object: dims = [[2, 2], [2, 2]], shape = [4, 4], type = oper, isherm = False\n",
       "Qobj data =\n",
       "[[ 0.70710678+0.j          0.00000000-0.70710678j  0.00000000+0.j\n",
       "   0.00000000+0.j        ]\n",
       " [ 0.00000000-0.70710678j  0.70710678+0.j          0.00000000+0.j\n",
       "   0.00000000+0.j        ]\n",
       " [ 0.00000000+0.j          0.00000000+0.j          0.70710678+0.j\n",
       "   0.00000000-0.70710678j]\n",
       " [ 0.00000000+0.j          0.00000000+0.j          0.00000000-0.70710678j\n",
       "   0.70710678+0.j        ]]"
      ]
     },
     "execution_count": 823,
     "metadata": {},
     "output_type": "execute_result"
    }
   ],
   "source": [
    "IX = (-0.5*1j*(+1/2)*np.pi*tensor(identity(2),sigmax())).expm()\n",
    "IX"
   ]
  },
  {
   "cell_type": "code",
   "execution_count": 1150,
   "metadata": {
    "collapsed": true
   },
   "outputs": [],
   "source": [
    "op.dims = [[2,2],[2,2]]"
   ]
  },
  {
   "cell_type": "code",
   "execution_count": 1151,
   "metadata": {
    "collapsed": false
   },
   "outputs": [],
   "source": [
    "CNOT = ZI*op*IX\n",
    "CNOT0 = CNOT.data.toarray()[0][0]\n",
    "\n",
    "CNOT = CNOT * CNOT0.conj()/abs(CNOT0)"
   ]
  },
  {
   "cell_type": "code",
   "execution_count": 1152,
   "metadata": {
    "collapsed": false
   },
   "outputs": [
    {
     "data": {
      "text/latex": [
       "Quantum object: dims = [[2, 2], [2, 2]], shape = [4, 4], type = oper, isherm = False\\begin{equation*}\\left(\\begin{array}{*{11}c}0.990 & (-0.096-0.083j) & (-0.032-0.003j) & (-0.021+0.026j)\\\\(0.115+0.046j) & (0.448+0.885j) & (-0.037-0.014j) & (-0.028-0.025j)\\\\(-0.029+0.027j) & (-0.016+0.034j) & (-0.088+0.088j) & (-0.059+0.990j)\\\\(-0.028+0.015j) & (-0.030-0.016j) & (-0.909+0.393j) & (0.055-0.114j)\\\\\\end{array}\\right)\\end{equation*}"
      ],
      "text/plain": [
       "Quantum object: dims = [[2, 2], [2, 2]], shape = [4, 4], type = oper, isherm = False\n",
       "Qobj data =\n",
       "[[ 0.99031648+0.j         -0.09567199-0.08260998j -0.03160501-0.00265781j\n",
       "  -0.02132481+0.0264979j ]\n",
       " [ 0.11547142+0.04617589j  0.44753305+0.88452794j -0.03735195-0.01350183j\n",
       "  -0.02805324-0.0250416j ]\n",
       " [-0.02891929+0.02722393j -0.01580276+0.03412241j -0.08764090+0.08823228j\n",
       "  -0.05949456+0.98951297j]\n",
       " [-0.02795097+0.01498946j -0.03009361-0.01585122j -0.90889036+0.39324934j\n",
       "   0.05500164-0.11380843j]]"
      ]
     },
     "execution_count": 1152,
     "metadata": {},
     "output_type": "execute_result"
    }
   ],
   "source": [
    "CNOT"
   ]
  },
  {
   "cell_type": "code",
   "execution_count": 990,
   "metadata": {
    "collapsed": false
   },
   "outputs": [
    {
     "data": {
      "text/plain": [
       "4.0"
      ]
     },
     "execution_count": 990,
     "metadata": {},
     "output_type": "execute_result"
    }
   ],
   "source": [
    "(CNOT.dag()*CNOT).tr()"
   ]
  },
  {
   "cell_type": "code",
   "execution_count": 1153,
   "metadata": {
    "collapsed": false
   },
   "outputs": [
    {
     "data": {
      "text/latex": [
       "Quantum object: dims = [[2, 2], [2, 2]], shape = [4, 4], type = oper, isherm = False\\begin{equation*}\\left(\\begin{array}{*{11}c}0.990 & -0.096 & -0.032 & -0.021\\\\0.115 & 0.448 & -0.037 & -0.028\\\\-0.029 & -0.016 & -0.088 & -0.059\\\\-0.028 & -0.030 & -0.909 & 0.055\\\\\\end{array}\\right)\\end{equation*}"
      ],
      "text/plain": [
       "Quantum object: dims = [[2, 2], [2, 2]], shape = [4, 4], type = oper, isherm = False\n",
       "Qobj data =\n",
       "[[ 0.99031648 -0.09567199 -0.03160501 -0.02132481]\n",
       " [ 0.11547142  0.44753305 -0.03735195 -0.02805324]\n",
       " [-0.02891929 -0.01580276 -0.0876409  -0.05949456]\n",
       " [-0.02795097 -0.03009361 -0.90889036  0.05500164]]"
      ]
     },
     "execution_count": 1153,
     "metadata": {},
     "output_type": "execute_result"
    }
   ],
   "source": [
    "(CNOT+CNOT.conj())/2"
   ]
  },
  {
   "cell_type": "code",
   "execution_count": 1156,
   "metadata": {
    "collapsed": false
   },
   "outputs": [
    {
     "data": {
      "text/latex": [
       "Quantum object: dims = [[4], [4]], shape = [4, 4], type = oper, isherm = False\\begin{equation*}\\left(\\begin{array}{*{11}c}0.990 & 0.126 & 0.032 & 0.034\\\\0.124 & 0.991 & 0.040 & 0.038\\\\0.040 & 0.038 & 0.124 & 0.991\\\\0.032 & 0.034 & 0.990 & 0.126\\\\\\end{array}\\right)\\end{equation*}"
      ],
      "text/plain": [
       "Quantum object: dims = [[4], [4]], shape = [4, 4], type = oper, isherm = False\n",
       "Qobj data =\n",
       "[[ 0.99031648  0.12640229  0.03171656  0.03401303]\n",
       " [ 0.12436182  0.99129991  0.03971735  0.03760407]\n",
       " [ 0.03971735  0.03760407  0.12436182  0.99129991]\n",
       " [ 0.03171656  0.03401303  0.99031648  0.12640229]]"
      ]
     },
     "execution_count": 1156,
     "metadata": {},
     "output_type": "execute_result"
    }
   ],
   "source": [
    "Qobj(abs(CNOT))"
   ]
  },
  {
   "cell_type": "code",
   "execution_count": 1155,
   "metadata": {
    "collapsed": false
   },
   "outputs": [
    {
     "data": {
      "text/plain": [
       "0.5788459463107088"
      ]
     },
     "execution_count": 1155,
     "metadata": {},
     "output_type": "execute_result"
    }
   ],
   "source": [
    "abs((cnot().dag()*CNOT).tr())/4"
   ]
  },
  {
   "cell_type": "code",
   "execution_count": 862,
   "metadata": {
    "collapsed": false
   },
   "outputs": [],
   "source": [
    "def true_fidelity(a,b):\n",
    "    return (a.sqrtm()*b*a.sqrtm()).sqrtm().tr()"
   ]
  },
  {
   "cell_type": "code",
   "execution_count": 863,
   "metadata": {
    "collapsed": false
   },
   "outputs": [
    {
     "data": {
      "text/plain": [
       "(4.004595749646276+0.04600721375310049j)"
      ]
     },
     "execution_count": 863,
     "metadata": {},
     "output_type": "execute_result"
    }
   ],
   "source": [
    "true_fidelity(CNOT,cnot())"
   ]
  },
  {
   "cell_type": "code",
   "execution_count": 1157,
   "metadata": {
    "collapsed": false
   },
   "outputs": [
    {
     "data": {
      "text/plain": [
       "0.4622947161887383"
      ]
     },
     "execution_count": 1157,
     "metadata": {},
     "output_type": "execute_result"
    }
   ],
   "source": [
    "fidelity(CNOT,cnot())/4"
   ]
  },
  {
   "cell_type": "code",
   "execution_count": 1159,
   "metadata": {
    "collapsed": true
   },
   "outputs": [],
   "source": [
    "CNOTa = Qobj(abs(CNOT))\n",
    "CNOTa.dims = CNOT.dims"
   ]
  },
  {
   "cell_type": "code",
   "execution_count": 1161,
   "metadata": {
    "collapsed": false
   },
   "outputs": [
    {
     "data": {
      "text/plain": [
       "0.9931191609500525"
      ]
     },
     "execution_count": 1161,
     "metadata": {},
     "output_type": "execute_result"
    }
   ],
   "source": [
    "fidelity(CNOTa,cnot())/4"
   ]
  },
  {
   "cell_type": "code",
   "execution_count": 266,
   "metadata": {
    "collapsed": false
   },
   "outputs": [
    {
     "data": {
      "text/latex": [
       "Quantum object: dims = [[2, 2], [2, 2]], shape = [4, 4], type = oper, isherm = True\\begin{equation*}\\left(\\begin{array}{*{11}c}1.0 & 0.0 & 0.0 & 0.0\\\\0.0 & 1.0 & 0.0 & 0.0\\\\0.0 & 0.0 & 1.0 & 0.0\\\\0.0 & 0.0 & 0.0 & 1.0\\\\\\end{array}\\right)\\end{equation*}"
      ],
      "text/plain": [
       "Quantum object: dims = [[2, 2], [2, 2]], shape = [4, 4], type = oper, isherm = True\n",
       "Qobj data =\n",
       "[[ 1.  0.  0.  0.]\n",
       " [ 0.  1.  0.  0.]\n",
       " [ 0.  0.  1.  0.]\n",
       " [ 0.  0.  0.  1.]]"
      ]
     },
     "execution_count": 266,
     "metadata": {},
     "output_type": "execute_result"
    }
   ],
   "source": [
    "identity([2,2])"
   ]
  },
  {
   "cell_type": "code",
   "execution_count": 166,
   "metadata": {
    "collapsed": false
   },
   "outputs": [
    {
     "data": {
      "image/png": "[encoded data removed]",
      "text/plain": [
       "<matplotlib.figure.Figure at 0x7f623881ffd0>"
      ]
     },
     "metadata": {},
     "output_type": "display_data"
    }
   ],
   "source": [
    "ax1 = plt.subplot(111)\n",
    "hinton(real(CNOT),ax = ax1)\n",
    "#ax2 = plt.subplot(122)\n",
    "#hinton(Qobj(np.angle(CNOT.data.toarray())),ax = ax2)\n",
    "plt.gcf().set_size_inches(7,5)\n",
    "plt.savefig(\"CR CNOT diagram.pdf\",bbox_inches = \"tight\")"
   ]
  },
  {
   "cell_type": "code",
   "execution_count": 60,
   "metadata": {
    "collapsed": false
   },
   "outputs": [
    {
     "data": {
      "text/latex": [
       "Quantum object: dims = [[2, 2], [2, 2]], shape = (4, 4), type = oper, isherm = False\\begin{equation*}\\left(\\begin{array}{*{11}c}1.0 & (0.129+0.004j) & (-0.021-0.069j) & (-0.015+0.053j)\\\\(-0.122+0.005j) & (1.0-0.007j) & (-0.009+0.070j) & (-0.019-0.058j)\\\\(0.011+0.069j) & (0.018-0.058j) & (-0.122-0.003j) & (1.0-0.010j)\\\\(0.020-0.070j) & (0.016+0.053j) & (1.000-0.017j) & (0.129-0.006j)\\\\\\end{array}\\right)\\end{equation*}"
      ],
      "text/plain": [
       "Quantum object: dims = [[2, 2], [2, 2]], shape = (4, 4), type = oper, isherm = False\n",
       "Qobj data =\n",
       "[[ 1.00000000+0.j          0.12947982+0.00376285j -0.02090246-0.06948646j\n",
       "  -0.01499066+0.0534877j ]\n",
       " [-0.12209009+0.00526564j  1.00073266-0.00702639j -0.00945660+0.06957701j\n",
       "  -0.01914161-0.05817542j]\n",
       " [ 0.01063929+0.069406j    0.01814881-0.05849275j -0.12216202-0.00318716j\n",
       "   1.00070732-0.01000501j]\n",
       " [ 0.01971692-0.06983212j  0.01589874+0.05322485j  0.99985518-0.01701792j\n",
       "   0.12939703-0.00596579j]]"
      ]
     },
     "execution_count": 60,
     "metadata": {},
     "output_type": "execute_result"
    }
   ],
   "source": [
    "CNOT"
   ]
  },
  {
   "cell_type": "code",
   "execution_count": 88,
   "metadata": {
    "collapsed": false
   },
   "outputs": [
    {
     "data": {
      "text/plain": [
       "-2.220446049250313e-16"
      ]
     },
     "execution_count": 88,
     "metadata": {},
     "output_type": "execute_result"
    }
   ],
   "source": [
    "expect(TSz(2),ZX * Tpsi0)"
   ]
  },
  {
   "cell_type": "code",
   "execution_count": 180,
   "metadata": {
    "collapsed": false
   },
   "outputs": [],
   "source": [
    "new_t_list = np.linspace(0,2,100)\n",
    "evolution = [(T(sigmaz(),1)*1j*2*np.pi/2 * t).expm()*Tpsi0 for t in new_t_list]"
   ]
  },
  {
   "cell_type": "code",
   "execution_count": 181,
   "metadata": {
    "collapsed": false
   },
   "outputs": [
    {
     "data": {
      "text/plain": [
       "[<matplotlib.lines.Line2D at 0x7fed24e8ea90>]"
      ]
     },
     "execution_count": 181,
     "metadata": {},
     "output_type": "execute_result"
    },
    {
     "data": {
      "image/png": "[encoded data removed]",
      "text/plain": [
       "<matplotlib.figure.Figure at 0x7fed1b6b1278>"
      ]
     },
     "metadata": {},
     "output_type": "display_data"
    }
   ],
   "source": [
    "plt.plot(new_t_list, expect(TSx(1),evolution))\n",
    "plt.plot(new_t_list, expect(TSy(1),evolution))\n",
    "plt.plot(new_t_list, expect(TSz(1),evolution))\n"
   ]
  },
  {
   "cell_type": "code",
   "execution_count": 50,
   "metadata": {
    "collapsed": false
   },
   "outputs": [
    {
     "data": {
      "text/latex": [
       "Quantum object: dims = [[2, 2], [2, 2]], shape = (4, 4), type = oper, isherm = False\\begin{equation*}\\left(\\begin{array}{*{11}c}(0.329-0.627j) & (-0.519-0.471j) & (0.020-0.008j) & (-0.088+0.002j)\\\\(-0.621-0.323j) & (0.470-0.530j) & (-0.084+0.018j) & (0.027-0.002j)\\\\(-0.027-0.002j) & (0.084+0.018j) & (0.470+0.530j) & (-0.621+0.323j)\\\\(0.088+0.002j) & (-0.020-0.008j) & (-0.519+0.471j) & (0.329+0.627j)\\\\\\end{array}\\right)\\end{equation*}"
      ],
      "text/plain": [
       "Quantum object: dims = [[2, 2], [2, 2]], shape = (4, 4), type = oper, isherm = False\n",
       "Qobj data =\n",
       "[[ 0.32873332-0.62666578j -0.51861731-0.47127485j  0.01953673-0.00820476j\n",
       "  -0.08779763+0.00175506j]\n",
       " [-0.62146496-0.32284133j  0.46966567-0.52989318j -0.08449038+0.01830485j\n",
       "   0.02654408-0.00196778j]\n",
       " [-0.02654408-0.00196778j  0.08449038+0.01830485j  0.46966567+0.52989318j\n",
       "  -0.62146496+0.32284133j]\n",
       " [ 0.08779763+0.00175506j -0.01953673-0.00820476j -0.51861731+0.47127485j\n",
       "   0.32873332+0.62666578j]]"
      ]
     },
     "execution_count": 50,
     "metadata": {},
     "output_type": "execute_result"
    }
   ],
   "source": [
    "op"
   ]
  },
  {
   "cell_type": "code",
   "execution_count": null,
   "metadata": {
    "collapsed": true
   },
   "outputs": [],
   "source": []
  }
 ],
 "metadata": {
  "kernelspec": {
   "display_name": "Python 3",
   "language": "python",
   "name": "python3"
  },
  "language_info": {
   "codemirror_mode": {
    "name": "ipython",
    "version": 3
   },
   "file_extension": ".py",
   "mimetype": "text/x-python",
   "name": "python",
   "nbconvert_exporter": "python",
   "pygments_lexer": "ipython3",
   "version": "3.5.2"
  }
 },
 "nbformat": 4,
 "nbformat_minor": 2
}
