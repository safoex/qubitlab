{
 "cells": [
  {
   "cell_type": "markdown",
   "metadata": {},
   "source": [
    "### Import"
   ]
  },
  {
   "cell_type": "code",
   "execution_count": 1,
   "metadata": {
    "collapsed": true
   },
   "outputs": [],
   "source": [
    "from qutip import *\n",
    "from qutip.operators import *\n",
    "import matplotlib.pyplot as plt\n",
    "import numpy as np\n",
    "%matplotlib inline\n",
    "from cython import *\n",
    "from sympy import lambdify"
   ]
  },
  {
   "cell_type": "markdown",
   "metadata": {},
   "source": [
    "### with RWA"
   ]
  },
  {
   "cell_type": "code",
   "execution_count": 102,
   "metadata": {
    "collapsed": false
   },
   "outputs": [],
   "source": [
    "withRWA = True\n",
    "Eq = 1\n",
    "f = 0.1\n",
    "def up1(val = 1):\n",
    "    return Qobj(np.diag([val],1))\n",
    "def down1(val = 1):\n",
    "    return Qobj(np.diag([val],-1))\n",
    "\n",
    "def Hq():\n",
    "    return Eq/2 *sigmaz()\n",
    "phase = 0\n",
    "def Hf1():\n",
    "    return f*sigmax()/2*np.sin(phase)\n",
    "def Hf2():\n",
    "    return f*sigmay()/2*np.cos(phase)\n",
    "def Hf():\n",
    "    return Hf1() + Hf2()\n",
    "def collapse_list():\n",
    "    return []\n",
    "#Hf_time_coeff = \"(0.5*(tanh((t-a)/st) - tanh((t-b)/st))*cos(w*t + phase1) + 0.5*(tanh((t-a2)/st) - tanh((t-b2)/st))*cos(w*t + phase2))\"\n",
    "Hf_time_coeff = \"0.5*(tanh((t-a)/st) - tanh((t-b)/st))\"\n",
    "Hf_time_coeff_func = lambdify({'a','b','t','st','w', 'phase'},Hf_time_coeff,'numpy')\n",
    "#Hf_time_coeff = '1'\n",
    "a = 2.5\n",
    "b = a + 3.92\n",
    "st = 0.001\n",
    "phase1 = np.pi\n",
    "phase2 = -np.pi/2\n",
    "a2 = 70\n",
    "b2 = 81.895\n",
    "args = {'w':Eq, 'phase1':phase1, 'phase2':phase2,'a':a,'b':b,'st':st,'a2':a2,'b2':b2,'phase':phase}\n",
    "\n",
    "maxtime = 11\n",
    "points = 100\n",
    "tlist = np.linspace(0,maxtime,points)\n",
    "psi0 = (basis(2,0) + basis(2,1))/(2**0.5)\n",
    "psi0 = basis(2,0)\n",
    "def Hq_t():\n",
    "    return [[Hf(),Hf_time_coeff]]\n"
   ]
  },
  {
   "cell_type": "markdown",
   "metadata": {},
   "source": [
    "### without RWA"
   ]
  },
  {
   "cell_type": "code",
   "execution_count": 97,
   "metadata": {
    "collapsed": true
   },
   "outputs": [],
   "source": [
    "withRWA = False\n",
    "Eq = 1\n",
    "f = 0.1\n",
    "def up1(val = 1):\n",
    "    return Qobj(np.diag([val],1))\n",
    "def down1(val = 1):\n",
    "    return Qobj(np.diag([val],-1))\n",
    "\n",
    "def Hq():\n",
    "    return Eq/2 *sigmaz()\n",
    "phase = 0\n",
    "def Hf1():\n",
    "    return f*sigmax()/2#*np.sin(phase)\n",
    "def Hf2():\n",
    "    return f*sigmay()/2#*np.cos(phase)\n",
    "def Hf():\n",
    "    return Hf1() + Hf2()\n",
    "def collapse_list():\n",
    "    return []\n",
    "#Hf_time_coeff = \"(0.5*(tanh((t-a)/st) - tanh((t-b)/st))*cos(w*t + phase1) + 0.5*(tanh((t-a2)/st) - tanh((t-b2)/st))*cos(w*t + phase2))\"\n",
    "Hf1_time_coeff = \"(cos(phase) + cos(2*w*t + phase))*0.5*(tanh((t-a)/st) - tanh((t-b)/st))\"\n",
    "Hf2_time_coeff = \"(-sin(phase) + sin(2*w*t + phase))*0.5*(tanh((t-a)/st) - tanh((t-b)/st))\"\n",
    "Hf1_time_coeff_func = lambdify({'a','b','t','st','w', 'phase'},Hf1_time_coeff,'numpy')\n",
    "Hf2_time_coeff_func = lambdify({'a','b','t','st','w', 'phase'},Hf2_time_coeff,'numpy')\n",
    "#Hf_time_coeff = '1'\n",
    "a = 2.5\n",
    "b = a + 3.92\n",
    "st = 0.001\n",
    "phase1 = np.pi\n",
    "phase2 = -np.pi/2\n",
    "a2 = 70\n",
    "b2 = 81.895\n",
    "args = {'w':Eq, 'phase':phase,'phase1':phase1, 'phase2':phase2,'a':a,'b':b,'st':st,'a2':a2,'b2':b2}\n",
    "maxtime = 25\n",
    "points = 100\n",
    "tlist = np.linspace(0,maxtime,points)\n",
    "psi0 = basis(2,0)\n",
    "def Hq_t():\n",
    "    return [[Hf1(),Hf1_time_coeff],[Hf2(),Hf2_time_coeff]]"
   ]
  },
  {
   "cell_type": "markdown",
   "metadata": {},
   "source": [
    "#### extra funcs"
   ]
  },
  {
   "cell_type": "code",
   "execution_count": 82,
   "metadata": {
    "collapsed": true
   },
   "outputs": [],
   "source": [
    "expected = [sigmax(),sigmay(),sigmaz()]\n",
    "psi0 = basis(2,0)\n",
    "def solve(expected_ops = expected, with_progress_bar = True):\n",
    "    if with_progress_bar:\n",
    "        return mesolve(Hq_t(), psi0, tlist, collapse_list(), expected_ops, args = args,options= Options(nsteps=10000), progress_bar=True)\n",
    "    else:\n",
    "        return mesolve(Hq_t(), psi0, tlist, collapse_list(), expected_ops, args = args,options= Options(nsteps=10000))"
   ]
  },
  {
   "cell_type": "code",
   "execution_count": 62,
   "metadata": {
    "collapsed": false
   },
   "outputs": [],
   "source": [
    "def visualize_output(output):\n",
    "    fig, axes = plt.subplots(1,3, figsize=(13,5), sharey=True)\n",
    "    axes[0].set_title('Che-to tam s qubitom');\n",
    "    labels = ['sigmax','sigmay','sigmaz']\n",
    "    for idx, ax in enumerate(axes):\n",
    "        ax.plot(tlist, output.expect[idx], label=labels[idx] + \" state\")\n",
    "        #ax.plot(tlist, oldoutput.expect[1+idx], label=\"Transmon %i state\"%idx)\n",
    "        #ax.plot(tlist, 0.2+ 0.1*time_c_func(a=a,b=b,st=st,t=tlist,w=Eq,phase1=phase1,phase2=phase2,a2=a2,b2=b2),label=\"pulse (not exact)\")\n",
    "        ax.set_ylim(-1.2,1.2)\n",
    "        ax.legend(bbox_to_anchor = [0,0],loc = \"lower left\")\n",
    "        ax.set_xlabel('Time')\n",
    "    axes[0].set_ylabel('Occupation probability')\n",
    "\n",
    "def vis_out(output, title = 'Che-to tam s qubitom'):\n",
    "    fig, ax = plt.subplots(1,1, figsize=(6,5), sharey=True, dpi =600)\n",
    "    ax.set_title(title);\n",
    "    labels = ['$\\sigma_x(t)$','$\\sigma_y(t)$','$\\sigma_z(t)$']\n",
    "    for idx, op in enumerate(output.expect):\n",
    "        ax.plot(tlist, op, label=(labels[idx]), linewidth = 3 )\n",
    "        #ax.plot(tlist, oldoutput.expect[1+idx], label=\"Transmon %i state\"%idx)\n",
    "        #ax.plot(tlist, 0.2+ 0.1*time_c_func(a=a,b=b,st=st,t=tlist,w=Eq,phase1=phase1,phase2=phase2,a2=a2,b2=b2),label=\"pulse (not exact)\")\n",
    "        ax.set_ylim(-1.2,1.2)\n",
    "        \n",
    "    if withRWA:\n",
    "        pulse = -0.5+f/Eq*Hf_time_coeff_func(a=args['a'],b=args['b'],st=args['st'],w=args['w'],phase=args['phase'],t=tlist)\n",
    "        ax.plot(tlist, pulse, label = \"$h_{RWA}(t)$\")\n",
    "\n",
    "    else:\n",
    "        pulse1 = -0.5+f/Eq*Hf1_time_coeff_func(a=args['a'],b=args['b'],st=args['st'],w=args['w'],phase=args['phase'],t=tlist)\n",
    "        pulse2 = -0.5+f/Eq*Hf2_time_coeff_func(a=args['a'],b=args['b'],st=args['st'],w=args['w'],phase=args['phase'],t=tlist)\n",
    "        ax.plot(tlist, pulse1, label = \"$h1_{noRWA}(t)$\", linewidth = 1.5)\n",
    "        ax.plot(tlist, pulse2, label = \"$h2_{noRWA}(t)$\", linewidth = 1.5)\n",
    "    \n",
    "    ax.legend(bbox_to_anchor = [1,1],loc = \"upper right\")\n",
    "    ax.set_xlabel('Time')\n",
    "    \n",
    "    ax.set_ylabel('Occupation probability')"
   ]
  },
  {
   "cell_type": "markdown",
   "metadata": {},
   "source": [
    "## X-pulse "
   ]
  },
  {
   "cell_type": "code",
   "execution_count": 98,
   "metadata": {
    "collapsed": true
   },
   "outputs": [],
   "source": [
    "phase = 0"
   ]
  },
  {
   "cell_type": "markdown",
   "metadata": {},
   "source": [
    "## Y-pulse "
   ]
  },
  {
   "cell_type": "code",
   "execution_count": 73,
   "metadata": {
    "collapsed": true
   },
   "outputs": [],
   "source": [
    "phase = -np.pi/2"
   ]
  },
  {
   "cell_type": "markdown",
   "metadata": {},
   "source": [
    "## Z-pulse"
   ]
  },
  {
   "cell_type": "code",
   "execution_count": 103,
   "metadata": {
    "collapsed": true
   },
   "outputs": [],
   "source": [
    "def Hqz_t():\n",
    "    return [[f*sigmaz()/2,Hf_time_coeff]]\n",
    "Hf_time_coeff = \"0.5*(tanh((t-a)/st) - tanh((t-b)/st))\"\n",
    "psi0z = (basis(2,0)+basis(2,1))/(2**0.5)\n",
    "def solve(expected_ops = expected, with_progress_bar = True):\n",
    "    if with_progress_bar:\n",
    "        return mesolve(Hqz_t(), psi0z, tlist, collapse_list(), expected_ops, args = args,options= Options(nsteps=10000), progress_bar=True)\n",
    "    else:\n",
    "        return mesolve(Hqz_t(), psi0z, tlist, collapse_list(), expected_ops, args = args,options= Options(nsteps=10000))"
   ]
  },
  {
   "cell_type": "markdown",
   "metadata": {},
   "source": [
    "### $\\frac{\\pi}{2}$  pulse"
   ]
  },
  {
   "cell_type": "code",
   "execution_count": 104,
   "metadata": {
    "collapsed": false
   },
   "outputs": [
    {
     "name": "stdout",
     "output_type": "stream",
     "text": [
      "10.0%. Run time:   0.01s. Est. time left: 00:00:00:00\n",
      "20.0%. Run time:   0.01s. Est. time left: 00:00:00:00\n",
      "30.0%. Run time:   0.02s. Est. time left: 00:00:00:00\n",
      "40.0%. Run time:   0.02s. Est. time left: 00:00:00:00\n",
      "50.0%. Run time:   0.03s. Est. time left: 00:00:00:00\n",
      "60.0%. Run time:   0.03s. Est. time left: 00:00:00:00\n",
      "70.0%. Run time:   0.04s. Est. time left: 00:00:00:00\n",
      "80.0%. Run time:   0.04s. Est. time left: 00:00:00:00\n",
      "90.0%. Run time:   0.04s. Est. time left: 00:00:00:00\n",
      "Total run time:   0.05s\n",
      "0.0\n"
     ]
    },
    {
     "data": {
      "image/png": "[encoded data removed]",
      "text/plain": [
       "<matplotlib.figure.Figure at 0x7f62793a5550>"
      ]
     },
     "metadata": {},
     "output_type": "display_data"
    }
   ],
   "source": [
    "args['b'] = args['a'] + np.pi/f/2\n",
    "maxtime = 40\n",
    "tlist = np.linspace(0,maxtime,points)\n",
    "output = solve(expected)\n",
    "print(output.expect[2][-1])\n",
    "vis_out(output, \"\")#r\"$\\frac{\\pi}{2}$ pulse\""
   ]
  },
  {
   "cell_type": "markdown",
   "metadata": {},
   "source": [
    "### $\\pi$  pulse"
   ]
  },
  {
   "cell_type": "code",
   "execution_count": 105,
   "metadata": {
    "collapsed": false
   },
   "outputs": [
    {
     "name": "stdout",
     "output_type": "stream",
     "text": [
      "10.0%. Run time:   0.00s. Est. time left: 00:00:00:00\n",
      "20.0%. Run time:   0.01s. Est. time left: 00:00:00:00\n",
      "30.0%. Run time:   0.02s. Est. time left: 00:00:00:00\n",
      "40.0%. Run time:   0.02s. Est. time left: 00:00:00:00\n",
      "50.0%. Run time:   0.03s. Est. time left: 00:00:00:00\n",
      "60.0%. Run time:   0.03s. Est. time left: 00:00:00:00\n",
      "70.0%. Run time:   0.04s. Est. time left: 00:00:00:00\n",
      "80.0%. Run time:   0.04s. Est. time left: 00:00:00:00\n",
      "90.0%. Run time:   0.04s. Est. time left: 00:00:00:00\n",
      "Total run time:   0.05s\n",
      "0.0\n"
     ]
    },
    {
     "data": {
      "image/png": "[encoded data removed]",
      "text/plain": [
       "<matplotlib.figure.Figure at 0x7f6276a77a58>"
      ]
     },
     "metadata": {},
     "output_type": "display_data"
    }
   ],
   "source": [
    "args['b'] = args['a'] + np.pi/f\n",
    "maxtime = 40\n",
    "tlist = np.linspace(0,maxtime,points)\n",
    "output = solve(expected)\n",
    "print(output.expect[2][-1])\n",
    "vis_out(output, \"\")"
   ]
  },
  {
   "cell_type": "code",
   "execution_count": null,
   "metadata": {
    "collapsed": true
   },
   "outputs": [],
   "source": []
  },
  {
   "cell_type": "code",
   "execution_count": null,
   "metadata": {
    "collapsed": true
   },
   "outputs": [],
   "source": []
  }
 ],
 "metadata": {
  "kernelspec": {
   "display_name": "Python 3",
   "language": "python",
   "name": "python3"
  },
  "language_info": {
   "codemirror_mode": {
    "name": "ipython",
    "version": 3
   },
   "file_extension": ".py",
   "mimetype": "text/x-python",
   "name": "python",
   "nbconvert_exporter": "python",
   "pygments_lexer": "ipython3",
   "version": "3.5.2"
  }
 },
 "nbformat": 4,
 "nbformat_minor": 2
}
