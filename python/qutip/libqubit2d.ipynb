{
 "cells": [
  {
   "cell_type": "markdown",
   "metadata": {},
   "source": [
    "#### Imports"
   ]
  },
  {
   "cell_type": "code",
   "execution_count": 1,
   "metadata": {
    "collapsed": true
   },
   "outputs": [],
   "source": [
    "from qutip import *\n",
    "from qutip.operators import *\n",
    "import matplotlib.pyplot as plt\n",
    "import numpy as np\n",
    "%matplotlib inline\n",
    "from cython import *\n",
    "from sympy import lambdify\n",
    "import sympy as sp\n",
    "import copy\n",
    "import functools"
   ]
  },
  {
   "cell_type": "code",
   "execution_count": 2,
   "metadata": {
    "collapsed": true
   },
   "outputs": [],
   "source": [
    "class Empty(object):\n",
    "    def __init__(self):\n",
    "        pass"
   ]
  },
  {
   "cell_type": "code",
   "execution_count": 3,
   "metadata": {
    "collapsed": false
   },
   "outputs": [],
   "source": [
    "class Model:\n",
    "    \"base class with nice init function\"\n",
    "    default = Empty()\n",
    "    class_params = []\n",
    "    \n",
    "    def update_or_copy(obj, kvargs, params, just_update = False):\n",
    "        for pk in params:\n",
    "            if not just_update and pk in obj.default.__dict__:\n",
    "                obj.__dict__[pk] = copy.copy(obj.default.__dict__[pk])\n",
    "            if pk in kvargs and not kvargs[pk] is None:\n",
    "                if isinstance(obj.__dict__[pk], dict):\n",
    "                    obj.__dict__[pk].update(kvargs[pk])\n",
    "                else:\n",
    "                    obj.__dict__[pk] = copy.copy(kvargs[pk])\n",
    "    def __init__(self, **kvargs):\n",
    "        self.update_or_copy(kvargs, self.class_params)\n",
    "    def update(self, **kvargs):\n",
    "        print(kvargs)\n",
    "        self.update_or_copy(kvargs, self.class_params, True)"
   ]
  },
  {
   "cell_type": "code",
   "execution_count": 4,
   "metadata": {
    "collapsed": false
   },
   "outputs": [],
   "source": [
    "class Pulse(Model):\n",
    "    '''simple rectangular curved pulse'''\n",
    "    default = Empty()\n",
    "    default.params = {\n",
    "        'f' : 0.1,\n",
    "        'a':2.5,\n",
    "        'b':2.5 + 3.92,\n",
    "        'st':0.001\n",
    "    }\n",
    "    default.shape = \"f*0.5*(tanh((t-a)/st) - tanh((t-b)/st))\"\n",
    "    default.time = {\n",
    "        'points' : 100,\n",
    "        'maxtime' : 10,\n",
    "        'tlist' : np.linspace(0,10,100)\n",
    "    }\n",
    "    class_params = ['params','time','shape']\n",
    "    \n",
    "    def function(self):\n",
    "        params = set(self.params.keys())\n",
    "        params.add('t')\n",
    "        return lambdify(params, self.shape, 'numpy')\n",
    "    def function_t(self,offset = 0):\n",
    "        spf = sp.sympify(self.shape) + offset\n",
    "        tosubs = []\n",
    "        for k,v in self.params.items():\n",
    "            tosubs.append((sp.symbols(k),v))\n",
    "        new_spf = spf.subs(tosubs)\n",
    "        return lambdify({'t'},str(new_spf),'numpy') \n",
    "    def timelist(self):\n",
    "        self.time['tlist'] = np.linspace(0,self.time['maxtime'],self.time['points'])\n",
    "        return self.time['tlist']\n",
    "    def plot(self, title = 'Pulse'):\n",
    "        fig, ax = plt.subplots(1,1, figsize=(13,5), sharey=True, dpi =600)\n",
    "        ax.set_title(title)\n",
    "        labels = ['pulse']\n",
    "        params_for_graph = dict(self.params)\n",
    "        params_for_graph['t'] = self.timelist()\n",
    "        ax.plot(self.timelist(), self.function()(**params_for_graph), label=(labels[0]), linewidth = 1 )\n",
    "        ax.legend(bbox_to_anchor = [1,1],loc = \"upper right\")\n",
    "        ax.set_xlabel('Time')\n",
    "        ax.set_ylabel('Magnitude')\n"
   ]
  },
  {
   "cell_type": "code",
   "execution_count": 35,
   "metadata": {
    "collapsed": true
   },
   "outputs": [],
   "source": [
    "class Vis2D(Model):\n",
    "    def plot(self, title = 'Qubit'):\n",
    "        fig, ax = plt.subplots(1,1, figsize=(4,3), sharey=True, dpi =600)\n",
    "        ax.set_title(title);\n",
    "        labels = ['$\\sigma_x(t)$','$\\sigma_y(t)$','$\\sigma_z(t)$']\n",
    "        for idx, op in enumerate(self.result.expect):\n",
    "            ax.plot(self.timelist(), op, label=(labels[idx]), linewidth = 3 )\n",
    "            #ax.plot(tlist, oldoutput.expect[1+idx], label=\"Transmon %i state\"%idx)\n",
    "            #ax.plot(tlist, 0.2+ 0.1*time_c_func(a=a,b=b,st=st,t=tlist,w=Eq,phase1=phase1,phase2=phase2,a2=a2,b2=b2),label=\"pulse (not exact)\")\n",
    "            ax.set_ylim(-1.2,1.2)\n",
    "\n",
    "        ax.legend(bbox_to_anchor = [1,1],loc = \"upper right\")\n",
    "        ax.set_xlabel('Time')\n",
    "\n",
    "        ax.set_ylabel('Occupation probability')\n",
    "        return fig,ax"
   ]
  },
  {
   "cell_type": "code",
   "execution_count": 36,
   "metadata": {
    "collapsed": true
   },
   "outputs": [],
   "source": [
    "class Original2D(Vis2D):\n",
    "    '''2 dimensional model without RWA / not in RF'''\n",
    "    default = Empty()\n",
    "    default.params = {\n",
    "        'Eq' : 1,\n",
    "        'psi0' : basis(2,0)\n",
    "    }\n",
    "    \n",
    "    default.pulse = [\n",
    "        Pulse(shape = \"f*(cos(w*t + phase))*0.5*(tanh((t-a)/st) - tanh((t-b)/st))\", params = {'phase' : 0, 'w' : default.params['Eq']}),\n",
    "        Pulse(shape = \"f*(sin(w*t + phase))*0.5*(tanh((t-a)/st) - tanh((t-b)/st))\", params = {'phase' : 0, 'w' : default.params['Eq']})\n",
    "    ]\n",
    "    default.Hf = [\n",
    "        sigmaz()/2,\n",
    "        sigmax()/2,\n",
    "        sigmay()/2\n",
    "    ]\n",
    "    class_params = ['params','pulse','Hf']\n",
    "    \n",
    "    def update_pulse(self, **new_params):\n",
    "        for p in self.pulse:\n",
    "            p.update(params = new_params['params'] if 'params' in new_params else None , \n",
    "                     time = new_params['time'] if 'time' in new_params else None, \n",
    "                     shape = new_params['shape'] if 'shape' in new_params else None)\n",
    "    def HTD(self):\n",
    "        \"time dependendent Hamiltonian\"\n",
    "        return [self.params['Eq']*self.Hf[0],[self.Hf[1],self.pulse[0].shape],[self.Hf[2],self.pulse[1].shape]]\n",
    "    def args(self):\n",
    "        arguments = {}\n",
    "        for p in self.pulse:\n",
    "            arguments.update(p.params)\n",
    "        return arguments\n",
    "    \n",
    "    def timelist(self):\n",
    "        return self.pulse[0].timelist()\n",
    "    \n",
    "    def solve(self, expected_ops = [sigmax(),sigmay(),sigmaz()]):\n",
    "        self.result = mesolve(self.HTD(),self.params['psi0'], self.timelist(), [],expected_ops, args = self.args(),options= Options(nsteps=10000), progress_bar=True)"
   ]
  },
  {
   "cell_type": "code",
   "execution_count": 37,
   "metadata": {
    "collapsed": false
   },
   "outputs": [],
   "source": [
    "class Simple2D(Original2D):\n",
    "    '''2 dimensional model without RWA / in RF'''\n",
    "    default = Empty()\n",
    "    default.params = {\n",
    "        'Eq' : 1,\n",
    "        'psi0' : basis(2,0)\n",
    "    }\n",
    "    \n",
    "    default.pulse = [\n",
    "        Pulse(shape = \"f*(cos(phase) + cos(2*w*t + phase))*0.5*(tanh((t-a)/st) - tanh((t-b)/st))\", params = {'phase' : 0, 'w' : default.params['Eq']}),\n",
    "        Pulse(shape = \"f*(-sin(phase) + sin(2*w*t + phase))*0.5*(tanh((t-a)/st) - tanh((t-b)/st))\", params = {'phase' : 0, 'w' : default.params['Eq']})\n",
    "    ]\n",
    "    default.Hf = [\n",
    "        sigmax()/2,\n",
    "        sigmay()/2\n",
    "    ]\n",
    "    class_params = ['params','pulse','Hf']\n",
    "    \n",
    "      \n",
    "    \n",
    "    def HTD(self):\n",
    "        \"time dependendent Hamiltonian\"\n",
    "        return [[self.Hf[0],self.pulse[0].shape],[self.Hf[1],self.pulse[1].shape]]\n",
    "    \n",
    "   "
   ]
  },
  {
   "cell_type": "code",
   "execution_count": 38,
   "metadata": {
    "collapsed": false
   },
   "outputs": [],
   "source": [
    "class RWA2D(Simple2D):\n",
    "    \"2 dimensional model with RWA\"\n",
    "    default = Empty()\n",
    "    default.params = {\n",
    "        'Eq' : 1,\n",
    "        'psi0' : basis(2,0)\n",
    "    }\n",
    "    default.pulse = [\n",
    "        Pulse(shape = \"f*0.5*(tanh((t-a)/st) - tanh((t-b)/st))*cos(phase)\", params = {'phase' : 0}),\n",
    "        Pulse(shape = \"f*0.5*(tanh((t-a)/st) - tanh((t-b)/st))*sin(phase)\", params = {'phase' : 0})\n",
    "    ]\n",
    "    default.Hf = [\n",
    "        sigmay()/2,\n",
    "        sigmax()/2\n",
    "    ]\n",
    "    class_params = ['params','pulse','Hf']\n",
    "    "
   ]
  },
  {
   "cell_type": "code",
   "execution_count": 68,
   "metadata": {
    "collapsed": false
   },
   "outputs": [
    {
     "name": "stdout",
     "output_type": "stream",
     "text": [
      "{'shape': None, 'params': {'f': 0.04}, 'time': None}\n",
      "{'shape': None, 'params': {'f': 0.04}, 'time': None}\n",
      "{'shape': None, 'params': {'b': 41.769908169872416}, 'time': {'points': 1000, 'maxtime': 50}}\n",
      "{'shape': None, 'params': {'b': 41.769908169872416}, 'time': {'points': 1000, 'maxtime': 50}}\n"
     ]
    }
   ],
   "source": [
    "a = Simple2D()\n",
    "a.update_pulse(params={'f':0.04})\n",
    "a.update_pulse(time = {'maxtime' : 50,'points':1000},params={'b' : a.pulse[0].params['a'] + np.pi/2 / a.pulse[0].params['f']})"
   ]
  },
  {
   "cell_type": "code",
   "execution_count": 69,
   "metadata": {
    "collapsed": false
   },
   "outputs": [
    {
     "name": "stdout",
     "output_type": "stream",
     "text": [
      "10.0%. Run time:   0.04s. Est. time left: 00:00:00:00\n",
      "20.0%. Run time:   0.08s. Est. time left: 00:00:00:00\n",
      "30.0%. Run time:   0.11s. Est. time left: 00:00:00:00\n",
      "40.0%. Run time:   0.14s. Est. time left: 00:00:00:00\n",
      "50.0%. Run time:   0.18s. Est. time left: 00:00:00:00\n",
      "60.0%. Run time:   0.21s. Est. time left: 00:00:00:00\n",
      "70.0%. Run time:   0.24s. Est. time left: 00:00:00:00\n",
      "80.0%. Run time:   0.27s. Est. time left: 00:00:00:00\n",
      "90.0%. Run time:   0.29s. Est. time left: 00:00:00:00\n",
      "Total run time:   0.31s\n"
     ]
    }
   ],
   "source": [
    "a.solve()\n"
   ]
  },
  {
   "cell_type": "code",
   "execution_count": 70,
   "metadata": {
    "collapsed": false
   },
   "outputs": [
    {
     "data": {
      "image/png": "[encoded data removed]",
      "text/plain": [
       "<matplotlib.figure.Figure at 0x7f7888566eb8>"
      ]
     },
     "metadata": {},
     "output_type": "display_data"
    }
   ],
   "source": [
    "fig,ax = a.plot()\n",
    "ax.set_title(\"\")\n",
    "ax.set_ylabel(\"\")\n",
    "ax.grid()\n"
   ]
  },
  {
   "cell_type": "code",
   "execution_count": 75,
   "metadata": {
    "collapsed": false
   },
   "outputs": [
    {
     "data": {
      "text/plain": [
       "<matplotlib.legend.Legend at 0x7f7887e6fa20>"
      ]
     },
     "execution_count": 75,
     "metadata": {},
     "output_type": "execute_result"
    },
    {
     "data": {
      "image/png": "[encoded data removed]",
      "text/plain": [
       "<matplotlib.figure.Figure at 0x7f788add1a90>"
      ]
     },
     "metadata": {},
     "output_type": "display_data"
    }
   ],
   "source": [
    "fig,ax = a.plot()\n",
    "ax.set_title(\"\")\n",
    "ax.set_ylabel(\"\")\n",
    "ax.grid()\n",
    "ax.set_xlim([0,10])\n",
    "ax.set_ylim([-0.3,0.1])\n",
    "ax.legend(bbox_to_anchor = [0,0],loc = \"lower left\")"
   ]
  },
  {
   "cell_type": "code",
   "execution_count": null,
   "metadata": {
    "collapsed": true
   },
   "outputs": [],
   "source": []
  }
 ],
 "metadata": {
  "kernelspec": {
   "display_name": "Python 3",
   "language": "python",
   "name": "python3"
  },
  "language_info": {
   "codemirror_mode": {
    "name": "ipython",
    "version": 3
   },
   "file_extension": ".py",
   "mimetype": "text/x-python",
   "name": "python",
   "nbconvert_exporter": "python",
   "pygments_lexer": "ipython3",
   "version": "3.5.2"
  }
 },
 "nbformat": 4,
 "nbformat_minor": 2
}
