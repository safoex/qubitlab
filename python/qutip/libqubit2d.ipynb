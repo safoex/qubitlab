{
 "cells": [
  {
   "cell_type": "markdown",
   "metadata": {},
   "source": [
    "#### Imports"
   ]
  },
  {
   "cell_type": "code",
   "execution_count": 1,
   "metadata": {
    "collapsed": true
   },
   "outputs": [],
   "source": [
    "from qutip import *\n",
    "from qutip.operators import *\n",
    "import matplotlib.pyplot as plt\n",
    "import numpy as np\n",
    "%matplotlib inline\n",
    "from cython import *\n",
    "from sympy import lambdify\n",
    "import copy\n",
    "import functools"
   ]
  },
  {
   "cell_type": "code",
   "execution_count": 2,
   "metadata": {
    "collapsed": true
   },
   "outputs": [],
   "source": [
    "class Empty(object):\n",
    "    def __init__(self):\n",
    "        pass"
   ]
  },
  {
   "cell_type": "code",
   "execution_count": 3,
   "metadata": {
    "collapsed": false
   },
   "outputs": [],
   "source": [
    "class Model:\n",
    "    \"base class with nice init function\"\n",
    "    default = Empty()\n",
    "    class_params = []\n",
    "    \n",
    "    def update_or_copy(obj, kvargs, params, just_update = False):\n",
    "        for pk in params:\n",
    "            if not just_update and pk in obj.default.__dict__:\n",
    "                obj.__dict__[pk] = copy.copy(obj.default.__dict__[pk])\n",
    "            if pk in kvargs and not kvargs[pk] is None:\n",
    "                if isinstance(obj.__dict__[pk], dict):\n",
    "                    obj.__dict__[pk].update(kvargs[pk])\n",
    "                else:\n",
    "                    obj.__dict__[pk] = copy.copy(kvargs[pk])\n",
    "    def __init__(self, **kvargs):\n",
    "        self.update_or_copy(kvargs, self.class_params)\n",
    "    def update(self, **kvargs):\n",
    "        print(kvargs)\n",
    "        self.update_or_copy(kvargs, self.class_params, True)"
   ]
  },
  {
   "cell_type": "code",
   "execution_count": 11,
   "metadata": {
    "collapsed": false
   },
   "outputs": [],
   "source": [
    "class Pulse(Model):\n",
    "    '''simple rectangular curved pulse'''\n",
    "    default = Empty()\n",
    "    default.params = {\n",
    "        'f' : 0.1,\n",
    "        'a':2.5,\n",
    "        'b':2.5 + 3.92,\n",
    "        'st':0.001\n",
    "    }\n",
    "    default.shape = \"f*0.5*(tanh((t-a)/st) - tanh((t-b)/st))\"\n",
    "    default.time = {\n",
    "        'points' : 100,\n",
    "        'maxtime' : 10,\n",
    "        'tlist' : np.linspace(0,10,100)\n",
    "    }\n",
    "    class_params = ['params','time','shape']\n",
    "    \n",
    "    def function(self):\n",
    "        params = set(self.params.keys())\n",
    "        params.add('t')\n",
    "        return lambdify(params, self.shape, 'numpy')\n",
    "    \n",
    "    def timelist(self):\n",
    "        self.time['tlist'] = np.linspace(0,self.time['maxtime'],self.time['points'])\n",
    "        return self.time['tlist']\n",
    "    def plot(self, title = 'Pulse'):\n",
    "        fig, ax = plt.subplots(1,1, figsize=(13,5), sharey=True, dpi =600)\n",
    "        ax.set_title(title)\n",
    "        labels = ['pulse']\n",
    "        params_for_graph = dict(self.params)\n",
    "        params_for_graph['t'] = self.timelist()\n",
    "        ax.plot(self.timelist(), self.function()(**params_for_graph), label=(labels[0]), linewidth = 1 )\n",
    "        ax.legend(bbox_to_anchor = [1,1],loc = \"upper right\")\n",
    "        ax.set_xlabel('Time')\n",
    "        ax.set_ylabel('Magnitude')\n"
   ]
  },
  {
   "cell_type": "code",
   "execution_count": 11,
   "metadata": {
    "collapsed": true
   },
   "outputs": [],
   "source": [
    "class Vis2D(Model):\n",
    "    def plot(self, title = 'Qubit'):\n",
    "        fig, ax = plt.subplots(1,1, figsize=(6,5), sharey=True, dpi =600)\n",
    "        ax.set_title(title);\n",
    "        labels = ['$\\sigma_x(t)$','$\\sigma_y(t)$','$\\sigma_z(t)$']\n",
    "        for idx, op in enumerate(self.result.expect):\n",
    "            ax.plot(self.timelist(), op, label=(labels[idx]), linewidth = 3 )\n",
    "            #ax.plot(tlist, oldoutput.expect[1+idx], label=\"Transmon %i state\"%idx)\n",
    "            #ax.plot(tlist, 0.2+ 0.1*time_c_func(a=a,b=b,st=st,t=tlist,w=Eq,phase1=phase1,phase2=phase2,a2=a2,b2=b2),label=\"pulse (not exact)\")\n",
    "            ax.set_ylim(-1.2,1.2)\n",
    "\n",
    "        ax.legend(bbox_to_anchor = [1,1],loc = \"upper right\")\n",
    "        ax.set_xlabel('Time')\n",
    "\n",
    "        ax.set_ylabel('Occupation probability')"
   ]
  },
  {
   "cell_type": "code",
   "execution_count": 12,
   "metadata": {
    "collapsed": false
   },
   "outputs": [],
   "source": [
    "class Simple2D(Vis2D):\n",
    "    '''2 dimensional model without RWA'''\n",
    "    default = Empty()\n",
    "    default.params = {\n",
    "        'Eq' : 1,\n",
    "        'psi0' : basis(2,0)\n",
    "    }\n",
    "    \n",
    "    default.pulse = [\n",
    "        Pulse(shape = \"f*(cos(phase) + cos(2*w*t + phase))*0.5*(tanh((t-a)/st) - tanh((t-b)/st))\", params = {'phase' : 0, 'w' : default.params['Eq']}),\n",
    "        Pulse(shape = \"f*(-sin(phase) + sin(2*w*t + phase))*0.5*(tanh((t-a)/st) - tanh((t-b)/st))\", params = {'phase' : 0, 'w' : default.params['Eq']})\n",
    "    ]\n",
    "    default.Hf = [\n",
    "        sigmax()/2,\n",
    "        sigmay()/2\n",
    "    ]\n",
    "    class_params = ['params','pulse','Hf']\n",
    "    \n",
    "    def update_pulse(self, **new_params):\n",
    "        for p in self.pulse:\n",
    "            p.update(params = new_params['params'] if 'params' in new_params else None , \n",
    "                     time = new_params['time'] if 'time' in new_params else None, \n",
    "                     shape = new_params['shape'] if 'shape' in new_params else None)\n",
    "            \n",
    "    \n",
    "    def HTD(self):\n",
    "        \"time dependendent Hamiltonian\"\n",
    "        return [[self.Hf[0],self.pulse[0].shape],[self.Hf[1],self.pulse[1].shape]]\n",
    "    \n",
    "    def args(self):\n",
    "        arguments = {}\n",
    "        for p in self.pulse:\n",
    "            arguments.update(p.params)\n",
    "        return arguments\n",
    "    \n",
    "    def timelist(self):\n",
    "        return self.pulse[0].timelist()\n",
    "    \n",
    "    def solve(self, expected_ops = [sigmax(),sigmay(),sigmaz()]):\n",
    "        self.result = mesolve(self.HTD(),self.params['psi0'], self.timelist(), [],expected_ops, args = self.args(),options= Options(nsteps=10000), progress_bar=True)"
   ]
  },
  {
   "cell_type": "code",
   "execution_count": 13,
   "metadata": {
    "collapsed": false
   },
   "outputs": [],
   "source": [
    "class RWA2D(Simple2D):\n",
    "    \"2 dimensional model with RWA\"\n",
    "    default = Empty()\n",
    "    default.params = {\n",
    "        'Eq' : 1,\n",
    "        'psi0' : basis(2,0)\n",
    "    }\n",
    "    default.pulse = [\n",
    "        Pulse(shape = \"f*0.5*(tanh((t-a)/st) - tanh((t-b)/st))*cos(phase)\", params = {'phase' : 0}),\n",
    "        Pulse(shape = \"f*0.5*(tanh((t-a)/st) - tanh((t-b)/st))*sin(phase)\", params = {'phase' : 0})\n",
    "    ]\n",
    "    default.Hf = [\n",
    "        sigmay()/2,\n",
    "        sigmax()/2\n",
    "    ]\n",
    "    class_params = ['params','pulse','Hf']\n",
    "    "
   ]
  },
  {
   "cell_type": "code",
   "execution_count": 14,
   "metadata": {
    "collapsed": false
   },
   "outputs": [
    {
     "name": "stdout",
     "output_type": "stream",
     "text": [
      "{'shape': None, 'time': {'maxtime': 40}, 'params': {'a': 10, 'b': 25.707963267948966}}\n",
      "{'shape': None, 'time': {'maxtime': 40}, 'params': {'a': 10, 'b': 25.707963267948966}}\n"
     ]
    },
    {
     "data": {
      "text/plain": [
       "{'a': 10, 'b': 25.707963267948966, 'f': 0.1, 'phase': 0, 'st': 0.001}"
      ]
     },
     "execution_count": 14,
     "metadata": {},
     "output_type": "execute_result"
    }
   ],
   "source": [
    "model = RWA2D()\n",
    "\n",
    "model.update_pulse(params = {'a' : 10, 'b' : 10 + np.pi/Pulse.default.params['f']/2}, time = {'maxtime': 40})\n",
    "\n",
    "a = model.args()\n",
    "a"
   ]
  },
  {
   "cell_type": "code",
   "execution_count": 9,
   "metadata": {
    "collapsed": false
   },
   "outputs": [
    {
     "name": "stdout",
     "output_type": "stream",
     "text": [
      "10.0%. Run time:   0.00s. Est. time left: 00:00:00:00\n",
      "20.0%. Run time:   0.01s. Est. time left: 00:00:00:00\n",
      "30.0%. Run time:   0.02s. Est. time left: 00:00:00:00\n",
      "40.0%. Run time:   0.02s. Est. time left: 00:00:00:00\n",
      "50.0%. Run time:   0.03s. Est. time left: 00:00:00:00\n",
      "60.0%. Run time:   0.04s. Est. time left: 00:00:00:00\n",
      "70.0%. Run time:   0.04s. Est. time left: 00:00:00:00\n",
      "80.0%. Run time:   0.05s. Est. time left: 00:00:00:00\n",
      "90.0%. Run time:   0.05s. Est. time left: 00:00:00:00\n",
      "Total run time:   0.05s\n"
     ]
    },
    {
     "data": {
      "image/png": "[encoded data removed]",
      "text/plain": [
       "<matplotlib.figure.Figure at 0x7f6960535e48>"
      ]
     },
     "metadata": {},
     "output_type": "display_data"
    }
   ],
   "source": [
    "#model.solve()\n",
    "#model.plot()"
   ]
  },
  {
   "cell_type": "code",
   "execution_count": null,
   "metadata": {
    "collapsed": true
   },
   "outputs": [],
   "source": []
  }
 ],
 "metadata": {
  "kernelspec": {
   "display_name": "Python 3",
   "language": "python",
   "name": "python3"
  },
  "language_info": {
   "codemirror_mode": {
    "name": "ipython",
    "version": 3
   },
   "file_extension": ".py",
   "mimetype": "text/x-python",
   "name": "python",
   "nbconvert_exporter": "python",
   "pygments_lexer": "ipython3",
   "version": "3.5.2"
  }
 },
 "nbformat": 4,
 "nbformat_minor": 2
}
